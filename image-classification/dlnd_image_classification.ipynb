{
 "cells": [
  {
   "cell_type": "markdown",
   "metadata": {
    "collapsed": true
   },
   "source": [
    "# Image Classification\n",
    "In this project, you'll classify images from the [CIFAR-10 dataset](https://www.cs.toronto.edu/~kriz/cifar.html).  The dataset consists of airplanes, dogs, cats, and other objects. You'll preprocess the images, then train a convolutional neural network on all the samples. The images need to be normalized and the labels need to be one-hot encoded.  You'll get to apply what you learned and build a convolutional, max pooling, dropout, and fully connected layers.  At the end, you'll get to see your neural network's predictions on the sample images.\n",
    "## Get the Data\n",
    "Run the following cell to download the [CIFAR-10 dataset for python](https://www.cs.toronto.edu/~kriz/cifar-10-python.tar.gz)."
   ]
  },
  {
   "cell_type": "code",
   "execution_count": 1,
   "metadata": {},
   "outputs": [
    {
     "name": "stdout",
     "output_type": "stream",
     "text": [
      "All files found!\n"
     ]
    }
   ],
   "source": [
    "\"\"\"\n",
    "DON'T MODIFY ANYTHING IN THIS CELL THAT IS BELOW THIS LINE\n",
    "\"\"\"\n",
    "from urllib.request import urlretrieve\n",
    "from os.path import isfile, isdir\n",
    "from tqdm import tqdm\n",
    "import problem_unittests as tests\n",
    "import tarfile\n",
    "\n",
    "cifar10_dataset_folder_path = 'cifar-10-batches-py'\n",
    "\n",
    "# Use Floyd's cifar-10 dataset if present\n",
    "floyd_cifar10_location = '/input/cifar-10/python.tar.gz'\n",
    "if isfile(floyd_cifar10_location):\n",
    "    tar_gz_path = floyd_cifar10_location\n",
    "else:\n",
    "    tar_gz_path = 'cifar-10-python.tar.gz'\n",
    "\n",
    "class DLProgress(tqdm):\n",
    "    last_block = 0\n",
    "\n",
    "    def hook(self, block_num=1, block_size=1, total_size=None):\n",
    "        self.total = total_size\n",
    "        self.update((block_num - self.last_block) * block_size)\n",
    "        self.last_block = block_num\n",
    "\n",
    "if not isfile(tar_gz_path):\n",
    "    with DLProgress(unit='B', unit_scale=True, miniters=1, desc='CIFAR-10 Dataset') as pbar:\n",
    "        urlretrieve(\n",
    "            'https://www.cs.toronto.edu/~kriz/cifar-10-python.tar.gz',\n",
    "            tar_gz_path,\n",
    "            pbar.hook)\n",
    "\n",
    "if not isdir(cifar10_dataset_folder_path):\n",
    "    with tarfile.open(tar_gz_path) as tar:\n",
    "        tar.extractall()\n",
    "        tar.close()\n",
    "\n",
    "\n",
    "tests.test_folder_path(cifar10_dataset_folder_path)"
   ]
  },
  {
   "cell_type": "markdown",
   "metadata": {},
   "source": [
    "## Explore the Data\n",
    "The dataset is broken into batches to prevent your machine from running out of memory.  The CIFAR-10 dataset consists of 5 batches, named `data_batch_1`, `data_batch_2`, etc.. Each batch contains the labels and images that are one of the following:\n",
    "* airplane\n",
    "* automobile\n",
    "* bird\n",
    "* cat\n",
    "* deer\n",
    "* dog\n",
    "* frog\n",
    "* horse\n",
    "* ship\n",
    "* truck\n",
    "\n",
    "Understanding a dataset is part of making predictions on the data.  Play around with the code cell below by changing the `batch_id` and `sample_id`. The `batch_id` is the id for a batch (1-5). The `sample_id` is the id for a image and label pair in the batch.\n",
    "\n",
    "Ask yourself \"What are all possible labels?\", \"What is the range of values for the image data?\", \"Are the labels in order or random?\".  Answers to questions like these will help you preprocess the data and end up with better predictions."
   ]
  },
  {
   "cell_type": "code",
   "execution_count": 2,
   "metadata": {},
   "outputs": [
    {
     "name": "stdout",
     "output_type": "stream",
     "text": [
      "\n",
      "Stats of batch 1:\n",
      "Samples: 10000\n",
      "Label Counts: {0: 1005, 1: 974, 2: 1032, 3: 1016, 4: 999, 5: 937, 6: 1030, 7: 1001, 8: 1025, 9: 981}\n",
      "First 20 Labels: [6, 9, 9, 4, 1, 1, 2, 7, 8, 3, 4, 7, 7, 2, 9, 9, 9, 3, 2, 6]\n",
      "\n",
      "Example of Image 5:\n",
      "Image - Min Value: 0 Max Value: 252\n",
      "Image - Shape: (32, 32, 3)\n",
      "Label - Label Id: 1 Name: automobile\n"
     ]
    },
    {
     "data": {
      "image/png": "[encoded data removed]",
      "text/plain": [
       "<matplotlib.figure.Figure at 0x7f9219865400>"
      ]
     },
     "metadata": {
      "image/png": {
       "height": 250,
       "width": 253
      }
     },
     "output_type": "display_data"
    }
   ],
   "source": [
    "%matplotlib inline\n",
    "%config InlineBackend.figure_format = 'retina'\n",
    "\n",
    "import helper\n",
    "import numpy as np\n",
    "\n",
    "# Explore the dataset\n",
    "batch_id = 1\n",
    "sample_id = 5\n",
    "helper.display_stats(cifar10_dataset_folder_path, batch_id, sample_id)"
   ]
  },
  {
   "cell_type": "code",
   "execution_count": 3,
   "metadata": {},
   "outputs": [
    {
     "data": {
      "text/plain": [
       "'cifar-10-python.tar.gz'"
      ]
     },
     "execution_count": 3,
     "metadata": {},
     "output_type": "execute_result"
    }
   ],
   "source": [
    "tar_gz_path"
   ]
  },
  {
   "cell_type": "markdown",
   "metadata": {},
   "source": [
    "## Implement Preprocess Functions\n",
    "### Normalize\n",
    "In the cell below, implement the `normalize` function to take in image data, `x`, and return it as a normalized Numpy array. The values should be in the range of 0 to 1, inclusive.  The return object should be the same shape as `x`."
   ]
  },
  {
   "cell_type": "code",
   "execution_count": 4,
   "metadata": {},
   "outputs": [
    {
     "name": "stdout",
     "output_type": "stream",
     "text": [
      "Tests Passed\n"
     ]
    }
   ],
   "source": [
    "def normalize(x):\n",
    "    \"\"\"\n",
    "    Normalize a list of sample image data in the range of 0 to 1\n",
    "    : x: List of image data.  The image shape is (32, 32, 3)\n",
    "    : return: Numpy array of normalize data\n",
    "    \"\"\"\n",
    "    x=x.astype('float32')\n",
    "    \n",
    "    return x/255.0\n",
    "\n",
    "\n",
    "\"\"\"\n",
    "DON'T MODIFY ANYTHING IN THIS CELL THAT IS BELOW THIS LINE\n",
    "\"\"\"\n",
    "tests.test_normalize(normalize)"
   ]
  },
  {
   "cell_type": "markdown",
   "metadata": {},
   "source": [
    "### One-hot encode\n",
    "Just like the previous code cell, you'll be implementing a function for preprocessing.  This time, you'll implement the `one_hot_encode` function. The input, `x`, are a list of labels.  Implement the function to return the list of labels as One-Hot encoded Numpy array.  The possible values for labels are 0 to 9. The one-hot encoding function should return the same encoding for each value between each call to `one_hot_encode`.  Make sure to save the map of encodings outside the function.\n",
    "\n",
    "Hint: Don't reinvent the wheel."
   ]
  },
  {
   "cell_type": "code",
   "execution_count": 5,
   "metadata": {},
   "outputs": [
    {
     "name": "stdout",
     "output_type": "stream",
     "text": [
      "Tests Passed\n"
     ]
    }
   ],
   "source": [
    "def one_hot_encode(x):\n",
    "    \"\"\"\n",
    "    One hot encode a list of sample labels. Return a one-hot encoded vector for each label.\n",
    "    : x: List of sample Labels\n",
    "    : return: Numpy array of one-hot encoded labels\n",
    "    \"\"\"\n",
    "    a = np.zeros((len(x),10))\n",
    "    \n",
    "    a[np.arange(len(x)),x]=1\n",
    "    return a\n",
    "\n",
    "\n",
    "\"\"\"\n",
    "DON'T MODIFY ANYTHING IN THIS CELL THAT IS BELOW THIS LINE\n",
    "\"\"\"\n",
    "tests.test_one_hot_encode(one_hot_encode)"
   ]
  },
  {
   "cell_type": "markdown",
   "metadata": {},
   "source": [
    "### Randomize Data\n",
    "As you saw from exploring the data above, the order of the samples are randomized.  It doesn't hurt to randomize it again, but you don't need to for this dataset."
   ]
  },
  {
   "cell_type": "markdown",
   "metadata": {},
   "source": [
    "## Preprocess all the data and save it\n",
    "Running the code cell below will preprocess all the CIFAR-10 data and save it to file. The code below also uses 10% of the training data for validation."
   ]
  },
  {
   "cell_type": "code",
   "execution_count": 6,
   "metadata": {
    "collapsed": true
   },
   "outputs": [],
   "source": [
    "\"\"\"\n",
    "DON'T MODIFY ANYTHING IN THIS CELL\n",
    "\"\"\"\n",
    "# Preprocess Training, Validation, and Testing Data\n",
    "helper.preprocess_and_save_data(cifar10_dataset_folder_path, normalize, one_hot_encode)"
   ]
  },
  {
   "cell_type": "markdown",
   "metadata": {},
   "source": [
    "# Check Point\n",
    "This is your first checkpoint.  If you ever decide to come back to this notebook or have to restart the notebook, you can start from here.  The preprocessed data has been saved to disk."
   ]
  },
  {
   "cell_type": "code",
   "execution_count": 7,
   "metadata": {
    "collapsed": true
   },
   "outputs": [],
   "source": [
    "\"\"\"\n",
    "DON'T MODIFY ANYTHING IN THIS CELL\n",
    "\"\"\"\n",
    "import pickle\n",
    "import problem_unittests as tests\n",
    "import helper\n",
    "\n",
    "# Load the Preprocessed Validation data\n",
    "valid_features, valid_labels = pickle.load(open('preprocess_validation.p', mode='rb'))"
   ]
  },
  {
   "cell_type": "markdown",
   "metadata": {},
   "source": [
    "## Build the network\n",
    "For the neural network, you'll build each layer into a function.  Most of the code you've seen has been outside of functions. To test your code more thoroughly, we require that you put each layer in a function.  This allows us to give you better feedback and test for simple mistakes using our unittests before you submit your project.\n",
    "\n",
    ">**Note:** If you're finding it hard to dedicate enough time for this course each week, we've provided a small shortcut to this part of the project. In the next couple of problems, you'll have the option to use classes from the [TensorFlow Layers](https://www.tensorflow.org/api_docs/python/tf/layers) or [TensorFlow Layers (contrib)](https://www.tensorflow.org/api_guides/python/contrib.layers) packages to build each layer, except the layers you build in the \"Convolutional and Max Pooling Layer\" section.  TF Layers is similar to Keras's and TFLearn's abstraction to layers, so it's easy to pickup.\n",
    "\n",
    ">However, if you would like to get the most out of this course, try to solve all the problems _without_ using anything from the TF Layers packages. You **can** still use classes from other packages that happen to have the same name as ones you find in TF Layers! For example, instead of using the TF Layers version of the `conv2d` class, [tf.layers.conv2d](https://www.tensorflow.org/api_docs/python/tf/layers/conv2d), you would want to use the TF Neural Network version of `conv2d`, [tf.nn.conv2d](https://www.tensorflow.org/api_docs/python/tf/nn/conv2d). \n",
    "\n",
    "Let's begin!\n",
    "\n",
    "### Input\n",
    "The neural network needs to read the image data, one-hot encoded labels, and dropout keep probability. Implement the following functions\n",
    "* Implement `neural_net_image_input`\n",
    " * Return a [TF Placeholder](https://www.tensorflow.org/api_docs/python/tf/placeholder)\n",
    " * Set the shape using `image_shape` with batch size set to `None`.\n",
    " * Name the TensorFlow placeholder \"x\" using the TensorFlow `name` parameter in the [TF Placeholder](https://www.tensorflow.org/api_docs/python/tf/placeholder).\n",
    "* Implement `neural_net_label_input`\n",
    " * Return a [TF Placeholder](https://www.tensorflow.org/api_docs/python/tf/placeholder)\n",
    " * Set the shape using `n_classes` with batch size set to `None`.\n",
    " * Name the TensorFlow placeholder \"y\" using the TensorFlow `name` parameter in the [TF Placeholder](https://www.tensorflow.org/api_docs/python/tf/placeholder).\n",
    "* Implement `neural_net_keep_prob_input`\n",
    " * Return a [TF Placeholder](https://www.tensorflow.org/api_docs/python/tf/placeholder) for dropout keep probability.\n",
    " * Name the TensorFlow placeholder \"keep_prob\" using the TensorFlow `name` parameter in the [TF Placeholder](https://www.tensorflow.org/api_docs/python/tf/placeholder).\n",
    "\n",
    "These names will be used at the end of the project to load your saved model.\n",
    "\n",
    "Note: `None` for shapes in TensorFlow allow for a dynamic size."
   ]
  },
  {
   "cell_type": "code",
   "execution_count": 8,
   "metadata": {},
   "outputs": [
    {
     "name": "stdout",
     "output_type": "stream",
     "text": [
      "Image Input Tests Passed.\n",
      "Label Input Tests Passed.\n",
      "Keep Prob Tests Passed.\n"
     ]
    }
   ],
   "source": [
    "import tensorflow as tf\n",
    "\n",
    "def neural_net_image_input(image_shape):\n",
    "    \"\"\"\n",
    "    Return a Tensor for a batch of image input\n",
    "    : image_shape: Shape of the images\n",
    "    : return: Tensor for image input.\n",
    "    \"\"\"\n",
    "    # TODO: Implement Function\n",
    "    input= tf.placeholder(tf.float32,(None,)+(image_shape),name=\"x\")\n",
    "    return input\n",
    "\n",
    "def neural_net_label_input(n_classes):\n",
    "    \"\"\"\n",
    "    Return a Tensor for a batch of label input\n",
    "    : n_classes: Number of classes\n",
    "    : return: Tensor for label input.\n",
    "    \"\"\"\n",
    "    # TODO: Implement Function\n",
    "    return tf.placeholder(tf.float32,[None,n_classes],name=\"y\")\n",
    "\n",
    "\n",
    "def neural_net_keep_prob_input():\n",
    "    \"\"\"\n",
    "    Return a Tensor for keep probability\n",
    "    : return: Tensor for keep probability.\n",
    "    \"\"\"\n",
    "    # TODO: Implement Function\n",
    "    return tf.placeholder(tf.float32,name=\"keep_prob\")\n",
    "\n",
    "\n",
    "\"\"\"\n",
    "DON'T MODIFY ANYTHING IN THIS CELL THAT IS BELOW THIS LINE\n",
    "\"\"\"\n",
    "tf.reset_default_graph()\n",
    "tests.test_nn_image_inputs(neural_net_image_input)\n",
    "tests.test_nn_label_inputs(neural_net_label_input)\n",
    "tests.test_nn_keep_prob_inputs(neural_net_keep_prob_input)"
   ]
  },
  {
   "cell_type": "markdown",
   "metadata": {},
   "source": [
    "### Convolution and Max Pooling Layer\n",
    "Convolution layers have a lot of success with images. For this code cell, you should implement the function `conv2d_maxpool` to apply convolution then max pooling:\n",
    "* Create the weight and bias using `conv_ksize`, `conv_num_outputs` and the shape of `x_tensor`.\n",
    "* Apply a convolution to `x_tensor` using weight and `conv_strides`.\n",
    " * We recommend you use same padding, but you're welcome to use any padding.\n",
    "* Add bias\n",
    "* Add a nonlinear activation to the convolution.\n",
    "* Apply Max Pooling using `pool_ksize` and `pool_strides`.\n",
    " * We recommend you use same padding, but you're welcome to use any padding.\n",
    "\n",
    "**Note:** You **can't** use [TensorFlow Layers](https://www.tensorflow.org/api_docs/python/tf/layers) or [TensorFlow Layers (contrib)](https://www.tensorflow.org/api_guides/python/contrib.layers) for **this** layer, but you can still use TensorFlow's [Neural Network](https://www.tensorflow.org/api_docs/python/tf/nn) package. You may still use the shortcut option for all the **other** layers."
   ]
  },
  {
   "cell_type": "code",
   "execution_count": 9,
   "metadata": {},
   "outputs": [
    {
     "name": "stdout",
     "output_type": "stream",
     "text": [
      "Tests Passed\n"
     ]
    }
   ],
   "source": [
    "def conv2d_maxpool(x_tensor, conv_num_outputs, conv_ksize, conv_strides, pool_ksize, pool_strides):\n",
    "    \"\"\"\n",
    "    Apply convolution then max pooling to x_tensor\n",
    "    :param x_tensor: TensorFlow Tensor\n",
    "    :param conv_num_outputs: Number of outputs for the convolutional layer\n",
    "    :param conv_ksize: kernal size 2-D Tuple for the convolutional layer\n",
    "    :param conv_strides: Stride 2-D Tuple for convolution\n",
    "    :param pool_ksize: kernal size 2-D Tuple for pool\n",
    "    :param pool_strides: Stride 2-D Tuple for pool\n",
    "    : return: A tensor that represents convolution and max pooling of x_tensor\n",
    "    \"\"\"\n",
    "\n",
    "    filter_weights = tf.Variable(tf.truncated_normal((conv_ksize+(x_tensor.shape[3].value,conv_num_outputs,))))\n",
    "    filter_bias = tf.Variable(tf.zeros(conv_num_outputs))\n",
    "    stride =(1,)+conv_strides+(1,)\n",
    "    conv= tf.nn.conv2d(x_tensor,filter_weights,stride,'SAME')+filter_bias\n",
    "    conv = tf.nn.relu(conv)\n",
    "    conv = tf.nn.max_pool(conv,ksize=[1]+list(pool_ksize)+[1],padding='SAME',strides=[1]+list(pool_strides)+[1])\n",
    "    return conv \n",
    "\n",
    "\n",
    "\"\"\"\n",
    "DON'T MODIFY ANYTHING IN THIS CELL THAT IS BELOW THIS LINE\n",
    "\"\"\"\n",
    "tests.test_con_pool(conv2d_maxpool)"
   ]
  },
  {
   "cell_type": "markdown",
   "metadata": {},
   "source": [
    "### Flatten Layer\n",
    "Implement the `flatten` function to change the dimension of `x_tensor` from a 4-D tensor to a 2-D tensor.  The output should be the shape (*Batch Size*, *Flattened Image Size*). Shortcut option: you can use classes from the [TensorFlow Layers](https://www.tensorflow.org/api_docs/python/tf/layers) or [TensorFlow Layers (contrib)](https://www.tensorflow.org/api_guides/python/contrib.layers) packages for this layer. For more of a challenge, only use other TensorFlow packages."
   ]
  },
  {
   "cell_type": "code",
   "execution_count": 10,
   "metadata": {},
   "outputs": [
    {
     "name": "stdout",
     "output_type": "stream",
     "text": [
      "Tests Passed\n"
     ]
    }
   ],
   "source": [
    "def flatten(x_tensor):\n",
    "    \"\"\"\n",
    "    Flatten x_tensor to (Batch Size, Flattened Image Size)\n",
    "    : x_tensor: A tensor of size (Batch Size, ...), where ... are the image dimensions.\n",
    "    : return: A tensor of size (Batch Size, Flattened Image Size).\n",
    "    \"\"\"\n",
    "\n",
    "    size = x_tensor.shape[1].value*x_tensor.shape[2].value*x_tensor.shape[3].value\n",
    "    return tf.reshape(x_tensor,[-1,size])\n",
    "\n",
    "\n",
    "\"\"\"\n",
    "DON'T MODIFY ANYTHING IN THIS CELL THAT IS BELOW THIS LINE\n",
    "\"\"\"\n",
    "tests.test_flatten(flatten)"
   ]
  },
  {
   "cell_type": "markdown",
   "metadata": {},
   "source": [
    "### Fully-Connected Layer\n",
    "Implement the `fully_conn` function to apply a fully connected layer to `x_tensor` with the shape (*Batch Size*, *num_outputs*). Shortcut option: you can use classes from the [TensorFlow Layers](https://www.tensorflow.org/api_docs/python/tf/layers) or [TensorFlow Layers (contrib)](https://www.tensorflow.org/api_guides/python/contrib.layers) packages for this layer. For more of a challenge, only use other TensorFlow packages."
   ]
  },
  {
   "cell_type": "code",
   "execution_count": 11,
   "metadata": {},
   "outputs": [
    {
     "name": "stdout",
     "output_type": "stream",
     "text": [
      "Tensor(\"Placeholder_2:0\", shape=(?, 128), dtype=float32)\n",
      "40\n",
      "Tests Passed\n"
     ]
    }
   ],
   "source": [
    "def fully_conn(x_tensor, num_outputs):\n",
    "    \"\"\"\n",
    "    Apply a fully connected layer to x_tensor using weight and bias\n",
    "    : x_tensor: A 2-D tensor where the first dimension is batch size.\n",
    "    : num_outputs: The number of output that the new tensor should be.\n",
    "    : return: A 2-D tensor where the second dimension is num_outputs.\n",
    "    \"\"\"\n",
    "    print(x_tensor)\n",
    "    print(num_outputs)\n",
    "    weights = tf.Variable(tf.truncated_normal((x_tensor.shape[1].value,num_outputs)))\n",
    "    biases = tf.Variable(tf.zeros((num_outputs)))\n",
    "    conv=tf.add(tf.matmul(x_tensor,weights), biases)\n",
    "    conv=tf.nn.relu(conv)\n",
    " \n",
    "    \n",
    "  \n",
    "    return conv\n",
    "\n",
    "\n",
    "\"\"\"\n",
    "DON'T MODIFY ANYTHING IN THIS CELL THAT IS BELOW THIS LINE\n",
    "\"\"\"\n",
    "tests.test_fully_conn(fully_conn)"
   ]
  },
  {
   "cell_type": "markdown",
   "metadata": {},
   "source": [
    "### Output Layer\n",
    "Implement the `output` function to apply a fully connected layer to `x_tensor` with the shape (*Batch Size*, *num_outputs*). Shortcut option: you can use classes from the [TensorFlow Layers](https://www.tensorflow.org/api_docs/python/tf/layers) or [TensorFlow Layers (contrib)](https://www.tensorflow.org/api_guides/python/contrib.layers) packages for this layer. For more of a challenge, only use other TensorFlow packages.\n",
    "\n",
    "**Note:** Activation, softmax, or cross entropy should **not** be applied to this."
   ]
  },
  {
   "cell_type": "code",
   "execution_count": 12,
   "metadata": {},
   "outputs": [
    {
     "name": "stdout",
     "output_type": "stream",
     "text": [
      "Tests Passed\n"
     ]
    }
   ],
   "source": [
    "def output(x_tensor, num_outputs):\n",
    "    \"\"\"\n",
    "    Apply a output layer to x_tensor using weight and bias\n",
    "    : x_tensor: A 2-D tensor where the first dimension is batch size.\n",
    "    : num_outputs: The number of output that the new tensor should be.\n",
    "    : return: A 2-D tensor where the second dimension is num_outputs.\n",
    "    \"\"\"\n",
    "    \n",
    "    weights = tf.Variable(tf.truncated_normal((x_tensor.shape[1].value,num_outputs)))\n",
    "    biases = tf.Variable(tf.zeros((num_outputs)))\n",
    "    return  tf.add(tf.matmul(x_tensor,weights),biases)\n",
    "\n",
    "\n",
    "\"\"\"\n",
    "DON'T MODIFY ANYTHING IN THIS CELL THAT IS BELOW THIS LINE\n",
    "\"\"\"\n",
    "tests.test_output(output)"
   ]
  },
  {
   "cell_type": "markdown",
   "metadata": {},
   "source": [
    "### Create Convolutional Model\n",
    "Implement the function `conv_net` to create a convolutional neural network model. The function takes in a batch of images, `x`, and outputs logits.  Use the layers you created above to create this model:\n",
    "\n",
    "* Apply 1, 2, or 3 Convolution and Max Pool layers\n",
    "* Apply a Flatten Layer\n",
    "* Apply 1, 2, or 3 Fully Connected Layers\n",
    "* Apply an Output Layer\n",
    "* Return the output\n",
    "* Apply [TensorFlow's Dropout](https://www.tensorflow.org/api_docs/python/tf/nn/dropout) to one or more layers in the model using `keep_prob`. "
   ]
  },
  {
   "cell_type": "code",
   "execution_count": 13,
   "metadata": {},
   "outputs": [
    {
     "name": "stdout",
     "output_type": "stream",
     "text": [
      "conv--> Tensor(\"MaxPool_3:0\", shape=(?, 2, 2, 128), dtype=float32)\n",
      "Tensor(\"Reshape:0\", shape=(?, 512), dtype=float32)\n",
      "conv--> Tensor(\"MaxPool_7:0\", shape=(?, 2, 2, 128), dtype=float32)\n",
      "Tensor(\"Reshape_4:0\", shape=(?, 512), dtype=float32)\n",
      "Neural Network Built!\n"
     ]
    }
   ],
   "source": [
    "def conv_net(x, keep_prob):\n",
    "  \n",
    "    \"\"\"\n",
    "    Create a convolutional neural network model\n",
    "    : x: Placeholder tensor that holds image data.\n",
    "    : keep_prob: Placeholder tensor that hold dropout keep probability.\n",
    "    : return: Tensor that represents logits\n",
    "    \"\"\"\n",
    "    # TODO: Apply 1, 2, or 3 Convolution and Max Pool layers\n",
    "    #    Play around with different number of outputs, kernel size and stride\n",
    "    # Function Definition from Above:\n",
    "    #    conv2d_maxpool(x_tensor, conv_num_outputs, conv_ksize, conv_strides, pool_ksize, pool_strides)\n",
    "    conv = conv2d_maxpool(x,16,(5,5),(1,1),(5,2),(2,2))\n",
    "    conv = conv2d_maxpool(conv,32,(5,5),(1,1),(5,2),(2,2))\n",
    "    conv = conv2d_maxpool(conv,64,(5,5),(1,1),(5,2),(2,2))\n",
    "    conv = conv2d_maxpool(conv,128,(5,5),(1,1),(5,2),(2,2))\n",
    "\n",
    "    \n",
    "    #conv = conv2d_maxpool(conv,20,(5,5),(2,2),(5,2),(2,2))\n",
    "    #conv = conv2d_maxpool(conv,128,(5,5),(1,1),(5,2),(2,2))\n",
    "    print('conv-->',conv)\n",
    "    conv = flatten(conv)\n",
    "    \n",
    "\n",
    "    #conv=fully_conn(conv,1024)\n",
    "    #conv = tf.nn.dropout(conv,keep_prob)\n",
    "    #conv=fully_conn(conv, 64)\n",
    "    #conv = tf.nn.dropout(conv,keep_prob)\n",
    "    print(conv)\n",
    "    # TODO: Apply an Output Layer\n",
    "    #    Set this to the number of classes\n",
    "    # Function Definition from Above:\n",
    "    #   output(x_tensor, num_outputs)\n",
    "    conv = output(conv, 10)\n",
    "    \n",
    "    \n",
    "    # TODO: return output\n",
    "    return conv\n",
    "\n",
    "\n",
    "\"\"\"\n",
    "DON'T MODIFY ANYTHING IN THIS CELL THAT IS BELOW THIS LINE\n",
    "\"\"\"\n",
    "\n",
    "##############################\n",
    "## Build the Neural Network ##\n",
    "##############################\n",
    "\n",
    "# Remove previous weights, bias, inputs, etc..\n",
    "tf.reset_default_graph()\n",
    "\n",
    "# Inputs\n",
    "x = neural_net_image_input((32, 32, 3))\n",
    "y = neural_net_label_input(10)\n",
    "keep_prob = neural_net_keep_prob_input()\n",
    "\n",
    "# Model\n",
    "logits = conv_net(x, keep_prob)\n",
    "\n",
    "# Name logits Tensor, so that is can be loaded from disk after training\n",
    "logits = tf.identity(logits, name='logits')\n",
    "\n",
    "# Loss and Optimizer\n",
    "cost = tf.reduce_mean(tf.nn.softmax_cross_entropy_with_logits(logits=logits, labels=y))\n",
    "optimizer = tf.train.AdamOptimizer().minimize(cost)\n",
    "\n",
    "# Accuracy\n",
    "correct_pred = tf.equal(tf.argmax(logits, 1), tf.argmax(y, 1))\n",
    "accuracy = tf.reduce_mean(tf.cast(correct_pred, tf.float32), name='accuracy')\n",
    "\n",
    "tests.test_conv_net(conv_net)"
   ]
  },
  {
   "cell_type": "markdown",
   "metadata": {},
   "source": [
    "## Train the Neural Network\n",
    "### Single Optimization\n",
    "Implement the function `train_neural_network` to do a single optimization.  The optimization should use `optimizer` to optimize in `session` with a `feed_dict` of the following:\n",
    "* `x` for image input\n",
    "* `y` for labels\n",
    "* `keep_prob` for keep probability for dropout\n",
    "\n",
    "This function will be called for each batch, so `tf.global_variables_initializer()` has already been called.\n",
    "\n",
    "Note: Nothing needs to be returned. This function is only optimizing the neural network."
   ]
  },
  {
   "cell_type": "code",
   "execution_count": 14,
   "metadata": {},
   "outputs": [
    {
     "name": "stdout",
     "output_type": "stream",
     "text": [
      "Tests Passed\n"
     ]
    }
   ],
   "source": [
    "def train_neural_network(session, optimizer, keep_probability, feature_batch, label_batch):\n",
    "    \"\"\"\n",
    "    Optimize the session on a batch of images and labels\n",
    "    : session: Current TensorFlow session\n",
    "    : optimizer: TensorFlow optimizer function\n",
    "    : keep_probability: keep probability\n",
    "    : feature_batch: Batch of Numpy image data\n",
    "    : label_batch: Batch of Numpy label data\n",
    "    \"\"\"\n",
    "    session.run(optimizer,feed_dict={x:feature_batch,y:label_batch,keep_prob:keep_probability})\n",
    "  \n",
    "\n",
    "\n",
    "\"\"\"\n",
    "DON'T MODIFY ANYTHING IN THIS CELL THAT IS BELOW THIS LINE\n",
    "\"\"\"\n",
    "tests.test_train_nn(train_neural_network)"
   ]
  },
  {
   "cell_type": "markdown",
   "metadata": {},
   "source": [
    "### Show Stats\n",
    "Implement the function `print_stats` to print loss and validation accuracy.  Use the global variables `valid_features` and `valid_labels` to calculate validation accuracy.  Use a keep probability of `1.0` to calculate the loss and validation accuracy."
   ]
  },
  {
   "cell_type": "code",
   "execution_count": 15,
   "metadata": {
    "collapsed": true
   },
   "outputs": [],
   "source": [
    "def print_stats(session, feature_batch, label_batch, cost, accuracy):\n",
    "    \"\"\"\n",
    "    Print information about loss and validation accuracy\n",
    "    : session: Current TensorFlow session\n",
    "    : feature_batch: Batch of Numpy image data\n",
    "    : label_batch: Batch of Numpy label data\n",
    "    : cost: TensorFlow cost function\n",
    "    : accuracy: TensorFlow accuracy function\n",
    "    \"\"\"\n",
    "    loss=session.run(cost,feed_dict={x:feature_batch,y:label_batch,keep_prob:1.0})\n",
    "    acc=session.run(accuracy,feed_dict={x:valid_features,y:valid_labels,keep_prob:1.0})\n",
    "    print('Loss: {:>10.4f} Validation Accuracy: {:.6f}'.format(loss,acc))\n",
    "    "
   ]
  },
  {
   "cell_type": "markdown",
   "metadata": {},
   "source": [
    "### Hyperparameters\n",
    "Tune the following parameters:\n",
    "* Set `epochs` to the number of iterations until the network stops learning or start overfitting\n",
    "* Set `batch_size` to the highest number that your machine has memory for.  Most people set them to common sizes of memory:\n",
    " * 64\n",
    " * 128\n",
    " * 256\n",
    " * ...\n",
    "* Set `keep_probability` to the probability of keeping a node using dropout"
   ]
  },
  {
   "cell_type": "code",
   "execution_count": 16,
   "metadata": {
    "collapsed": true
   },
   "outputs": [],
   "source": [
    "# TODO: Tune Parameters\n",
    "epochs = 60\n",
    "batch_size =512\n",
    "keep_probability = 0.75"
   ]
  },
  {
   "cell_type": "markdown",
   "metadata": {},
   "source": [
    "### Train on a Single CIFAR-10 Batch\n",
    "Instead of training the neural network on all the CIFAR-10 batches of data, let's use a single batch. This should save time while you iterate on the model to get a better accuracy.  Once the final validation accuracy is 50% or greater, run the model on all the data in the next section."
   ]
  },
  {
   "cell_type": "code",
   "execution_count": 19,
   "metadata": {},
   "outputs": [
    {
     "name": "stdout",
     "output_type": "stream",
     "text": [
      "Checking the Training on a Single Batch...\n",
      "Epoch  1, CIFAR-10 Batch 1:  Loss: 66748.9062 Validation Accuracy: 0.115800\n",
      "Epoch  2, CIFAR-10 Batch 1:  Loss: 45525.2500 Validation Accuracy: 0.170400\n",
      "Epoch  3, CIFAR-10 Batch 1:  Loss: 36562.6953 Validation Accuracy: 0.193600\n",
      "Epoch  4, CIFAR-10 Batch 1:  Loss: 31052.5918 Validation Accuracy: 0.207400\n",
      "Epoch  5, CIFAR-10 Batch 1:  Loss: 26976.8164 Validation Accuracy: 0.218600\n",
      "Epoch  6, CIFAR-10 Batch 1:  Loss: 24270.1289 Validation Accuracy: 0.232200\n",
      "Epoch  7, CIFAR-10 Batch 1:  Loss: 22232.9902 Validation Accuracy: 0.243200\n",
      "Epoch  8, CIFAR-10 Batch 1:  Loss: 20444.1191 Validation Accuracy: 0.249600\n",
      "Epoch  9, CIFAR-10 Batch 1:  Loss: 19019.7031 Validation Accuracy: 0.256400\n",
      "Epoch 10, CIFAR-10 Batch 1:  Loss: 17582.8223 Validation Accuracy: 0.260600\n",
      "Epoch 11, CIFAR-10 Batch 1:  Loss: 16373.0439 Validation Accuracy: 0.264600\n",
      "Epoch 12, CIFAR-10 Batch 1:  Loss: 15281.1279 Validation Accuracy: 0.267000\n",
      "Epoch 13, CIFAR-10 Batch 1:  Loss: 14272.3291 Validation Accuracy: 0.273800\n",
      "Epoch 14, CIFAR-10 Batch 1:  Loss: 13304.2197 Validation Accuracy: 0.277200\n",
      "Epoch 15, CIFAR-10 Batch 1:  Loss: 12497.0537 Validation Accuracy: 0.276600\n",
      "Epoch 16, CIFAR-10 Batch 1:  Loss: 11832.8340 Validation Accuracy: 0.282400\n",
      "Epoch 17, CIFAR-10 Batch 1:  Loss: 11071.1084 Validation Accuracy: 0.282200\n",
      "Epoch 18, CIFAR-10 Batch 1:  Loss: 10533.3535 Validation Accuracy: 0.286600\n",
      "Epoch 19, CIFAR-10 Batch 1:  Loss: 10045.0625 Validation Accuracy: 0.287400\n",
      "Epoch 20, CIFAR-10 Batch 1:  Loss:  9491.2402 Validation Accuracy: 0.289000\n",
      "Epoch 21, CIFAR-10 Batch 1:  Loss:  9019.4932 Validation Accuracy: 0.290400\n",
      "Epoch 22, CIFAR-10 Batch 1:  Loss:  8581.5205 Validation Accuracy: 0.294000\n",
      "Epoch 23, CIFAR-10 Batch 1:  Loss:  8233.7441 Validation Accuracy: 0.295200\n",
      "Epoch 24, CIFAR-10 Batch 1:  Loss:  7885.6826 Validation Accuracy: 0.293800\n",
      "Epoch 25, CIFAR-10 Batch 1:  Loss:  7466.3901 Validation Accuracy: 0.298400\n",
      "Epoch 26, CIFAR-10 Batch 1:  Loss:  7134.6421 Validation Accuracy: 0.302200\n",
      "Epoch 27, CIFAR-10 Batch 1:  Loss:  6830.5449 Validation Accuracy: 0.298000\n",
      "Epoch 28, CIFAR-10 Batch 1:  Loss:  6572.7324 Validation Accuracy: 0.299200\n",
      "Epoch 29, CIFAR-10 Batch 1:  Loss:  6329.7090 Validation Accuracy: 0.301400\n",
      "Epoch 30, CIFAR-10 Batch 1:  Loss:  6109.8970 Validation Accuracy: 0.303000\n",
      "Epoch 31, CIFAR-10 Batch 1:  Loss:  5875.5981 Validation Accuracy: 0.303200\n",
      "Epoch 32, CIFAR-10 Batch 1:  Loss:  5663.7422 Validation Accuracy: 0.307000\n",
      "Epoch 33, CIFAR-10 Batch 1:  Loss:  5377.2061 Validation Accuracy: 0.306600\n",
      "Epoch 34, CIFAR-10 Batch 1:  Loss:  5161.0708 Validation Accuracy: 0.303600\n",
      "Epoch 35, CIFAR-10 Batch 1:  Loss:  4994.3979 Validation Accuracy: 0.305400\n",
      "Epoch 36, CIFAR-10 Batch 1:  Loss:  4858.6392 Validation Accuracy: 0.307400\n",
      "Epoch 37, CIFAR-10 Batch 1:  Loss:  4868.5879 Validation Accuracy: 0.313800\n",
      "Epoch 38, CIFAR-10 Batch 1:  Loss:  4767.1748 Validation Accuracy: 0.311400\n",
      "Epoch 39, CIFAR-10 Batch 1:  Loss:  4453.1797 Validation Accuracy: 0.313800\n",
      "Epoch 40, CIFAR-10 Batch 1:  Loss:  4197.8267 Validation Accuracy: 0.313400\n",
      "Epoch 41, CIFAR-10 Batch 1:  Loss:  4002.3691 Validation Accuracy: 0.316400\n",
      "Epoch 42, CIFAR-10 Batch 1:  Loss:  3680.2241 Validation Accuracy: 0.316800\n",
      "Epoch 43, CIFAR-10 Batch 1:  Loss:  3701.5457 Validation Accuracy: 0.313400\n",
      "Epoch 44, CIFAR-10 Batch 1:  Loss:  3636.0225 Validation Accuracy: 0.310800\n",
      "Epoch 45, CIFAR-10 Batch 1:  Loss:  3362.2244 Validation Accuracy: 0.317400\n",
      "Epoch 46, CIFAR-10 Batch 1:  Loss:  3282.3423 Validation Accuracy: 0.319800\n",
      "Epoch 47, CIFAR-10 Batch 1:  Loss:  3100.1399 Validation Accuracy: 0.323400\n",
      "Epoch 48, CIFAR-10 Batch 1:  Loss:  3019.5439 Validation Accuracy: 0.318600\n",
      "Epoch 49, CIFAR-10 Batch 1:  Loss:  2979.4729 Validation Accuracy: 0.318400\n",
      "Epoch 50, CIFAR-10 Batch 1:  Loss:  2953.0632 Validation Accuracy: 0.316600\n",
      "Epoch 51, CIFAR-10 Batch 1:  Loss:  3060.1992 Validation Accuracy: 0.313600\n",
      "Epoch 52, CIFAR-10 Batch 1:  Loss:  2822.3955 Validation Accuracy: 0.320200\n",
      "Epoch 53, CIFAR-10 Batch 1:  Loss:  2726.5825 Validation Accuracy: 0.326400\n",
      "Epoch 54, CIFAR-10 Batch 1:  Loss:  2668.2378 Validation Accuracy: 0.326000\n",
      "Epoch 55, CIFAR-10 Batch 1:  Loss:  2532.7358 Validation Accuracy: 0.326800\n",
      "Epoch 56, CIFAR-10 Batch 1:  Loss:  2454.6360 Validation Accuracy: 0.325200\n",
      "Epoch 57, CIFAR-10 Batch 1:  Loss:  2358.4861 Validation Accuracy: 0.321600\n",
      "Epoch 58, CIFAR-10 Batch 1:  Loss:  2337.0356 Validation Accuracy: 0.320800\n",
      "Epoch 59, CIFAR-10 Batch 1:  Loss:  2194.2129 Validation Accuracy: 0.327800\n",
      "Epoch 60, CIFAR-10 Batch 1:  Loss:  2186.2974 Validation Accuracy: 0.330800\n"
     ]
    }
   ],
   "source": [
    "\"\"\"\n",
    "DON'T MODIFY ANYTHING IN THIS CELL\n",
    "\"\"\"\n",
    "print('Checking the Training on a Single Batch...')\n",
    "with tf.Session() as sess:\n",
    "    # Initializing the variables\n",
    "    sess.run(tf.global_variables_initializer())\n",
    "    \n",
    "    # Training cycle\n",
    "    for epoch in range(epochs):\n",
    "        batch_i = 1\n",
    "        for batch_features, batch_labels in helper.load_preprocess_training_batch(batch_i, batch_size):\n",
    "            train_neural_network(sess, optimizer, keep_probability, batch_features, batch_labels)\n",
    "        print('Epoch {:>2}, CIFAR-10 Batch {}:  '.format(epoch + 1, batch_i), end='')\n",
    "        print_stats(sess, batch_features, batch_labels, cost, accuracy)"
   ]
  },
  {
   "cell_type": "markdown",
   "metadata": {},
   "source": [
    "### Fully Train the Model\n",
    "Now that you got a good accuracy with a single CIFAR-10 batch, try it with all five batches."
   ]
  },
  {
   "cell_type": "code",
   "execution_count": 17,
   "metadata": {},
   "outputs": [
    {
     "name": "stdout",
     "output_type": "stream",
     "text": [
      "Training...\n",
      "Epoch  1, CIFAR-10 Batch 1:  Loss: 195635.2812 Validation Accuracy: 0.113800\n",
      "Epoch  1, CIFAR-10 Batch 2:  Loss: 86524.2344 Validation Accuracy: 0.142600\n",
      "Epoch  1, CIFAR-10 Batch 3:  Loss: 64792.3633 Validation Accuracy: 0.149800\n",
      "Epoch  1, CIFAR-10 Batch 4:  Loss: 54110.3438 Validation Accuracy: 0.165800\n",
      "Epoch  1, CIFAR-10 Batch 5:  Loss: 51203.5820 Validation Accuracy: 0.185000\n",
      "Epoch  2, CIFAR-10 Batch 1:  Loss: 48175.2305 Validation Accuracy: 0.187400\n",
      "Epoch  2, CIFAR-10 Batch 2:  Loss: 40373.6055 Validation Accuracy: 0.204200\n",
      "Epoch  2, CIFAR-10 Batch 3:  Loss: 39897.9375 Validation Accuracy: 0.201200\n",
      "Epoch  2, CIFAR-10 Batch 4:  Loss: 36656.5430 Validation Accuracy: 0.213000\n",
      "Epoch  2, CIFAR-10 Batch 5:  Loss: 37117.6836 Validation Accuracy: 0.224800\n",
      "Epoch  3, CIFAR-10 Batch 1:  Loss: 34980.0273 Validation Accuracy: 0.222600\n",
      "Epoch  3, CIFAR-10 Batch 2:  Loss: 30313.2734 Validation Accuracy: 0.229800\n",
      "Epoch  3, CIFAR-10 Batch 3:  Loss: 28951.6562 Validation Accuracy: 0.230800\n",
      "Epoch  3, CIFAR-10 Batch 4:  Loss: 27556.6230 Validation Accuracy: 0.228200\n",
      "Epoch  3, CIFAR-10 Batch 5:  Loss: 29745.4805 Validation Accuracy: 0.237800\n",
      "Epoch  4, CIFAR-10 Batch 1:  Loss: 28301.4688 Validation Accuracy: 0.236200\n",
      "Epoch  4, CIFAR-10 Batch 2:  Loss: 24798.6309 Validation Accuracy: 0.239200\n",
      "Epoch  4, CIFAR-10 Batch 3:  Loss: 23363.7539 Validation Accuracy: 0.238400\n",
      "Epoch  4, CIFAR-10 Batch 4:  Loss: 22390.3535 Validation Accuracy: 0.243400\n",
      "Epoch  4, CIFAR-10 Batch 5:  Loss: 24038.0059 Validation Accuracy: 0.251000\n",
      "Epoch  5, CIFAR-10 Batch 1:  Loss: 23001.6055 Validation Accuracy: 0.253200\n",
      "Epoch  5, CIFAR-10 Batch 2:  Loss: 20697.5938 Validation Accuracy: 0.255800\n",
      "Epoch  5, CIFAR-10 Batch 3:  Loss: 20083.5469 Validation Accuracy: 0.256600\n",
      "Epoch  5, CIFAR-10 Batch 4:  Loss: 18412.9180 Validation Accuracy: 0.262000\n",
      "Epoch  5, CIFAR-10 Batch 5:  Loss: 20618.7168 Validation Accuracy: 0.264200\n",
      "Epoch  6, CIFAR-10 Batch 1:  Loss: 19420.0820 Validation Accuracy: 0.265600\n",
      "Epoch  6, CIFAR-10 Batch 2:  Loss: 17820.1855 Validation Accuracy: 0.266200\n",
      "Epoch  6, CIFAR-10 Batch 3:  Loss: 16898.9160 Validation Accuracy: 0.272600\n",
      "Epoch  6, CIFAR-10 Batch 4:  Loss: 15709.6484 Validation Accuracy: 0.272000\n",
      "Epoch  6, CIFAR-10 Batch 5:  Loss: 17600.6934 Validation Accuracy: 0.274200\n",
      "Epoch  7, CIFAR-10 Batch 1:  Loss: 16376.6133 Validation Accuracy: 0.276400\n",
      "Epoch  7, CIFAR-10 Batch 2:  Loss: 15444.0371 Validation Accuracy: 0.272400\n",
      "Epoch  7, CIFAR-10 Batch 3:  Loss: 14253.2451 Validation Accuracy: 0.281600\n",
      "Epoch  7, CIFAR-10 Batch 4:  Loss: 13431.2383 Validation Accuracy: 0.283800\n",
      "Epoch  7, CIFAR-10 Batch 5:  Loss: 15573.6318 Validation Accuracy: 0.284800\n",
      "Epoch  8, CIFAR-10 Batch 1:  Loss: 13902.4463 Validation Accuracy: 0.287000\n",
      "Epoch  8, CIFAR-10 Batch 2:  Loss: 13554.7959 Validation Accuracy: 0.281200\n",
      "Epoch  8, CIFAR-10 Batch 3:  Loss: 12788.7588 Validation Accuracy: 0.288400\n",
      "Epoch  8, CIFAR-10 Batch 4:  Loss: 11581.9893 Validation Accuracy: 0.293600\n",
      "Epoch  8, CIFAR-10 Batch 5:  Loss: 13721.3936 Validation Accuracy: 0.291400\n",
      "Epoch  9, CIFAR-10 Batch 1:  Loss: 12243.7363 Validation Accuracy: 0.294000\n",
      "Epoch  9, CIFAR-10 Batch 2:  Loss: 12106.0957 Validation Accuracy: 0.285000\n",
      "Epoch  9, CIFAR-10 Batch 3:  Loss: 11822.2061 Validation Accuracy: 0.293600\n",
      "Epoch  9, CIFAR-10 Batch 4:  Loss: 10205.4346 Validation Accuracy: 0.299400\n",
      "Epoch  9, CIFAR-10 Batch 5:  Loss: 12070.3564 Validation Accuracy: 0.296400\n",
      "Epoch 10, CIFAR-10 Batch 1:  Loss: 11013.0127 Validation Accuracy: 0.297800\n",
      "Epoch 10, CIFAR-10 Batch 2:  Loss: 11024.4805 Validation Accuracy: 0.296800\n",
      "Epoch 10, CIFAR-10 Batch 3:  Loss: 10367.2080 Validation Accuracy: 0.293800\n",
      "Epoch 10, CIFAR-10 Batch 4:  Loss:  9008.4648 Validation Accuracy: 0.295800\n",
      "Epoch 10, CIFAR-10 Batch 5:  Loss: 10615.7363 Validation Accuracy: 0.294600\n",
      "Epoch 11, CIFAR-10 Batch 1:  Loss: 10118.8135 Validation Accuracy: 0.299600\n",
      "Epoch 11, CIFAR-10 Batch 2:  Loss: 10392.5410 Validation Accuracy: 0.298400\n",
      "Epoch 11, CIFAR-10 Batch 3:  Loss:  9193.6221 Validation Accuracy: 0.296600\n",
      "Epoch 11, CIFAR-10 Batch 4:  Loss:  7874.6113 Validation Accuracy: 0.297600\n",
      "Epoch 11, CIFAR-10 Batch 5:  Loss:  9250.9727 Validation Accuracy: 0.299600\n",
      "Epoch 12, CIFAR-10 Batch 1:  Loss:  9206.1416 Validation Accuracy: 0.304600\n",
      "Epoch 12, CIFAR-10 Batch 2:  Loss:  9629.3867 Validation Accuracy: 0.299400\n",
      "Epoch 12, CIFAR-10 Batch 3:  Loss:  8415.9004 Validation Accuracy: 0.304400\n",
      "Epoch 12, CIFAR-10 Batch 4:  Loss:  6953.1919 Validation Accuracy: 0.301000\n",
      "Epoch 12, CIFAR-10 Batch 5:  Loss:  8248.2285 Validation Accuracy: 0.306400\n",
      "Epoch 13, CIFAR-10 Batch 1:  Loss:  8413.9121 Validation Accuracy: 0.308600\n",
      "Epoch 13, CIFAR-10 Batch 2:  Loss:  8912.3174 Validation Accuracy: 0.302800\n",
      "Epoch 13, CIFAR-10 Batch 3:  Loss:  7741.8774 Validation Accuracy: 0.309600\n",
      "Epoch 13, CIFAR-10 Batch 4:  Loss:  6329.8521 Validation Accuracy: 0.306600\n",
      "Epoch 13, CIFAR-10 Batch 5:  Loss:  7590.6724 Validation Accuracy: 0.306800\n",
      "Epoch 14, CIFAR-10 Batch 1:  Loss:  7567.0107 Validation Accuracy: 0.310000\n",
      "Epoch 14, CIFAR-10 Batch 2:  Loss:  8292.4531 Validation Accuracy: 0.303400\n",
      "Epoch 14, CIFAR-10 Batch 3:  Loss:  7237.1572 Validation Accuracy: 0.311800\n",
      "Epoch 14, CIFAR-10 Batch 4:  Loss:  5773.2993 Validation Accuracy: 0.306800\n",
      "Epoch 14, CIFAR-10 Batch 5:  Loss:  6991.8193 Validation Accuracy: 0.309400\n",
      "Epoch 15, CIFAR-10 Batch 1:  Loss:  6892.4878 Validation Accuracy: 0.308200\n",
      "Epoch 15, CIFAR-10 Batch 2:  Loss:  7477.6807 Validation Accuracy: 0.310800\n",
      "Epoch 15, CIFAR-10 Batch 3:  Loss:  6612.0518 Validation Accuracy: 0.312000\n",
      "Epoch 15, CIFAR-10 Batch 4:  Loss:  5369.8799 Validation Accuracy: 0.316600\n",
      "Epoch 15, CIFAR-10 Batch 5:  Loss:  6419.5303 Validation Accuracy: 0.316200\n",
      "Epoch 16, CIFAR-10 Batch 1:  Loss:  6289.4233 Validation Accuracy: 0.317000\n",
      "Epoch 16, CIFAR-10 Batch 2:  Loss:  6772.0469 Validation Accuracy: 0.314800\n",
      "Epoch 16, CIFAR-10 Batch 3:  Loss:  6017.0508 Validation Accuracy: 0.316200\n",
      "Epoch 16, CIFAR-10 Batch 4:  Loss:  4933.7026 Validation Accuracy: 0.315400\n",
      "Epoch 16, CIFAR-10 Batch 5:  Loss:  5965.2842 Validation Accuracy: 0.312600\n",
      "Epoch 17, CIFAR-10 Batch 1:  Loss:  5818.0649 Validation Accuracy: 0.316200\n",
      "Epoch 17, CIFAR-10 Batch 2:  Loss:  6173.4966 Validation Accuracy: 0.319400\n",
      "Epoch 17, CIFAR-10 Batch 3:  Loss:  5525.8589 Validation Accuracy: 0.320800\n",
      "Epoch 17, CIFAR-10 Batch 4:  Loss:  4572.3887 Validation Accuracy: 0.316600\n",
      "Epoch 17, CIFAR-10 Batch 5:  Loss:  5562.1509 Validation Accuracy: 0.315800\n",
      "Epoch 18, CIFAR-10 Batch 1:  Loss:  5436.5029 Validation Accuracy: 0.322600\n",
      "Epoch 18, CIFAR-10 Batch 2:  Loss:  5704.5205 Validation Accuracy: 0.322400\n",
      "Epoch 18, CIFAR-10 Batch 3:  Loss:  5071.0786 Validation Accuracy: 0.319600\n",
      "Epoch 18, CIFAR-10 Batch 4:  Loss:  4241.7866 Validation Accuracy: 0.319400\n",
      "Epoch 18, CIFAR-10 Batch 5:  Loss:  5217.8950 Validation Accuracy: 0.321000\n",
      "Epoch 19, CIFAR-10 Batch 1:  Loss:  5147.7983 Validation Accuracy: 0.329000\n",
      "Epoch 19, CIFAR-10 Batch 2:  Loss:  5344.2607 Validation Accuracy: 0.329000\n",
      "Epoch 19, CIFAR-10 Batch 3:  Loss:  4733.7041 Validation Accuracy: 0.318800\n",
      "Epoch 19, CIFAR-10 Batch 4:  Loss:  3913.4897 Validation Accuracy: 0.321000\n",
      "Epoch 19, CIFAR-10 Batch 5:  Loss:  4896.1870 Validation Accuracy: 0.322600\n",
      "Epoch 20, CIFAR-10 Batch 1:  Loss:  4790.0923 Validation Accuracy: 0.330800\n",
      "Epoch 20, CIFAR-10 Batch 2:  Loss:  4969.5972 Validation Accuracy: 0.331200\n",
      "Epoch 20, CIFAR-10 Batch 3:  Loss:  4399.8735 Validation Accuracy: 0.325000\n",
      "Epoch 20, CIFAR-10 Batch 4:  Loss:  3583.3704 Validation Accuracy: 0.322600\n",
      "Epoch 20, CIFAR-10 Batch 5:  Loss:  4610.4673 Validation Accuracy: 0.327000\n",
      "Epoch 21, CIFAR-10 Batch 1:  Loss:  4436.4048 Validation Accuracy: 0.335400\n",
      "Epoch 21, CIFAR-10 Batch 2:  Loss:  4632.4917 Validation Accuracy: 0.330000\n",
      "Epoch 21, CIFAR-10 Batch 3:  Loss:  4071.8948 Validation Accuracy: 0.326400\n",
      "Epoch 21, CIFAR-10 Batch 4:  Loss:  3366.5144 Validation Accuracy: 0.327400\n",
      "Epoch 21, CIFAR-10 Batch 5:  Loss:  4324.9116 Validation Accuracy: 0.327600\n",
      "Epoch 22, CIFAR-10 Batch 1:  Loss:  4169.0659 Validation Accuracy: 0.337800\n",
      "Epoch 22, CIFAR-10 Batch 2:  Loss:  4309.4458 Validation Accuracy: 0.330000\n",
      "Epoch 22, CIFAR-10 Batch 3:  Loss:  3818.7812 Validation Accuracy: 0.333000\n"
     ]
    },
    {
     "name": "stdout",
     "output_type": "stream",
     "text": [
      "Epoch 22, CIFAR-10 Batch 4:  Loss:  3203.9312 Validation Accuracy: 0.324600\n",
      "Epoch 22, CIFAR-10 Batch 5:  Loss:  4020.7061 Validation Accuracy: 0.329400\n",
      "Epoch 23, CIFAR-10 Batch 1:  Loss:  3944.1226 Validation Accuracy: 0.340200\n",
      "Epoch 23, CIFAR-10 Batch 2:  Loss:  4014.4653 Validation Accuracy: 0.335000\n",
      "Epoch 23, CIFAR-10 Batch 3:  Loss:  3578.0059 Validation Accuracy: 0.328600\n",
      "Epoch 23, CIFAR-10 Batch 4:  Loss:  3063.4524 Validation Accuracy: 0.323400\n",
      "Epoch 23, CIFAR-10 Batch 5:  Loss:  3753.9722 Validation Accuracy: 0.326200\n",
      "Epoch 24, CIFAR-10 Batch 1:  Loss:  3761.8774 Validation Accuracy: 0.337800\n",
      "Epoch 24, CIFAR-10 Batch 2:  Loss:  3787.1321 Validation Accuracy: 0.333200\n",
      "Epoch 24, CIFAR-10 Batch 3:  Loss:  3393.4417 Validation Accuracy: 0.328200\n",
      "Epoch 24, CIFAR-10 Batch 4:  Loss:  2970.1157 Validation Accuracy: 0.325600\n",
      "Epoch 24, CIFAR-10 Batch 5:  Loss:  3533.6772 Validation Accuracy: 0.327600\n",
      "Epoch 25, CIFAR-10 Batch 1:  Loss:  3635.3801 Validation Accuracy: 0.337400\n",
      "Epoch 25, CIFAR-10 Batch 2:  Loss:  3569.2339 Validation Accuracy: 0.335800\n",
      "Epoch 25, CIFAR-10 Batch 3:  Loss:  3224.8076 Validation Accuracy: 0.330000\n",
      "Epoch 25, CIFAR-10 Batch 4:  Loss:  2869.2942 Validation Accuracy: 0.327600\n",
      "Epoch 25, CIFAR-10 Batch 5:  Loss:  3338.9165 Validation Accuracy: 0.330000\n",
      "Epoch 26, CIFAR-10 Batch 1:  Loss:  3507.6580 Validation Accuracy: 0.336600\n",
      "Epoch 26, CIFAR-10 Batch 2:  Loss:  3383.5596 Validation Accuracy: 0.332000\n",
      "Epoch 26, CIFAR-10 Batch 3:  Loss:  3070.8774 Validation Accuracy: 0.331800\n",
      "Epoch 26, CIFAR-10 Batch 4:  Loss:  2742.1179 Validation Accuracy: 0.327000\n",
      "Epoch 26, CIFAR-10 Batch 5:  Loss:  3179.7397 Validation Accuracy: 0.330400\n",
      "Epoch 27, CIFAR-10 Batch 1:  Loss:  3321.3738 Validation Accuracy: 0.334200\n",
      "Epoch 27, CIFAR-10 Batch 2:  Loss:  3225.4744 Validation Accuracy: 0.332200\n",
      "Epoch 27, CIFAR-10 Batch 3:  Loss:  2878.3765 Validation Accuracy: 0.331200\n",
      "Epoch 27, CIFAR-10 Batch 4:  Loss:  2665.9858 Validation Accuracy: 0.327200\n",
      "Epoch 27, CIFAR-10 Batch 5:  Loss:  2942.0803 Validation Accuracy: 0.332400\n",
      "Epoch 28, CIFAR-10 Batch 1:  Loss:  3187.8616 Validation Accuracy: 0.333400\n",
      "Epoch 28, CIFAR-10 Batch 2:  Loss:  3128.6545 Validation Accuracy: 0.335000\n",
      "Epoch 28, CIFAR-10 Batch 3:  Loss:  2699.4773 Validation Accuracy: 0.332400\n",
      "Epoch 28, CIFAR-10 Batch 4:  Loss:  2552.9180 Validation Accuracy: 0.324200\n",
      "Epoch 28, CIFAR-10 Batch 5:  Loss:  2766.3289 Validation Accuracy: 0.328400\n",
      "Epoch 29, CIFAR-10 Batch 1:  Loss:  3103.9719 Validation Accuracy: 0.336400\n",
      "Epoch 29, CIFAR-10 Batch 2:  Loss:  2996.2275 Validation Accuracy: 0.331200\n",
      "Epoch 29, CIFAR-10 Batch 3:  Loss:  2530.3149 Validation Accuracy: 0.331400\n",
      "Epoch 29, CIFAR-10 Batch 4:  Loss:  2439.7622 Validation Accuracy: 0.325400\n",
      "Epoch 29, CIFAR-10 Batch 5:  Loss:  2600.1128 Validation Accuracy: 0.329200\n",
      "Epoch 30, CIFAR-10 Batch 1:  Loss:  2983.6765 Validation Accuracy: 0.333400\n",
      "Epoch 30, CIFAR-10 Batch 2:  Loss:  2859.8438 Validation Accuracy: 0.333000\n",
      "Epoch 30, CIFAR-10 Batch 3:  Loss:  2368.4929 Validation Accuracy: 0.330400\n",
      "Epoch 30, CIFAR-10 Batch 4:  Loss:  2278.9731 Validation Accuracy: 0.328400\n",
      "Epoch 30, CIFAR-10 Batch 5:  Loss:  2475.7129 Validation Accuracy: 0.327600\n",
      "Epoch 31, CIFAR-10 Batch 1:  Loss:  2907.0659 Validation Accuracy: 0.331200\n",
      "Epoch 31, CIFAR-10 Batch 2:  Loss:  2751.6379 Validation Accuracy: 0.332600\n",
      "Epoch 31, CIFAR-10 Batch 3:  Loss:  2257.7302 Validation Accuracy: 0.335600\n",
      "Epoch 31, CIFAR-10 Batch 4:  Loss:  2220.6077 Validation Accuracy: 0.327000\n",
      "Epoch 31, CIFAR-10 Batch 5:  Loss:  2342.4995 Validation Accuracy: 0.326000\n",
      "Epoch 32, CIFAR-10 Batch 1:  Loss:  2799.2444 Validation Accuracy: 0.332800\n",
      "Epoch 32, CIFAR-10 Batch 2:  Loss:  2624.5122 Validation Accuracy: 0.337400\n",
      "Epoch 32, CIFAR-10 Batch 3:  Loss:  2135.0581 Validation Accuracy: 0.338600\n",
      "Epoch 32, CIFAR-10 Batch 4:  Loss:  2135.5938 Validation Accuracy: 0.329000\n",
      "Epoch 32, CIFAR-10 Batch 5:  Loss:  2274.7102 Validation Accuracy: 0.326000\n",
      "Epoch 33, CIFAR-10 Batch 1:  Loss:  2700.5237 Validation Accuracy: 0.335400\n",
      "Epoch 33, CIFAR-10 Batch 2:  Loss:  2539.3767 Validation Accuracy: 0.337800\n",
      "Epoch 33, CIFAR-10 Batch 3:  Loss:  2031.2928 Validation Accuracy: 0.334400\n",
      "Epoch 33, CIFAR-10 Batch 4:  Loss:  2036.2120 Validation Accuracy: 0.333000\n",
      "Epoch 33, CIFAR-10 Batch 5:  Loss:  2168.2234 Validation Accuracy: 0.333000\n",
      "Epoch 34, CIFAR-10 Batch 1:  Loss:  2606.8940 Validation Accuracy: 0.336200\n",
      "Epoch 34, CIFAR-10 Batch 2:  Loss:  2434.5283 Validation Accuracy: 0.337200\n",
      "Epoch 34, CIFAR-10 Batch 3:  Loss:  1895.5920 Validation Accuracy: 0.335400\n",
      "Epoch 34, CIFAR-10 Batch 4:  Loss:  1944.7517 Validation Accuracy: 0.335000\n",
      "Epoch 34, CIFAR-10 Batch 5:  Loss:  2055.9277 Validation Accuracy: 0.331600\n",
      "Epoch 35, CIFAR-10 Batch 1:  Loss:  2501.3054 Validation Accuracy: 0.333000\n",
      "Epoch 35, CIFAR-10 Batch 2:  Loss:  2295.9666 Validation Accuracy: 0.338400\n",
      "Epoch 35, CIFAR-10 Batch 3:  Loss:  1808.0642 Validation Accuracy: 0.334400\n",
      "Epoch 35, CIFAR-10 Batch 4:  Loss:  1841.4371 Validation Accuracy: 0.335600\n",
      "Epoch 35, CIFAR-10 Batch 5:  Loss:  1966.4320 Validation Accuracy: 0.334400\n",
      "Epoch 36, CIFAR-10 Batch 1:  Loss:  2435.3064 Validation Accuracy: 0.336200\n",
      "Epoch 36, CIFAR-10 Batch 2:  Loss:  2203.1804 Validation Accuracy: 0.336800\n",
      "Epoch 36, CIFAR-10 Batch 3:  Loss:  1719.9067 Validation Accuracy: 0.341000\n",
      "Epoch 36, CIFAR-10 Batch 4:  Loss:  1788.1693 Validation Accuracy: 0.338600\n",
      "Epoch 36, CIFAR-10 Batch 5:  Loss:  1890.7740 Validation Accuracy: 0.337200\n",
      "Epoch 37, CIFAR-10 Batch 1:  Loss:  2327.9883 Validation Accuracy: 0.342600\n",
      "Epoch 37, CIFAR-10 Batch 2:  Loss:  2089.4490 Validation Accuracy: 0.342800\n",
      "Epoch 37, CIFAR-10 Batch 3:  Loss:  1646.5327 Validation Accuracy: 0.343200\n",
      "Epoch 37, CIFAR-10 Batch 4:  Loss:  1689.8031 Validation Accuracy: 0.343200\n",
      "Epoch 37, CIFAR-10 Batch 5:  Loss:  1796.5234 Validation Accuracy: 0.340600\n",
      "Epoch 38, CIFAR-10 Batch 1:  Loss:  2211.6653 Validation Accuracy: 0.342600\n",
      "Epoch 38, CIFAR-10 Batch 2:  Loss:  2005.5559 Validation Accuracy: 0.341200\n",
      "Epoch 38, CIFAR-10 Batch 3:  Loss:  1577.9558 Validation Accuracy: 0.342600\n",
      "Epoch 38, CIFAR-10 Batch 4:  Loss:  1620.6381 Validation Accuracy: 0.340200\n",
      "Epoch 38, CIFAR-10 Batch 5:  Loss:  1727.7152 Validation Accuracy: 0.337200\n",
      "Epoch 39, CIFAR-10 Batch 1:  Loss:  2090.2815 Validation Accuracy: 0.342800\n",
      "Epoch 39, CIFAR-10 Batch 2:  Loss:  1928.7740 Validation Accuracy: 0.345400\n",
      "Epoch 39, CIFAR-10 Batch 3:  Loss:  1493.9664 Validation Accuracy: 0.343600\n",
      "Epoch 39, CIFAR-10 Batch 4:  Loss:  1544.4053 Validation Accuracy: 0.343000\n",
      "Epoch 39, CIFAR-10 Batch 5:  Loss:  1657.5717 Validation Accuracy: 0.342600\n",
      "Epoch 40, CIFAR-10 Batch 1:  Loss:  1972.9155 Validation Accuracy: 0.345400\n",
      "Epoch 40, CIFAR-10 Batch 2:  Loss:  1841.3750 Validation Accuracy: 0.350800\n",
      "Epoch 40, CIFAR-10 Batch 3:  Loss:  1424.2468 Validation Accuracy: 0.344600\n",
      "Epoch 40, CIFAR-10 Batch 4:  Loss:  1503.0039 Validation Accuracy: 0.345000\n",
      "Epoch 40, CIFAR-10 Batch 5:  Loss:  1590.6956 Validation Accuracy: 0.344200\n",
      "Epoch 41, CIFAR-10 Batch 1:  Loss:  1895.6956 Validation Accuracy: 0.344600\n",
      "Epoch 41, CIFAR-10 Batch 2:  Loss:  1777.9884 Validation Accuracy: 0.348800\n",
      "Epoch 41, CIFAR-10 Batch 3:  Loss:  1360.4989 Validation Accuracy: 0.348200\n",
      "Epoch 41, CIFAR-10 Batch 4:  Loss:  1442.0874 Validation Accuracy: 0.344600\n",
      "Epoch 41, CIFAR-10 Batch 5:  Loss:  1539.9407 Validation Accuracy: 0.342000\n",
      "Epoch 42, CIFAR-10 Batch 1:  Loss:  1824.8718 Validation Accuracy: 0.349200\n",
      "Epoch 42, CIFAR-10 Batch 2:  Loss:  1705.9824 Validation Accuracy: 0.349800\n",
      "Epoch 42, CIFAR-10 Batch 3:  Loss:  1304.1826 Validation Accuracy: 0.351400\n",
      "Epoch 42, CIFAR-10 Batch 4:  Loss:  1396.5900 Validation Accuracy: 0.345000\n",
      "Epoch 42, CIFAR-10 Batch 5:  Loss:  1496.5564 Validation Accuracy: 0.344000\n",
      "Epoch 43, CIFAR-10 Batch 1:  Loss:  1746.2102 Validation Accuracy: 0.349800\n",
      "Epoch 43, CIFAR-10 Batch 2:  Loss:  1660.5332 Validation Accuracy: 0.351800\n",
      "Epoch 43, CIFAR-10 Batch 3:  Loss:  1260.6677 Validation Accuracy: 0.349800\n",
      "Epoch 43, CIFAR-10 Batch 4:  Loss:  1353.1456 Validation Accuracy: 0.344000\n",
      "Epoch 43, CIFAR-10 Batch 5:  Loss:  1429.4360 Validation Accuracy: 0.344400\n",
      "Epoch 44, CIFAR-10 Batch 1:  Loss:  1667.9957 Validation Accuracy: 0.351400\n"
     ]
    },
    {
     "name": "stdout",
     "output_type": "stream",
     "text": [
      "Epoch 44, CIFAR-10 Batch 2:  Loss:  1614.9635 Validation Accuracy: 0.351800\n",
      "Epoch 44, CIFAR-10 Batch 3:  Loss:  1217.0837 Validation Accuracy: 0.351200\n",
      "Epoch 44, CIFAR-10 Batch 4:  Loss:  1301.9806 Validation Accuracy: 0.344600\n",
      "Epoch 44, CIFAR-10 Batch 5:  Loss:  1359.0182 Validation Accuracy: 0.345400\n",
      "Epoch 45, CIFAR-10 Batch 1:  Loss:  1600.5996 Validation Accuracy: 0.356000\n",
      "Epoch 45, CIFAR-10 Batch 2:  Loss:  1553.5403 Validation Accuracy: 0.350600\n",
      "Epoch 45, CIFAR-10 Batch 3:  Loss:  1164.0103 Validation Accuracy: 0.352200\n",
      "Epoch 45, CIFAR-10 Batch 4:  Loss:  1270.0437 Validation Accuracy: 0.348600\n",
      "Epoch 45, CIFAR-10 Batch 5:  Loss:  1321.0948 Validation Accuracy: 0.339400\n",
      "Epoch 46, CIFAR-10 Batch 1:  Loss:  1529.8918 Validation Accuracy: 0.354200\n",
      "Epoch 46, CIFAR-10 Batch 2:  Loss:  1496.6844 Validation Accuracy: 0.353600\n",
      "Epoch 46, CIFAR-10 Batch 3:  Loss:  1120.4679 Validation Accuracy: 0.352600\n",
      "Epoch 46, CIFAR-10 Batch 4:  Loss:  1235.4691 Validation Accuracy: 0.351600\n",
      "Epoch 46, CIFAR-10 Batch 5:  Loss:  1285.0172 Validation Accuracy: 0.341600\n",
      "Epoch 47, CIFAR-10 Batch 1:  Loss:  1465.7150 Validation Accuracy: 0.354000\n",
      "Epoch 47, CIFAR-10 Batch 2:  Loss:  1451.6449 Validation Accuracy: 0.352000\n",
      "Epoch 47, CIFAR-10 Batch 3:  Loss:  1079.1820 Validation Accuracy: 0.350200\n",
      "Epoch 47, CIFAR-10 Batch 4:  Loss:  1181.4050 Validation Accuracy: 0.352000\n",
      "Epoch 47, CIFAR-10 Batch 5:  Loss:  1218.1749 Validation Accuracy: 0.342800\n",
      "Epoch 48, CIFAR-10 Batch 1:  Loss:  1417.1350 Validation Accuracy: 0.350800\n",
      "Epoch 48, CIFAR-10 Batch 2:  Loss:  1405.4965 Validation Accuracy: 0.353400\n",
      "Epoch 48, CIFAR-10 Batch 3:  Loss:  1026.8260 Validation Accuracy: 0.351400\n",
      "Epoch 48, CIFAR-10 Batch 4:  Loss:  1151.4897 Validation Accuracy: 0.354000\n",
      "Epoch 48, CIFAR-10 Batch 5:  Loss:  1179.9882 Validation Accuracy: 0.343000\n",
      "Epoch 49, CIFAR-10 Batch 1:  Loss:  1358.4885 Validation Accuracy: 0.357000\n",
      "Epoch 49, CIFAR-10 Batch 2:  Loss:  1372.1589 Validation Accuracy: 0.352800\n",
      "Epoch 49, CIFAR-10 Batch 3:  Loss:   975.5926 Validation Accuracy: 0.348800\n",
      "Epoch 49, CIFAR-10 Batch 4:  Loss:  1105.4144 Validation Accuracy: 0.354600\n",
      "Epoch 49, CIFAR-10 Batch 5:  Loss:  1142.7517 Validation Accuracy: 0.341000\n",
      "Epoch 50, CIFAR-10 Batch 1:  Loss:  1311.0608 Validation Accuracy: 0.356000\n",
      "Epoch 50, CIFAR-10 Batch 2:  Loss:  1337.0251 Validation Accuracy: 0.351200\n",
      "Epoch 50, CIFAR-10 Batch 3:  Loss:   960.1409 Validation Accuracy: 0.353800\n",
      "Epoch 50, CIFAR-10 Batch 4:  Loss:  1079.6134 Validation Accuracy: 0.351600\n",
      "Epoch 50, CIFAR-10 Batch 5:  Loss:  1119.7675 Validation Accuracy: 0.340000\n",
      "Epoch 51, CIFAR-10 Batch 1:  Loss:  1277.5424 Validation Accuracy: 0.360600\n",
      "Epoch 51, CIFAR-10 Batch 2:  Loss:  1293.6652 Validation Accuracy: 0.351000\n",
      "Epoch 51, CIFAR-10 Batch 3:  Loss:   920.4295 Validation Accuracy: 0.353000\n",
      "Epoch 51, CIFAR-10 Batch 4:  Loss:  1034.1204 Validation Accuracy: 0.357400\n",
      "Epoch 51, CIFAR-10 Batch 5:  Loss:  1063.5172 Validation Accuracy: 0.341600\n",
      "Epoch 52, CIFAR-10 Batch 1:  Loss:  1223.7751 Validation Accuracy: 0.357600\n",
      "Epoch 52, CIFAR-10 Batch 2:  Loss:  1222.7026 Validation Accuracy: 0.354600\n",
      "Epoch 52, CIFAR-10 Batch 3:  Loss:   898.0385 Validation Accuracy: 0.352800\n",
      "Epoch 52, CIFAR-10 Batch 4:  Loss:  1004.5681 Validation Accuracy: 0.355200\n",
      "Epoch 52, CIFAR-10 Batch 5:  Loss:  1032.8995 Validation Accuracy: 0.345800\n",
      "Epoch 53, CIFAR-10 Batch 1:  Loss:  1196.3546 Validation Accuracy: 0.355600\n",
      "Epoch 53, CIFAR-10 Batch 2:  Loss:  1178.6777 Validation Accuracy: 0.358200\n",
      "Epoch 53, CIFAR-10 Batch 3:  Loss:   863.8885 Validation Accuracy: 0.352400\n",
      "Epoch 53, CIFAR-10 Batch 4:  Loss:   970.8248 Validation Accuracy: 0.353000\n",
      "Epoch 53, CIFAR-10 Batch 5:  Loss:   990.5112 Validation Accuracy: 0.348800\n",
      "Epoch 54, CIFAR-10 Batch 1:  Loss:  1156.9355 Validation Accuracy: 0.355600\n",
      "Epoch 54, CIFAR-10 Batch 2:  Loss:  1126.5732 Validation Accuracy: 0.354400\n",
      "Epoch 54, CIFAR-10 Batch 3:  Loss:   838.2547 Validation Accuracy: 0.354400\n",
      "Epoch 54, CIFAR-10 Batch 4:  Loss:   939.9206 Validation Accuracy: 0.345800\n",
      "Epoch 54, CIFAR-10 Batch 5:  Loss:   955.3180 Validation Accuracy: 0.348800\n",
      "Epoch 55, CIFAR-10 Batch 1:  Loss:  1121.7517 Validation Accuracy: 0.354600\n",
      "Epoch 55, CIFAR-10 Batch 2:  Loss:  1092.5095 Validation Accuracy: 0.353800\n",
      "Epoch 55, CIFAR-10 Batch 3:  Loss:   802.0264 Validation Accuracy: 0.357000\n",
      "Epoch 55, CIFAR-10 Batch 4:  Loss:   904.4747 Validation Accuracy: 0.348600\n",
      "Epoch 55, CIFAR-10 Batch 5:  Loss:   918.9794 Validation Accuracy: 0.353200\n",
      "Epoch 56, CIFAR-10 Batch 1:  Loss:  1090.1482 Validation Accuracy: 0.353200\n",
      "Epoch 56, CIFAR-10 Batch 2:  Loss:  1057.2324 Validation Accuracy: 0.354000\n",
      "Epoch 56, CIFAR-10 Batch 3:  Loss:   786.6654 Validation Accuracy: 0.351200\n",
      "Epoch 56, CIFAR-10 Batch 4:  Loss:   855.8757 Validation Accuracy: 0.354800\n",
      "Epoch 56, CIFAR-10 Batch 5:  Loss:   892.0499 Validation Accuracy: 0.357600\n",
      "Epoch 57, CIFAR-10 Batch 1:  Loss:  1068.4918 Validation Accuracy: 0.357200\n",
      "Epoch 57, CIFAR-10 Batch 2:  Loss:  1012.8896 Validation Accuracy: 0.357200\n",
      "Epoch 57, CIFAR-10 Batch 3:  Loss:   762.5200 Validation Accuracy: 0.359000\n",
      "Epoch 57, CIFAR-10 Batch 4:  Loss:   837.6250 Validation Accuracy: 0.351200\n",
      "Epoch 57, CIFAR-10 Batch 5:  Loss:   861.6063 Validation Accuracy: 0.355400\n",
      "Epoch 58, CIFAR-10 Batch 1:  Loss:  1023.2996 Validation Accuracy: 0.352000\n",
      "Epoch 58, CIFAR-10 Batch 2:  Loss:   981.5576 Validation Accuracy: 0.354800\n",
      "Epoch 58, CIFAR-10 Batch 3:  Loss:   732.6044 Validation Accuracy: 0.358000\n",
      "Epoch 58, CIFAR-10 Batch 4:  Loss:   807.7140 Validation Accuracy: 0.350800\n",
      "Epoch 58, CIFAR-10 Batch 5:  Loss:   829.7740 Validation Accuracy: 0.359400\n",
      "Epoch 59, CIFAR-10 Batch 1:  Loss:   982.2649 Validation Accuracy: 0.352400\n",
      "Epoch 59, CIFAR-10 Batch 2:  Loss:   927.3687 Validation Accuracy: 0.356600\n",
      "Epoch 59, CIFAR-10 Batch 3:  Loss:   717.8444 Validation Accuracy: 0.351600\n",
      "Epoch 59, CIFAR-10 Batch 4:  Loss:   792.3135 Validation Accuracy: 0.353000\n",
      "Epoch 59, CIFAR-10 Batch 5:  Loss:   801.7115 Validation Accuracy: 0.356600\n",
      "Epoch 60, CIFAR-10 Batch 1:  Loss:   941.8876 Validation Accuracy: 0.348400\n",
      "Epoch 60, CIFAR-10 Batch 2:  Loss:   895.9789 Validation Accuracy: 0.354600\n",
      "Epoch 60, CIFAR-10 Batch 3:  Loss:   713.0504 Validation Accuracy: 0.347800\n",
      "Epoch 60, CIFAR-10 Batch 4:  Loss:   788.2631 Validation Accuracy: 0.347400\n",
      "Epoch 60, CIFAR-10 Batch 5:  Loss:   768.9583 Validation Accuracy: 0.354400\n"
     ]
    }
   ],
   "source": [
    "\"\"\"\n",
    "DON'T MODIFY ANYTHING IN THIS CELL\n",
    "\"\"\"\n",
    "save_model_path = './image_classification'\n",
    "\n",
    "print('Training...')\n",
    "with tf.Session() as sess:\n",
    "    # Initializing the variables\n",
    "    sess.run(tf.global_variables_initializer())\n",
    "    \n",
    "    # Training cycle\n",
    "    for epoch in range(epochs):\n",
    "        # Loop over all batches\n",
    "        n_batches = 5\n",
    "        for batch_i in range(1, n_batches + 1):\n",
    "            for batch_features, batch_labels in helper.load_preprocess_training_batch(batch_i, batch_size):\n",
    "                train_neural_network(sess, optimizer, keep_probability, batch_features, batch_labels)\n",
    "            print('Epoch {:>2}, CIFAR-10 Batch {}:  '.format(epoch + 1, batch_i), end='')\n",
    "            print_stats(sess, batch_features, batch_labels, cost, accuracy)\n",
    "            \n",
    "    # Save Model\n",
    "    saver = tf.train.Saver()\n",
    "    save_path = saver.save(sess, save_model_path)"
   ]
  },
  {
   "cell_type": "markdown",
   "metadata": {},
   "source": [
    "# Checkpoint\n",
    "The model has been saved to disk.\n",
    "## Test Model\n",
    "Test your model against the test dataset.  This will be your final accuracy. You should have an accuracy greater than 50%. If you don't, keep tweaking the model architecture and parameters."
   ]
  },
  {
   "cell_type": "code",
   "execution_count": 18,
   "metadata": {},
   "outputs": [
    {
     "name": "stdout",
     "output_type": "stream",
     "text": [
      "INFO:tensorflow:Restoring parameters from ./image_classification\n",
      "Testing Accuracy: 0.34256663620471955\n",
      "\n"
     ]
    },
    {
     "data": {
      "image/png": "[encoded data removed]",
      "text/plain": [
       "<matplotlib.figure.Figure at 0x7f925db44f60>"
      ]
     },
     "metadata": {
      "image/png": {
       "height": 319,
       "width": 349
      }
     },
     "output_type": "display_data"
    }
   ],
   "source": [
    "\"\"\"\n",
    "DON'T MODIFY ANYTHING IN THIS CELL\n",
    "\"\"\"\n",
    "%matplotlib inline\n",
    "%config InlineBackend.figure_format = 'retina'\n",
    "\n",
    "import tensorflow as tf\n",
    "import pickle\n",
    "import helper\n",
    "import random\n",
    "\n",
    "# Set batch size if not already set\n",
    "try:\n",
    "    if batch_size:\n",
    "        pass\n",
    "except NameError:\n",
    "    batch_size = 64\n",
    "\n",
    "save_model_path = './image_classification'\n",
    "n_samples = 4\n",
    "top_n_predictions = 3\n",
    "\n",
    "def test_model():\n",
    "    \"\"\"\n",
    "    Test the saved model against the test dataset\n",
    "    \"\"\"\n",
    "\n",
    "    test_features, test_labels = pickle.load(open('preprocess_training.p', mode='rb'))\n",
    "    loaded_graph = tf.Graph()\n",
    "\n",
    "    with tf.Session(graph=loaded_graph) as sess:\n",
    "        # Load model\n",
    "        loader = tf.train.import_meta_graph(save_model_path + '.meta')\n",
    "        loader.restore(sess, save_model_path)\n",
    "\n",
    "        # Get Tensors from loaded model\n",
    "        loaded_x = loaded_graph.get_tensor_by_name('x:0')\n",
    "        loaded_y = loaded_graph.get_tensor_by_name('y:0')\n",
    "        loaded_keep_prob = loaded_graph.get_tensor_by_name('keep_prob:0')\n",
    "        loaded_logits = loaded_graph.get_tensor_by_name('logits:0')\n",
    "        loaded_acc = loaded_graph.get_tensor_by_name('accuracy:0')\n",
    "        \n",
    "        # Get accuracy in batches for memory limitations\n",
    "        test_batch_acc_total = 0\n",
    "        test_batch_count = 0\n",
    "        \n",
    "        for train_feature_batch, train_label_batch in helper.batch_features_labels(test_features, test_labels, batch_size):\n",
    "            test_batch_acc_total += sess.run(\n",
    "                loaded_acc,\n",
    "                feed_dict={loaded_x: train_feature_batch, loaded_y: train_label_batch, loaded_keep_prob: 1.0})\n",
    "            test_batch_count += 1\n",
    "\n",
    "        print('Testing Accuracy: {}\\n'.format(test_batch_acc_total/test_batch_count))\n",
    "\n",
    "        # Print Random Samples\n",
    "        random_test_features, random_test_labels = tuple(zip(*random.sample(list(zip(test_features, test_labels)), n_samples)))\n",
    "        random_test_predictions = sess.run(\n",
    "            tf.nn.top_k(tf.nn.softmax(loaded_logits), top_n_predictions),\n",
    "            feed_dict={loaded_x: random_test_features, loaded_y: random_test_labels, loaded_keep_prob: 1.0})\n",
    "        helper.display_image_predictions(random_test_features, random_test_labels, random_test_predictions)\n",
    "\n",
    "\n",
    "test_model()"
   ]
  },
  {
   "cell_type": "markdown",
   "metadata": {},
   "source": [
    "## Why 50-80% Accuracy?\n",
    "You might be wondering why you can't get an accuracy any higher. First things first, 50% isn't bad for a simple CNN.  Pure guessing would get you 10% accuracy. However, you might notice people are getting scores [well above 80%](http://rodrigob.github.io/are_we_there_yet/build/classification_datasets_results.html#43494641522d3130).  That's because we haven't taught you all there is to know about neural networks. We still need to cover a few more techniques.\n",
    "## Submitting This Project\n",
    "When submitting this project, make sure to run all the cells before saving the notebook.  Save the notebook file as \"dlnd_image_classification.ipynb\" and save it as a HTML file under \"File\" -> \"Download as\".  Include the \"helper.py\" and \"problem_unittests.py\" files in your submission."
   ]
  },
  {
   "cell_type": "markdown",
   "metadata": {
    "collapsed": true
   },
   "source": [
    "# This is my best accuracy that i got.But in cov_net function, I didnt use fully_conn layer. On using that in each iteration accuracy was getting down."
   ]
  },
  {
   "cell_type": "code",
   "execution_count": null,
   "metadata": {
    "collapsed": true
   },
   "outputs": [],
   "source": []
  }
 ],
 "metadata": {
  "kernelspec": {
   "display_name": "Python 3",
   "language": "python",
   "name": "python3"
  },
  "language_info": {
   "codemirror_mode": {
    "name": "ipython",
    "version": 3
   },
   "file_extension": ".py",
   "mimetype": "text/x-python",
   "name": "python",
   "nbconvert_exporter": "python",
   "pygments_lexer": "ipython3",
   "version": "3.5.3"
  }
 },
 "nbformat": 4,
 "nbformat_minor": 1
}
