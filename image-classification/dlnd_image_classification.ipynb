{
 "cells": [
  {
   "cell_type": "markdown",
   "metadata": {
    "collapsed": true
   },
   "source": [
    "# Image Classification\n",
    "In this project, you'll classify images from the [CIFAR-10 dataset](https://www.cs.toronto.edu/~kriz/cifar.html).  The dataset consists of airplanes, dogs, cats, and other objects. You'll preprocess the images, then train a convolutional neural network on all the samples. The images need to be normalized and the labels need to be one-hot encoded.  You'll get to apply what you learned and build a convolutional, max pooling, dropout, and fully connected layers.  At the end, you'll get to see your neural network's predictions on the sample images.\n",
    "## Get the Data\n",
    "Run the following cell to download the [CIFAR-10 dataset for python](https://www.cs.toronto.edu/~kriz/cifar-10-python.tar.gz)."
   ]
  },
  {
   "cell_type": "code",
   "execution_count": 1,
   "metadata": {},
   "outputs": [
    {
     "name": "stdout",
     "output_type": "stream",
     "text": [
      "All files found!\n"
     ]
    }
   ],
   "source": [
    "\"\"\"\n",
    "DON'T MODIFY ANYTHING IN THIS CELL THAT IS BELOW THIS LINE\n",
    "\"\"\"\n",
    "from urllib.request import urlretrieve\n",
    "from os.path import isfile, isdir\n",
    "from tqdm import tqdm\n",
    "import problem_unittests as tests\n",
    "import tarfile\n",
    "\n",
    "cifar10_dataset_folder_path = 'cifar-10-batches-py'\n",
    "\n",
    "# Use Floyd's cifar-10 dataset if present\n",
    "floyd_cifar10_location = '/input/cifar-10/python.tar.gz'\n",
    "if isfile(floyd_cifar10_location):\n",
    "    tar_gz_path = floyd_cifar10_location\n",
    "else:\n",
    "    tar_gz_path = 'cifar-10-python.tar.gz'\n",
    "\n",
    "class DLProgress(tqdm):\n",
    "    last_block = 0\n",
    "\n",
    "    def hook(self, block_num=1, block_size=1, total_size=None):\n",
    "        self.total = total_size\n",
    "        self.update((block_num - self.last_block) * block_size)\n",
    "        self.last_block = block_num\n",
    "\n",
    "if not isfile(tar_gz_path):\n",
    "    with DLProgress(unit='B', unit_scale=True, miniters=1, desc='CIFAR-10 Dataset') as pbar:\n",
    "        urlretrieve(\n",
    "            'https://www.cs.toronto.edu/~kriz/cifar-10-python.tar.gz',\n",
    "            tar_gz_path,\n",
    "            pbar.hook)\n",
    "\n",
    "if not isdir(cifar10_dataset_folder_path):\n",
    "    with tarfile.open(tar_gz_path) as tar:\n",
    "        tar.extractall()\n",
    "        tar.close()\n",
    "\n",
    "\n",
    "tests.test_folder_path(cifar10_dataset_folder_path)"
   ]
  },
  {
   "cell_type": "markdown",
   "metadata": {},
   "source": [
    "## Explore the Data\n",
    "The dataset is broken into batches to prevent your machine from running out of memory.  The CIFAR-10 dataset consists of 5 batches, named `data_batch_1`, `data_batch_2`, etc.. Each batch contains the labels and images that are one of the following:\n",
    "* airplane\n",
    "* automobile\n",
    "* bird\n",
    "* cat\n",
    "* deer\n",
    "* dog\n",
    "* frog\n",
    "* horse\n",
    "* ship\n",
    "* truck\n",
    "\n",
    "Understanding a dataset is part of making predictions on the data.  Play around with the code cell below by changing the `batch_id` and `sample_id`. The `batch_id` is the id for a batch (1-5). The `sample_id` is the id for a image and label pair in the batch.\n",
    "\n",
    "Ask yourself \"What are all possible labels?\", \"What is the range of values for the image data?\", \"Are the labels in order or random?\".  Answers to questions like these will help you preprocess the data and end up with better predictions."
   ]
  },
  {
   "cell_type": "code",
   "execution_count": 2,
   "metadata": {},
   "outputs": [
    {
     "name": "stdout",
     "output_type": "stream",
     "text": [
      "\n",
      "Stats of batch 1:\n",
      "Samples: 10000\n",
      "Label Counts: {0: 1005, 1: 974, 2: 1032, 3: 1016, 4: 999, 5: 937, 6: 1030, 7: 1001, 8: 1025, 9: 981}\n",
      "First 20 Labels: [6, 9, 9, 4, 1, 1, 2, 7, 8, 3, 4, 7, 7, 2, 9, 9, 9, 3, 2, 6]\n",
      "\n",
      "Example of Image 5:\n",
      "Image - Min Value: 0 Max Value: 252\n",
      "Image - Shape: (32, 32, 3)\n",
      "Label - Label Id: 1 Name: automobile\n"
     ]
    },
    {
     "data": {
      "image/png": "[encoded data removed]",
      "text/plain": [
       "<matplotlib.figure.Figure at 0x7f0b958dcc18>"
      ]
     },
     "metadata": {
      "image/png": {
       "height": 250,
       "width": 253
      }
     },
     "output_type": "display_data"
    }
   ],
   "source": [
    "%matplotlib inline\n",
    "%config InlineBackend.figure_format = 'retina'\n",
    "\n",
    "import helper\n",
    "import numpy as np\n",
    "\n",
    "# Explore the dataset\n",
    "batch_id = 1\n",
    "sample_id = 5\n",
    "helper.display_stats(cifar10_dataset_folder_path, batch_id, sample_id)"
   ]
  },
  {
   "cell_type": "code",
   "execution_count": 3,
   "metadata": {},
   "outputs": [
    {
     "data": {
      "text/plain": [
       "'cifar-10-python.tar.gz'"
      ]
     },
     "execution_count": 3,
     "metadata": {},
     "output_type": "execute_result"
    }
   ],
   "source": [
    "tar_gz_path"
   ]
  },
  {
   "cell_type": "markdown",
   "metadata": {},
   "source": [
    "## Implement Preprocess Functions\n",
    "### Normalize\n",
    "In the cell below, implement the `normalize` function to take in image data, `x`, and return it as a normalized Numpy array. The values should be in the range of 0 to 1, inclusive.  The return object should be the same shape as `x`."
   ]
  },
  {
   "cell_type": "code",
   "execution_count": 4,
   "metadata": {},
   "outputs": [
    {
     "name": "stdout",
     "output_type": "stream",
     "text": [
      "Tests Passed\n"
     ]
    }
   ],
   "source": [
    "def normalize(x):\n",
    "    \"\"\"\n",
    "    Normalize a list of sample image data in the range of 0 to 1\n",
    "    : x: List of image data.  The image shape is (32, 32, 3)\n",
    "    : return: Numpy array of normalize data\n",
    "    \"\"\"\n",
    "    x=x.astype('float32')\n",
    "    \n",
    "    return x/255.0\n",
    "\n",
    "\n",
    "\"\"\"\n",
    "DON'T MODIFY ANYTHING IN THIS CELL THAT IS BELOW THIS LINE\n",
    "\"\"\"\n",
    "tests.test_normalize(normalize)"
   ]
  },
  {
   "cell_type": "markdown",
   "metadata": {},
   "source": [
    "### One-hot encode\n",
    "Just like the previous code cell, you'll be implementing a function for preprocessing.  This time, you'll implement the `one_hot_encode` function. The input, `x`, are a list of labels.  Implement the function to return the list of labels as One-Hot encoded Numpy array.  The possible values for labels are 0 to 9. The one-hot encoding function should return the same encoding for each value between each call to `one_hot_encode`.  Make sure to save the map of encodings outside the function.\n",
    "\n",
    "Hint: Don't reinvent the wheel."
   ]
  },
  {
   "cell_type": "code",
   "execution_count": 5,
   "metadata": {},
   "outputs": [
    {
     "name": "stdout",
     "output_type": "stream",
     "text": [
      "Tests Passed\n"
     ]
    }
   ],
   "source": [
    "def one_hot_encode(x):\n",
    "    \"\"\"\n",
    "    One hot encode a list of sample labels. Return a one-hot encoded vector for each label.\n",
    "    : x: List of sample Labels\n",
    "    : return: Numpy array of one-hot encoded labels\n",
    "    \"\"\"\n",
    "    a = np.zeros((len(x),10))\n",
    "    \n",
    "    a[np.arange(len(x)),x]=1\n",
    "    return a\n",
    "\n",
    "\n",
    "\"\"\"\n",
    "DON'T MODIFY ANYTHING IN THIS CELL THAT IS BELOW THIS LINE\n",
    "\"\"\"\n",
    "tests.test_one_hot_encode(one_hot_encode)"
   ]
  },
  {
   "cell_type": "markdown",
   "metadata": {},
   "source": [
    "### Randomize Data\n",
    "As you saw from exploring the data above, the order of the samples are randomized.  It doesn't hurt to randomize it again, but you don't need to for this dataset."
   ]
  },
  {
   "cell_type": "markdown",
   "metadata": {},
   "source": [
    "## Preprocess all the data and save it\n",
    "Running the code cell below will preprocess all the CIFAR-10 data and save it to file. The code below also uses 10% of the training data for validation."
   ]
  },
  {
   "cell_type": "code",
   "execution_count": 6,
   "metadata": {
    "collapsed": true
   },
   "outputs": [],
   "source": [
    "\"\"\"\n",
    "DON'T MODIFY ANYTHING IN THIS CELL\n",
    "\"\"\"\n",
    "# Preprocess Training, Validation, and Testing Data\n",
    "helper.preprocess_and_save_data(cifar10_dataset_folder_path, normalize, one_hot_encode)"
   ]
  },
  {
   "cell_type": "markdown",
   "metadata": {},
   "source": [
    "# Check Point\n",
    "This is your first checkpoint.  If you ever decide to come back to this notebook or have to restart the notebook, you can start from here.  The preprocessed data has been saved to disk."
   ]
  },
  {
   "cell_type": "code",
   "execution_count": 7,
   "metadata": {
    "collapsed": true
   },
   "outputs": [],
   "source": [
    "\"\"\"\n",
    "DON'T MODIFY ANYTHING IN THIS CELL\n",
    "\"\"\"\n",
    "import pickle\n",
    "import problem_unittests as tests\n",
    "import helper\n",
    "\n",
    "# Load the Preprocessed Validation data\n",
    "valid_features, valid_labels = pickle.load(open('preprocess_validation.p', mode='rb'))"
   ]
  },
  {
   "cell_type": "markdown",
   "metadata": {},
   "source": [
    "## Build the network\n",
    "For the neural network, you'll build each layer into a function.  Most of the code you've seen has been outside of functions. To test your code more thoroughly, we require that you put each layer in a function.  This allows us to give you better feedback and test for simple mistakes using our unittests before you submit your project.\n",
    "\n",
    ">**Note:** If you're finding it hard to dedicate enough time for this course each week, we've provided a small shortcut to this part of the project. In the next couple of problems, you'll have the option to use classes from the [TensorFlow Layers](https://www.tensorflow.org/api_docs/python/tf/layers) or [TensorFlow Layers (contrib)](https://www.tensorflow.org/api_guides/python/contrib.layers) packages to build each layer, except the layers you build in the \"Convolutional and Max Pooling Layer\" section.  TF Layers is similar to Keras's and TFLearn's abstraction to layers, so it's easy to pickup.\n",
    "\n",
    ">However, if you would like to get the most out of this course, try to solve all the problems _without_ using anything from the TF Layers packages. You **can** still use classes from other packages that happen to have the same name as ones you find in TF Layers! For example, instead of using the TF Layers version of the `conv2d` class, [tf.layers.conv2d](https://www.tensorflow.org/api_docs/python/tf/layers/conv2d), you would want to use the TF Neural Network version of `conv2d`, [tf.nn.conv2d](https://www.tensorflow.org/api_docs/python/tf/nn/conv2d). \n",
    "\n",
    "Let's begin!\n",
    "\n",
    "### Input\n",
    "The neural network needs to read the image data, one-hot encoded labels, and dropout keep probability. Implement the following functions\n",
    "* Implement `neural_net_image_input`\n",
    " * Return a [TF Placeholder](https://www.tensorflow.org/api_docs/python/tf/placeholder)\n",
    " * Set the shape using `image_shape` with batch size set to `None`.\n",
    " * Name the TensorFlow placeholder \"x\" using the TensorFlow `name` parameter in the [TF Placeholder](https://www.tensorflow.org/api_docs/python/tf/placeholder).\n",
    "* Implement `neural_net_label_input`\n",
    " * Return a [TF Placeholder](https://www.tensorflow.org/api_docs/python/tf/placeholder)\n",
    " * Set the shape using `n_classes` with batch size set to `None`.\n",
    " * Name the TensorFlow placeholder \"y\" using the TensorFlow `name` parameter in the [TF Placeholder](https://www.tensorflow.org/api_docs/python/tf/placeholder).\n",
    "* Implement `neural_net_keep_prob_input`\n",
    " * Return a [TF Placeholder](https://www.tensorflow.org/api_docs/python/tf/placeholder) for dropout keep probability.\n",
    " * Name the TensorFlow placeholder \"keep_prob\" using the TensorFlow `name` parameter in the [TF Placeholder](https://www.tensorflow.org/api_docs/python/tf/placeholder).\n",
    "\n",
    "These names will be used at the end of the project to load your saved model.\n",
    "\n",
    "Note: `None` for shapes in TensorFlow allow for a dynamic size."
   ]
  },
  {
   "cell_type": "code",
   "execution_count": 8,
   "metadata": {},
   "outputs": [
    {
     "name": "stdout",
     "output_type": "stream",
     "text": [
      "Image Input Tests Passed.\n",
      "Label Input Tests Passed.\n",
      "Keep Prob Tests Passed.\n"
     ]
    }
   ],
   "source": [
    "import tensorflow as tf\n",
    "\n",
    "def neural_net_image_input(image_shape):\n",
    "    \"\"\"\n",
    "    Return a Tensor for a batch of image input\n",
    "    : image_shape: Shape of the images\n",
    "    : return: Tensor for image input.\n",
    "    \"\"\"\n",
    "    # TODO: Implement Function\n",
    "    input= tf.placeholder(tf.float32,(None,)+(image_shape),name=\"x\")\n",
    "    return input\n",
    "\n",
    "def neural_net_label_input(n_classes):\n",
    "    \"\"\"\n",
    "    Return a Tensor for a batch of label input\n",
    "    : n_classes: Number of classes\n",
    "    : return: Tensor for label input.\n",
    "    \"\"\"\n",
    "    # TODO: Implement Function\n",
    "    return tf.placeholder(tf.float32,[None,n_classes],name=\"y\")\n",
    "\n",
    "\n",
    "def neural_net_keep_prob_input():\n",
    "    \"\"\"\n",
    "    Return a Tensor for keep probability\n",
    "    : return: Tensor for keep probability.\n",
    "    \"\"\"\n",
    "    # TODO: Implement Function\n",
    "    return tf.placeholder(tf.float32,name=\"keep_prob\")\n",
    "\n",
    "\n",
    "\"\"\"\n",
    "DON'T MODIFY ANYTHING IN THIS CELL THAT IS BELOW THIS LINE\n",
    "\"\"\"\n",
    "tf.reset_default_graph()\n",
    "tests.test_nn_image_inputs(neural_net_image_input)\n",
    "tests.test_nn_label_inputs(neural_net_label_input)\n",
    "tests.test_nn_keep_prob_inputs(neural_net_keep_prob_input)"
   ]
  },
  {
   "cell_type": "markdown",
   "metadata": {},
   "source": [
    "### Convolution and Max Pooling Layer\n",
    "Convolution layers have a lot of success with images. For this code cell, you should implement the function `conv2d_maxpool` to apply convolution then max pooling:\n",
    "* Create the weight and bias using `conv_ksize`, `conv_num_outputs` and the shape of `x_tensor`.\n",
    "* Apply a convolution to `x_tensor` using weight and `conv_strides`.\n",
    " * We recommend you use same padding, but you're welcome to use any padding.\n",
    "* Add bias\n",
    "* Add a nonlinear activation to the convolution.\n",
    "* Apply Max Pooling using `pool_ksize` and `pool_strides`.\n",
    " * We recommend you use same padding, but you're welcome to use any padding.\n",
    "\n",
    "**Note:** You **can't** use [TensorFlow Layers](https://www.tensorflow.org/api_docs/python/tf/layers) or [TensorFlow Layers (contrib)](https://www.tensorflow.org/api_guides/python/contrib.layers) for **this** layer, but you can still use TensorFlow's [Neural Network](https://www.tensorflow.org/api_docs/python/tf/nn) package. You may still use the shortcut option for all the **other** layers."
   ]
  },
  {
   "cell_type": "code",
   "execution_count": 9,
   "metadata": {},
   "outputs": [
    {
     "name": "stdout",
     "output_type": "stream",
     "text": [
      "Tests Passed\n"
     ]
    }
   ],
   "source": [
    "def conv2d_maxpool(x_tensor, conv_num_outputs, conv_ksize, conv_strides, pool_ksize, pool_strides):\n",
    "    \"\"\"\n",
    "    Apply convolution then max pooling to x_tensor\n",
    "    :param x_tensor: TensorFlow Tensor\n",
    "    :param conv_num_outputs: Number of outputs for the convolutional layer\n",
    "    :param conv_ksize: kernal size 2-D Tuple for the convolutional layer\n",
    "    :param conv_strides: Stride 2-D Tuple for convolution\n",
    "    :param pool_ksize: kernal size 2-D Tuple for pool\n",
    "    :param pool_strides: Stride 2-D Tuple for pool\n",
    "    : return: A tensor that represents convolution and max pooling of x_tensor\n",
    "    \"\"\"\n",
    "\n",
    "    filter_weights = tf.Variable(tf.truncated_normal((conv_ksize+(x_tensor.shape[3].value,conv_num_outputs,)),mean=0, stddev=0.1))\n",
    "    filter_bias = tf.Variable(tf.zeros(conv_num_outputs))\n",
    "    stride =(1,)+conv_strides+(1,)\n",
    "    conv= tf.nn.conv2d(x_tensor,filter_weights,stride,'SAME')+filter_bias\n",
    "    conv = tf.nn.relu(conv)\n",
    "    conv = tf.nn.max_pool(conv,ksize=[1]+list(pool_ksize)+[1],padding='SAME',strides=[1]+list(pool_strides)+[1])\n",
    "    return conv \n",
    "\n",
    "\n",
    "\"\"\"\n",
    "DON'T MODIFY ANYTHING IN THIS CELL THAT IS BELOW THIS LINE\n",
    "\"\"\"\n",
    "tests.test_con_pool(conv2d_maxpool)"
   ]
  },
  {
   "cell_type": "markdown",
   "metadata": {},
   "source": [
    "### Flatten Layer\n",
    "Implement the `flatten` function to change the dimension of `x_tensor` from a 4-D tensor to a 2-D tensor.  The output should be the shape (*Batch Size*, *Flattened Image Size*). Shortcut option: you can use classes from the [TensorFlow Layers](https://www.tensorflow.org/api_docs/python/tf/layers) or [TensorFlow Layers (contrib)](https://www.tensorflow.org/api_guides/python/contrib.layers) packages for this layer. For more of a challenge, only use other TensorFlow packages."
   ]
  },
  {
   "cell_type": "code",
   "execution_count": 10,
   "metadata": {},
   "outputs": [
    {
     "name": "stdout",
     "output_type": "stream",
     "text": [
      "Tests Passed\n"
     ]
    }
   ],
   "source": [
    "def flatten(x_tensor):\n",
    "    \"\"\"\n",
    "    Flatten x_tensor to (Batch Size, Flattened Image Size)\n",
    "    : x_tensor: A tensor of size (Batch Size, ...), where ... are the image dimensions.\n",
    "    : return: A tensor of size (Batch Size, Flattened Image Size).\n",
    "    \"\"\"\n",
    "\n",
    "    size = x_tensor.shape[1].value*x_tensor.shape[2].value*x_tensor.shape[3].value\n",
    "    return tf.reshape(x_tensor,[-1,size])\n",
    "\n",
    "\n",
    "\"\"\"\n",
    "DON'T MODIFY ANYTHING IN THIS CELL THAT IS BELOW THIS LINE\n",
    "\"\"\"\n",
    "tests.test_flatten(flatten)"
   ]
  },
  {
   "cell_type": "markdown",
   "metadata": {},
   "source": [
    "### Fully-Connected Layer\n",
    "Implement the `fully_conn` function to apply a fully connected layer to `x_tensor` with the shape (*Batch Size*, *num_outputs*). Shortcut option: you can use classes from the [TensorFlow Layers](https://www.tensorflow.org/api_docs/python/tf/layers) or [TensorFlow Layers (contrib)](https://www.tensorflow.org/api_guides/python/contrib.layers) packages for this layer. For more of a challenge, only use other TensorFlow packages."
   ]
  },
  {
   "cell_type": "code",
   "execution_count": 11,
   "metadata": {},
   "outputs": [
    {
     "name": "stdout",
     "output_type": "stream",
     "text": [
      "Tensor(\"Placeholder_2:0\", shape=(?, 128), dtype=float32)\n",
      "40\n",
      "Tests Passed\n"
     ]
    }
   ],
   "source": [
    "def fully_conn(x_tensor, num_outputs):\n",
    "    \"\"\"\n",
    "    Apply a fully connected layer to x_tensor using weight and bias\n",
    "    : x_tensor: A 2-D tensor where the first dimension is batch size.\n",
    "    : num_outputs: The number of output that the new tensor should be.\n",
    "    : return: A 2-D tensor where the second dimension is num_outputs.\n",
    "    \"\"\"\n",
    "    print(x_tensor)\n",
    "    print(num_outputs)\n",
    "    weights = tf.Variable(tf.truncated_normal((x_tensor.shape[1].value,num_outputs)))\n",
    "    biases = tf.Variable(tf.zeros((num_outputs)))\n",
    "    conv=tf.add(tf.matmul(x_tensor,weights), biases)\n",
    "    conv=tf.nn.relu(conv)\n",
    " \n",
    "    \n",
    "  \n",
    "    return conv\n",
    "\n",
    "\n",
    "\"\"\"\n",
    "DON'T MODIFY ANYTHING IN THIS CELL THAT IS BELOW THIS LINE\n",
    "\"\"\"\n",
    "tests.test_fully_conn(fully_conn)"
   ]
  },
  {
   "cell_type": "markdown",
   "metadata": {},
   "source": [
    "### Output Layer\n",
    "Implement the `output` function to apply a fully connected layer to `x_tensor` with the shape (*Batch Size*, *num_outputs*). Shortcut option: you can use classes from the [TensorFlow Layers](https://www.tensorflow.org/api_docs/python/tf/layers) or [TensorFlow Layers (contrib)](https://www.tensorflow.org/api_guides/python/contrib.layers) packages for this layer. For more of a challenge, only use other TensorFlow packages.\n",
    "\n",
    "**Note:** Activation, softmax, or cross entropy should **not** be applied to this."
   ]
  },
  {
   "cell_type": "code",
   "execution_count": 12,
   "metadata": {},
   "outputs": [
    {
     "name": "stdout",
     "output_type": "stream",
     "text": [
      "Tests Passed\n"
     ]
    }
   ],
   "source": [
    "def output(x_tensor, num_outputs):\n",
    "    \"\"\"\n",
    "    Apply a output layer to x_tensor using weight and bias\n",
    "    : x_tensor: A 2-D tensor where the first dimension is batch size.\n",
    "    : num_outputs: The number of output that the new tensor should be.\n",
    "    : return: A 2-D tensor where the second dimension is num_outputs.\n",
    "    \"\"\"\n",
    "    \n",
    "    weights = tf.Variable(tf.truncated_normal((x_tensor.shape[1].value,num_outputs),mean=0, stddev=0.1))\n",
    "    biases = tf.Variable(tf.zeros((num_outputs)))\n",
    "    return  tf.add(tf.matmul(x_tensor,weights),biases)\n",
    "\n",
    "\n",
    "\"\"\"\n",
    "DON'T MODIFY ANYTHING IN THIS CELL THAT IS BELOW THIS LINE\n",
    "\"\"\"\n",
    "tests.test_output(output)"
   ]
  },
  {
   "cell_type": "markdown",
   "metadata": {},
   "source": [
    "### Create Convolutional Model\n",
    "Implement the function `conv_net` to create a convolutional neural network model. The function takes in a batch of images, `x`, and outputs logits.  Use the layers you created above to create this model:\n",
    "\n",
    "* Apply 1, 2, or 3 Convolution and Max Pool layers\n",
    "* Apply a Flatten Layer\n",
    "* Apply 1, 2, or 3 Fully Connected Layers\n",
    "* Apply an Output Layer\n",
    "* Return the output\n",
    "* Apply [TensorFlow's Dropout](https://www.tensorflow.org/api_docs/python/tf/nn/dropout) to one or more layers in the model using `keep_prob`. "
   ]
  },
  {
   "cell_type": "code",
   "execution_count": 13,
   "metadata": {},
   "outputs": [
    {
     "name": "stdout",
     "output_type": "stream",
     "text": [
      "conv--> Tensor(\"MaxPool_3:0\", shape=(?, 2, 2, 128), dtype=float32)\n",
      "Tensor(\"Reshape:0\", shape=(?, 512), dtype=float32)\n",
      "conv--> Tensor(\"MaxPool_7:0\", shape=(?, 2, 2, 128), dtype=float32)\n",
      "Tensor(\"Reshape_4:0\", shape=(?, 512), dtype=float32)\n",
      "Neural Network Built!\n"
     ]
    }
   ],
   "source": [
    "def conv_net(x, keep_prob):\n",
    "  \n",
    "    \"\"\"\n",
    "    Create a convolutional neural network model\n",
    "    : x: Placeholder tensor that holds image data.\n",
    "    : keep_prob: Placeholder tensor that hold dropout keep probability.\n",
    "    : return: Tensor that represents logits\n",
    "    \"\"\"\n",
    "    # TODO: Apply 1, 2, or 3 Convolution and Max Pool layers\n",
    "    #    Play around with different number of outputs, kernel size and stride\n",
    "    # Function Definition from Above:\n",
    "    #    conv2d_maxpool(x_tensor, conv_num_outputs, conv_ksize, conv_strides, pool_ksize, pool_strides)\n",
    "    conv = conv2d_maxpool(x,16,(5,5),(1,1),(5,2),(2,2))\n",
    "    conv = conv2d_maxpool(conv,32,(5,5),(1,1),(5,2),(2,2))\n",
    "    conv = conv2d_maxpool(conv,64,(5,5),(1,1),(5,2),(2,2))\n",
    "    conv = conv2d_maxpool(conv,128,(5,5),(1,1),(5,2),(2,2))\n",
    "\n",
    "    \n",
    "    #conv = conv2d_maxpool(conv,20,(5,5),(2,2),(5,2),(2,2))\n",
    "    #conv = conv2d_maxpool(conv,128,(5,5),(1,1),(5,2),(2,2))\n",
    "    print('conv-->',conv)\n",
    "    conv = flatten(conv)\n",
    "    \n",
    "\n",
    "    #conv=fully_conn(conv,1024)\n",
    "    #conv = tf.nn.dropout(conv,keep_prob)\n",
    "    #conv=fully_conn(conv, 64)\n",
    "    #conv = tf.nn.dropout(conv,keep_prob)\n",
    "    print(conv)\n",
    "    # TODO: Apply an Output Layer\n",
    "    #    Set this to the number of classes\n",
    "    # Function Definition from Above:\n",
    "    #   output(x_tensor, num_outputs)\n",
    "    conv = output(conv, 10)\n",
    "    \n",
    "    \n",
    "    # TODO: return output\n",
    "    return conv\n",
    "\n",
    "\n",
    "\"\"\"\n",
    "DON'T MODIFY ANYTHING IN THIS CELL THAT IS BELOW THIS LINE\n",
    "\"\"\"\n",
    "\n",
    "##############################\n",
    "## Build the Neural Network ##\n",
    "##############################\n",
    "\n",
    "# Remove previous weights, bias, inputs, etc..\n",
    "tf.reset_default_graph()\n",
    "\n",
    "# Inputs\n",
    "x = neural_net_image_input((32, 32, 3))\n",
    "y = neural_net_label_input(10)\n",
    "keep_prob = neural_net_keep_prob_input()\n",
    "\n",
    "# Model\n",
    "logits = conv_net(x, keep_prob)\n",
    "\n",
    "# Name logits Tensor, so that is can be loaded from disk after training\n",
    "logits = tf.identity(logits, name='logits')\n",
    "\n",
    "# Loss and Optimizer\n",
    "cost = tf.reduce_mean(tf.nn.softmax_cross_entropy_with_logits(logits=logits, labels=y))\n",
    "optimizer = tf.train.AdamOptimizer().minimize(cost)\n",
    "\n",
    "# Accuracy\n",
    "correct_pred = tf.equal(tf.argmax(logits, 1), tf.argmax(y, 1))\n",
    "accuracy = tf.reduce_mean(tf.cast(correct_pred, tf.float32), name='accuracy')\n",
    "\n",
    "tests.test_conv_net(conv_net)"
   ]
  },
  {
   "cell_type": "markdown",
   "metadata": {},
   "source": [
    "## Train the Neural Network\n",
    "### Single Optimization\n",
    "Implement the function `train_neural_network` to do a single optimization.  The optimization should use `optimizer` to optimize in `session` with a `feed_dict` of the following:\n",
    "* `x` for image input\n",
    "* `y` for labels\n",
    "* `keep_prob` for keep probability for dropout\n",
    "\n",
    "This function will be called for each batch, so `tf.global_variables_initializer()` has already been called.\n",
    "\n",
    "Note: Nothing needs to be returned. This function is only optimizing the neural network."
   ]
  },
  {
   "cell_type": "code",
   "execution_count": 14,
   "metadata": {},
   "outputs": [
    {
     "name": "stdout",
     "output_type": "stream",
     "text": [
      "Tests Passed\n"
     ]
    }
   ],
   "source": [
    "def train_neural_network(session, optimizer, keep_probability, feature_batch, label_batch):\n",
    "    \"\"\"\n",
    "    Optimize the session on a batch of images and labels\n",
    "    : session: Current TensorFlow session\n",
    "    : optimizer: TensorFlow optimizer function\n",
    "    : keep_probability: keep probability\n",
    "    : feature_batch: Batch of Numpy image data\n",
    "    : label_batch: Batch of Numpy label data\n",
    "    \"\"\"\n",
    "    session.run(optimizer,feed_dict={x:feature_batch,y:label_batch,keep_prob:keep_probability})\n",
    "  \n",
    "\n",
    "\n",
    "\"\"\"\n",
    "DON'T MODIFY ANYTHING IN THIS CELL THAT IS BELOW THIS LINE\n",
    "\"\"\"\n",
    "tests.test_train_nn(train_neural_network)"
   ]
  },
  {
   "cell_type": "markdown",
   "metadata": {},
   "source": [
    "### Show Stats\n",
    "Implement the function `print_stats` to print loss and validation accuracy.  Use the global variables `valid_features` and `valid_labels` to calculate validation accuracy.  Use a keep probability of `1.0` to calculate the loss and validation accuracy."
   ]
  },
  {
   "cell_type": "code",
   "execution_count": 15,
   "metadata": {
    "collapsed": true
   },
   "outputs": [],
   "source": [
    "def print_stats(session, feature_batch, label_batch, cost, accuracy):\n",
    "    \"\"\"\n",
    "    Print information about loss and validation accuracy\n",
    "    : session: Current TensorFlow session\n",
    "    : feature_batch: Batch of Numpy image data\n",
    "    : label_batch: Batch of Numpy label data\n",
    "    : cost: TensorFlow cost function\n",
    "    : accuracy: TensorFlow accuracy function\n",
    "    \"\"\"\n",
    "    loss=session.run(cost,feed_dict={x:feature_batch,y:label_batch,keep_prob:1.0})\n",
    "    acc=session.run(accuracy,feed_dict={x:valid_features,y:valid_labels,keep_prob:1.0})\n",
    "    print('Loss: {:>10.4f} Validation Accuracy: {:.6f}'.format(loss,acc))\n",
    "    "
   ]
  },
  {
   "cell_type": "markdown",
   "metadata": {},
   "source": [
    "### Hyperparameters\n",
    "Tune the following parameters:\n",
    "* Set `epochs` to the number of iterations until the network stops learning or start overfitting\n",
    "* Set `batch_size` to the highest number that your machine has memory for.  Most people set them to common sizes of memory:\n",
    " * 64\n",
    " * 128\n",
    " * 256\n",
    " * ...\n",
    "* Set `keep_probability` to the probability of keeping a node using dropout"
   ]
  },
  {
   "cell_type": "code",
   "execution_count": 16,
   "metadata": {
    "collapsed": true
   },
   "outputs": [],
   "source": [
    "# TODO: Tune Parameters\n",
    "epochs = 60\n",
    "batch_size =512\n",
    "keep_probability = 0.75"
   ]
  },
  {
   "cell_type": "markdown",
   "metadata": {},
   "source": [
    "### Train on a Single CIFAR-10 Batch\n",
    "Instead of training the neural network on all the CIFAR-10 batches of data, let's use a single batch. This should save time while you iterate on the model to get a better accuracy.  Once the final validation accuracy is 50% or greater, run the model on all the data in the next section."
   ]
  },
  {
   "cell_type": "code",
   "execution_count": 19,
   "metadata": {},
   "outputs": [
    {
     "name": "stdout",
     "output_type": "stream",
     "text": [
      "Checking the Training on a Single Batch...\n",
      "Epoch  1, CIFAR-10 Batch 1:  Loss:     2.1400 Validation Accuracy: 0.249400\n",
      "Epoch  2, CIFAR-10 Batch 1:  Loss:     1.8951 Validation Accuracy: 0.335000\n",
      "Epoch  3, CIFAR-10 Batch 1:  Loss:     1.7080 Validation Accuracy: 0.401200\n",
      "Epoch  4, CIFAR-10 Batch 1:  Loss:     1.5705 Validation Accuracy: 0.432400\n",
      "Epoch  5, CIFAR-10 Batch 1:  Loss:     1.4574 Validation Accuracy: 0.455400\n",
      "Epoch  6, CIFAR-10 Batch 1:  Loss:     1.3645 Validation Accuracy: 0.469800\n",
      "Epoch  7, CIFAR-10 Batch 1:  Loss:     1.2533 Validation Accuracy: 0.481200\n",
      "Epoch  8, CIFAR-10 Batch 1:  Loss:     1.1670 Validation Accuracy: 0.487200\n",
      "Epoch  9, CIFAR-10 Batch 1:  Loss:     1.0939 Validation Accuracy: 0.495200\n",
      "Epoch 10, CIFAR-10 Batch 1:  Loss:     1.0876 Validation Accuracy: 0.495000\n",
      "Epoch 11, CIFAR-10 Batch 1:  Loss:     0.9700 Validation Accuracy: 0.508400\n",
      "Epoch 12, CIFAR-10 Batch 1:  Loss:     0.9001 Validation Accuracy: 0.518000\n",
      "Epoch 13, CIFAR-10 Batch 1:  Loss:     0.8344 Validation Accuracy: 0.525800\n",
      "Epoch 14, CIFAR-10 Batch 1:  Loss:     0.7622 Validation Accuracy: 0.535000\n",
      "Epoch 15, CIFAR-10 Batch 1:  Loss:     0.6995 Validation Accuracy: 0.538600\n",
      "Epoch 16, CIFAR-10 Batch 1:  Loss:     0.6520 Validation Accuracy: 0.535200\n",
      "Epoch 17, CIFAR-10 Batch 1:  Loss:     0.6367 Validation Accuracy: 0.528200\n",
      "Epoch 18, CIFAR-10 Batch 1:  Loss:     0.6548 Validation Accuracy: 0.513800\n",
      "Epoch 19, CIFAR-10 Batch 1:  Loss:     0.6377 Validation Accuracy: 0.516200\n",
      "Epoch 20, CIFAR-10 Batch 1:  Loss:     0.5277 Validation Accuracy: 0.535600\n",
      "Epoch 21, CIFAR-10 Batch 1:  Loss:     0.4967 Validation Accuracy: 0.537000\n",
      "Epoch 22, CIFAR-10 Batch 1:  Loss:     0.4556 Validation Accuracy: 0.530600\n",
      "Epoch 23, CIFAR-10 Batch 1:  Loss:     0.4216 Validation Accuracy: 0.546200\n",
      "Epoch 24, CIFAR-10 Batch 1:  Loss:     0.4420 Validation Accuracy: 0.534800\n",
      "Epoch 25, CIFAR-10 Batch 1:  Loss:     0.4234 Validation Accuracy: 0.539400\n",
      "Epoch 26, CIFAR-10 Batch 1:  Loss:     0.3545 Validation Accuracy: 0.544000\n",
      "Epoch 27, CIFAR-10 Batch 1:  Loss:     0.3582 Validation Accuracy: 0.540800\n",
      "Epoch 28, CIFAR-10 Batch 1:  Loss:     0.3539 Validation Accuracy: 0.527400\n",
      "Epoch 29, CIFAR-10 Batch 1:  Loss:     0.2949 Validation Accuracy: 0.536200\n",
      "Epoch 30, CIFAR-10 Batch 1:  Loss:     0.3012 Validation Accuracy: 0.529600\n",
      "Epoch 31, CIFAR-10 Batch 1:  Loss:     0.3621 Validation Accuracy: 0.504800\n",
      "Epoch 32, CIFAR-10 Batch 1:  Loss:     0.2847 Validation Accuracy: 0.525000\n",
      "Epoch 33, CIFAR-10 Batch 1:  Loss:     0.3127 Validation Accuracy: 0.523200\n",
      "Epoch 34, CIFAR-10 Batch 1:  Loss:     0.2463 Validation Accuracy: 0.522000\n",
      "Epoch 35, CIFAR-10 Batch 1:  Loss:     0.3472 Validation Accuracy: 0.479800\n",
      "Epoch 36, CIFAR-10 Batch 1:  Loss:     0.1905 Validation Accuracy: 0.548200\n",
      "Epoch 37, CIFAR-10 Batch 1:  Loss:     0.2036 Validation Accuracy: 0.534200\n",
      "Epoch 38, CIFAR-10 Batch 1:  Loss:     0.1868 Validation Accuracy: 0.531400\n",
      "Epoch 39, CIFAR-10 Batch 1:  Loss:     0.1843 Validation Accuracy: 0.518800\n",
      "Epoch 40, CIFAR-10 Batch 1:  Loss:     0.1938 Validation Accuracy: 0.513200\n",
      "Epoch 41, CIFAR-10 Batch 1:  Loss:     0.2170 Validation Accuracy: 0.500600\n",
      "Epoch 42, CIFAR-10 Batch 1:  Loss:     0.3097 Validation Accuracy: 0.468400\n",
      "Epoch 43, CIFAR-10 Batch 1:  Loss:     0.1910 Validation Accuracy: 0.530800\n",
      "Epoch 44, CIFAR-10 Batch 1:  Loss:     0.2959 Validation Accuracy: 0.509400\n",
      "Epoch 45, CIFAR-10 Batch 1:  Loss:     0.1427 Validation Accuracy: 0.529400\n",
      "Epoch 46, CIFAR-10 Batch 1:  Loss:     0.1561 Validation Accuracy: 0.520600\n",
      "Epoch 47, CIFAR-10 Batch 1:  Loss:     0.2384 Validation Accuracy: 0.504400\n",
      "Epoch 48, CIFAR-10 Batch 1:  Loss:     0.1832 Validation Accuracy: 0.487600\n",
      "Epoch 49, CIFAR-10 Batch 1:  Loss:     0.1706 Validation Accuracy: 0.502200\n",
      "Epoch 50, CIFAR-10 Batch 1:  Loss:     0.1283 Validation Accuracy: 0.540600\n",
      "Epoch 51, CIFAR-10 Batch 1:  Loss:     0.1034 Validation Accuracy: 0.542200\n",
      "Epoch 52, CIFAR-10 Batch 1:  Loss:     0.0764 Validation Accuracy: 0.543000\n",
      "Epoch 53, CIFAR-10 Batch 1:  Loss:     0.0557 Validation Accuracy: 0.547200\n",
      "Epoch 54, CIFAR-10 Batch 1:  Loss:     0.0599 Validation Accuracy: 0.532600\n",
      "Epoch 55, CIFAR-10 Batch 1:  Loss:     0.1561 Validation Accuracy: 0.473400\n",
      "Epoch 56, CIFAR-10 Batch 1:  Loss:     0.2309 Validation Accuracy: 0.451200\n",
      "Epoch 57, CIFAR-10 Batch 1:  Loss:     0.1269 Validation Accuracy: 0.529000\n",
      "Epoch 58, CIFAR-10 Batch 1:  Loss:     0.0700 Validation Accuracy: 0.526200\n",
      "Epoch 59, CIFAR-10 Batch 1:  Loss:     0.0552 Validation Accuracy: 0.531800\n",
      "Epoch 60, CIFAR-10 Batch 1:  Loss:     0.0520 Validation Accuracy: 0.527400\n"
     ]
    }
   ],
   "source": [
    "\"\"\"\n",
    "DON'T MODIFY ANYTHING IN THIS CELL\n",
    "\"\"\"\n",
    "print('Checking the Training on a Single Batch...')\n",
    "with tf.Session() as sess:\n",
    "    # Initializing the variables\n",
    "    sess.run(tf.global_variables_initializer())\n",
    "    \n",
    "    # Training cycle\n",
    "    for epoch in range(epochs):\n",
    "        batch_i = 1\n",
    "        for batch_features, batch_labels in helper.load_preprocess_training_batch(batch_i, batch_size):\n",
    "            train_neural_network(sess, optimizer, keep_probability, batch_features, batch_labels)\n",
    "        print('Epoch {:>2}, CIFAR-10 Batch {}:  '.format(epoch + 1, batch_i), end='')\n",
    "        print_stats(sess, batch_features, batch_labels, cost, accuracy)"
   ]
  },
  {
   "cell_type": "markdown",
   "metadata": {},
   "source": [
    "### Fully Train the Model\n",
    "Now that you got a good accuracy with a single CIFAR-10 batch, try it with all five batches."
   ]
  },
  {
   "cell_type": "code",
   "execution_count": 17,
   "metadata": {},
   "outputs": [
    {
     "name": "stdout",
     "output_type": "stream",
     "text": [
      "Training...\n",
      "Epoch  1, CIFAR-10 Batch 1:  Loss:     2.2046 Validation Accuracy: 0.171600\n",
      "Epoch  1, CIFAR-10 Batch 2:  Loss:     1.9089 Validation Accuracy: 0.293200\n",
      "Epoch  1, CIFAR-10 Batch 3:  Loss:     1.6489 Validation Accuracy: 0.352000\n",
      "Epoch  1, CIFAR-10 Batch 4:  Loss:     1.5831 Validation Accuracy: 0.400200\n",
      "Epoch  1, CIFAR-10 Batch 5:  Loss:     1.6347 Validation Accuracy: 0.452200\n",
      "Epoch  2, CIFAR-10 Batch 1:  Loss:     1.6151 Validation Accuracy: 0.451000\n",
      "Epoch  2, CIFAR-10 Batch 2:  Loss:     1.4282 Validation Accuracy: 0.472600\n",
      "Epoch  2, CIFAR-10 Batch 3:  Loss:     1.2531 Validation Accuracy: 0.479200\n",
      "Epoch  2, CIFAR-10 Batch 4:  Loss:     1.2896 Validation Accuracy: 0.487000\n",
      "Epoch  2, CIFAR-10 Batch 5:  Loss:     1.3833 Validation Accuracy: 0.503200\n",
      "Epoch  3, CIFAR-10 Batch 1:  Loss:     1.4216 Validation Accuracy: 0.513200\n",
      "Epoch  3, CIFAR-10 Batch 2:  Loss:     1.2516 Validation Accuracy: 0.530000\n",
      "Epoch  3, CIFAR-10 Batch 3:  Loss:     1.1436 Validation Accuracy: 0.516200\n",
      "Epoch  3, CIFAR-10 Batch 4:  Loss:     1.1527 Validation Accuracy: 0.524600\n",
      "Epoch  3, CIFAR-10 Batch 5:  Loss:     1.2416 Validation Accuracy: 0.536800\n",
      "Epoch  4, CIFAR-10 Batch 1:  Loss:     1.2766 Validation Accuracy: 0.550800\n",
      "Epoch  4, CIFAR-10 Batch 2:  Loss:     1.1418 Validation Accuracy: 0.555800\n",
      "Epoch  4, CIFAR-10 Batch 3:  Loss:     1.0173 Validation Accuracy: 0.544800\n",
      "Epoch  4, CIFAR-10 Batch 4:  Loss:     1.0701 Validation Accuracy: 0.546400\n",
      "Epoch  4, CIFAR-10 Batch 5:  Loss:     1.1498 Validation Accuracy: 0.567400\n",
      "Epoch  5, CIFAR-10 Batch 1:  Loss:     1.1652 Validation Accuracy: 0.572600\n",
      "Epoch  5, CIFAR-10 Batch 2:  Loss:     1.0527 Validation Accuracy: 0.586800\n",
      "Epoch  5, CIFAR-10 Batch 3:  Loss:     0.9214 Validation Accuracy: 0.569200\n",
      "Epoch  5, CIFAR-10 Batch 4:  Loss:     0.9789 Validation Accuracy: 0.572400\n",
      "Epoch  5, CIFAR-10 Batch 5:  Loss:     1.0590 Validation Accuracy: 0.590400\n",
      "Epoch  6, CIFAR-10 Batch 1:  Loss:     1.0698 Validation Accuracy: 0.589400\n",
      "Epoch  6, CIFAR-10 Batch 2:  Loss:     0.9966 Validation Accuracy: 0.603800\n",
      "Epoch  6, CIFAR-10 Batch 3:  Loss:     0.8636 Validation Accuracy: 0.579000\n",
      "Epoch  6, CIFAR-10 Batch 4:  Loss:     0.9088 Validation Accuracy: 0.591800\n",
      "Epoch  6, CIFAR-10 Batch 5:  Loss:     0.9704 Validation Accuracy: 0.607800\n",
      "Epoch  7, CIFAR-10 Batch 1:  Loss:     0.9784 Validation Accuracy: 0.594600\n",
      "Epoch  7, CIFAR-10 Batch 2:  Loss:     0.9265 Validation Accuracy: 0.621000\n",
      "Epoch  7, CIFAR-10 Batch 3:  Loss:     0.7991 Validation Accuracy: 0.594800\n",
      "Epoch  7, CIFAR-10 Batch 4:  Loss:     0.8743 Validation Accuracy: 0.590600\n",
      "Epoch  7, CIFAR-10 Batch 5:  Loss:     0.8753 Validation Accuracy: 0.623800\n",
      "Epoch  8, CIFAR-10 Batch 1:  Loss:     0.9183 Validation Accuracy: 0.607200\n",
      "Epoch  8, CIFAR-10 Batch 2:  Loss:     0.8896 Validation Accuracy: 0.623200\n",
      "Epoch  8, CIFAR-10 Batch 3:  Loss:     0.7821 Validation Accuracy: 0.590000\n",
      "Epoch  8, CIFAR-10 Batch 4:  Loss:     0.8433 Validation Accuracy: 0.594000\n",
      "Epoch  8, CIFAR-10 Batch 5:  Loss:     0.8443 Validation Accuracy: 0.616800\n",
      "Epoch  9, CIFAR-10 Batch 1:  Loss:     0.8291 Validation Accuracy: 0.646600\n",
      "Epoch  9, CIFAR-10 Batch 2:  Loss:     0.8539 Validation Accuracy: 0.619800\n",
      "Epoch  9, CIFAR-10 Batch 3:  Loss:     0.6939 Validation Accuracy: 0.621800\n",
      "Epoch  9, CIFAR-10 Batch 4:  Loss:     0.7309 Validation Accuracy: 0.621800\n",
      "Epoch  9, CIFAR-10 Batch 5:  Loss:     0.7759 Validation Accuracy: 0.624400\n",
      "Epoch 10, CIFAR-10 Batch 1:  Loss:     0.7645 Validation Accuracy: 0.649600\n",
      "Epoch 10, CIFAR-10 Batch 2:  Loss:     0.7921 Validation Accuracy: 0.626000\n",
      "Epoch 10, CIFAR-10 Batch 3:  Loss:     0.6436 Validation Accuracy: 0.634000\n",
      "Epoch 10, CIFAR-10 Batch 4:  Loss:     0.6785 Validation Accuracy: 0.633200\n",
      "Epoch 10, CIFAR-10 Batch 5:  Loss:     0.7067 Validation Accuracy: 0.636600\n",
      "Epoch 11, CIFAR-10 Batch 1:  Loss:     0.7079 Validation Accuracy: 0.653200\n",
      "Epoch 11, CIFAR-10 Batch 2:  Loss:     0.7356 Validation Accuracy: 0.633600\n",
      "Epoch 11, CIFAR-10 Batch 3:  Loss:     0.6110 Validation Accuracy: 0.636000\n",
      "Epoch 11, CIFAR-10 Batch 4:  Loss:     0.6301 Validation Accuracy: 0.645600\n",
      "Epoch 11, CIFAR-10 Batch 5:  Loss:     0.6617 Validation Accuracy: 0.641800\n",
      "Epoch 12, CIFAR-10 Batch 1:  Loss:     0.6651 Validation Accuracy: 0.656600\n",
      "Epoch 12, CIFAR-10 Batch 2:  Loss:     0.6737 Validation Accuracy: 0.640000\n",
      "Epoch 12, CIFAR-10 Batch 3:  Loss:     0.5882 Validation Accuracy: 0.632800\n",
      "Epoch 12, CIFAR-10 Batch 4:  Loss:     0.6076 Validation Accuracy: 0.646000\n",
      "Epoch 12, CIFAR-10 Batch 5:  Loss:     0.6365 Validation Accuracy: 0.642000\n",
      "Epoch 13, CIFAR-10 Batch 1:  Loss:     0.6446 Validation Accuracy: 0.649000\n",
      "Epoch 13, CIFAR-10 Batch 2:  Loss:     0.6198 Validation Accuracy: 0.644800\n",
      "Epoch 13, CIFAR-10 Batch 3:  Loss:     0.5747 Validation Accuracy: 0.620400\n",
      "Epoch 13, CIFAR-10 Batch 4:  Loss:     0.5876 Validation Accuracy: 0.649800\n",
      "Epoch 13, CIFAR-10 Batch 5:  Loss:     0.6005 Validation Accuracy: 0.644400\n",
      "Epoch 14, CIFAR-10 Batch 1:  Loss:     0.6032 Validation Accuracy: 0.653800\n",
      "Epoch 14, CIFAR-10 Batch 2:  Loss:     0.5960 Validation Accuracy: 0.653800\n",
      "Epoch 14, CIFAR-10 Batch 3:  Loss:     0.5274 Validation Accuracy: 0.638000\n",
      "Epoch 14, CIFAR-10 Batch 4:  Loss:     0.5437 Validation Accuracy: 0.658800\n",
      "Epoch 14, CIFAR-10 Batch 5:  Loss:     0.5720 Validation Accuracy: 0.643200\n",
      "Epoch 15, CIFAR-10 Batch 1:  Loss:     0.5400 Validation Accuracy: 0.661000\n",
      "Epoch 15, CIFAR-10 Batch 2:  Loss:     0.6150 Validation Accuracy: 0.631600\n",
      "Epoch 15, CIFAR-10 Batch 3:  Loss:     0.5212 Validation Accuracy: 0.635800\n",
      "Epoch 15, CIFAR-10 Batch 4:  Loss:     0.5185 Validation Accuracy: 0.649600\n",
      "Epoch 15, CIFAR-10 Batch 5:  Loss:     0.5242 Validation Accuracy: 0.653000\n",
      "Epoch 16, CIFAR-10 Batch 1:  Loss:     0.5269 Validation Accuracy: 0.660200\n",
      "Epoch 16, CIFAR-10 Batch 2:  Loss:     0.5570 Validation Accuracy: 0.635000\n",
      "Epoch 16, CIFAR-10 Batch 3:  Loss:     0.4916 Validation Accuracy: 0.639800\n",
      "Epoch 16, CIFAR-10 Batch 4:  Loss:     0.5019 Validation Accuracy: 0.642800\n",
      "Epoch 16, CIFAR-10 Batch 5:  Loss:     0.5018 Validation Accuracy: 0.659400\n",
      "Epoch 17, CIFAR-10 Batch 1:  Loss:     0.5401 Validation Accuracy: 0.648600\n",
      "Epoch 17, CIFAR-10 Batch 2:  Loss:     0.5837 Validation Accuracy: 0.601400\n",
      "Epoch 17, CIFAR-10 Batch 3:  Loss:     0.4489 Validation Accuracy: 0.644600\n",
      "Epoch 17, CIFAR-10 Batch 4:  Loss:     0.4221 Validation Accuracy: 0.662800\n",
      "Epoch 17, CIFAR-10 Batch 5:  Loss:     0.4802 Validation Accuracy: 0.645800\n",
      "Epoch 18, CIFAR-10 Batch 1:  Loss:     0.4448 Validation Accuracy: 0.661600\n",
      "Epoch 18, CIFAR-10 Batch 2:  Loss:     0.5503 Validation Accuracy: 0.610400\n",
      "Epoch 18, CIFAR-10 Batch 3:  Loss:     0.4091 Validation Accuracy: 0.654000\n",
      "Epoch 18, CIFAR-10 Batch 4:  Loss:     0.3894 Validation Accuracy: 0.659400\n",
      "Epoch 18, CIFAR-10 Batch 5:  Loss:     0.3920 Validation Accuracy: 0.664400\n",
      "Epoch 19, CIFAR-10 Batch 1:  Loss:     0.4239 Validation Accuracy: 0.659200\n",
      "Epoch 19, CIFAR-10 Batch 2:  Loss:     0.4581 Validation Accuracy: 0.640600\n",
      "Epoch 19, CIFAR-10 Batch 3:  Loss:     0.4007 Validation Accuracy: 0.651400\n",
      "Epoch 19, CIFAR-10 Batch 4:  Loss:     0.3704 Validation Accuracy: 0.651400\n",
      "Epoch 19, CIFAR-10 Batch 5:  Loss:     0.3738 Validation Accuracy: 0.659200\n",
      "Epoch 20, CIFAR-10 Batch 1:  Loss:     0.4279 Validation Accuracy: 0.642200\n",
      "Epoch 20, CIFAR-10 Batch 2:  Loss:     0.4258 Validation Accuracy: 0.653000\n",
      "Epoch 20, CIFAR-10 Batch 3:  Loss:     0.3983 Validation Accuracy: 0.637400\n",
      "Epoch 20, CIFAR-10 Batch 4:  Loss:     0.3744 Validation Accuracy: 0.656400\n",
      "Epoch 20, CIFAR-10 Batch 5:  Loss:     0.3780 Validation Accuracy: 0.651000\n",
      "Epoch 21, CIFAR-10 Batch 1:  Loss:     0.4220 Validation Accuracy: 0.639800\n",
      "Epoch 21, CIFAR-10 Batch 2:  Loss:     0.4705 Validation Accuracy: 0.634400\n",
      "Epoch 21, CIFAR-10 Batch 3:  Loss:     0.3412 Validation Accuracy: 0.665800\n",
      "Epoch 21, CIFAR-10 Batch 4:  Loss:     0.4008 Validation Accuracy: 0.642000\n",
      "Epoch 21, CIFAR-10 Batch 5:  Loss:     0.3573 Validation Accuracy: 0.651600\n",
      "Epoch 22, CIFAR-10 Batch 1:  Loss:     0.3881 Validation Accuracy: 0.650600\n",
      "Epoch 22, CIFAR-10 Batch 2:  Loss:     0.4234 Validation Accuracy: 0.644200\n",
      "Epoch 22, CIFAR-10 Batch 3:  Loss:     0.3719 Validation Accuracy: 0.640400\n"
     ]
    },
    {
     "name": "stdout",
     "output_type": "stream",
     "text": [
      "Epoch 22, CIFAR-10 Batch 4:  Loss:     0.3631 Validation Accuracy: 0.653800\n",
      "Epoch 22, CIFAR-10 Batch 5:  Loss:     0.3316 Validation Accuracy: 0.661400\n",
      "Epoch 23, CIFAR-10 Batch 1:  Loss:     0.3482 Validation Accuracy: 0.666400\n",
      "Epoch 23, CIFAR-10 Batch 2:  Loss:     0.3664 Validation Accuracy: 0.658800\n",
      "Epoch 23, CIFAR-10 Batch 3:  Loss:     0.3210 Validation Accuracy: 0.651200\n",
      "Epoch 23, CIFAR-10 Batch 4:  Loss:     0.3130 Validation Accuracy: 0.656800\n",
      "Epoch 23, CIFAR-10 Batch 5:  Loss:     0.3014 Validation Accuracy: 0.665200\n",
      "Epoch 24, CIFAR-10 Batch 1:  Loss:     0.3177 Validation Accuracy: 0.660600\n",
      "Epoch 24, CIFAR-10 Batch 2:  Loss:     0.3939 Validation Accuracy: 0.641400\n",
      "Epoch 24, CIFAR-10 Batch 3:  Loss:     0.3497 Validation Accuracy: 0.636200\n",
      "Epoch 24, CIFAR-10 Batch 4:  Loss:     0.2848 Validation Accuracy: 0.666400\n",
      "Epoch 24, CIFAR-10 Batch 5:  Loss:     0.3066 Validation Accuracy: 0.662800\n",
      "Epoch 25, CIFAR-10 Batch 1:  Loss:     0.3130 Validation Accuracy: 0.658800\n",
      "Epoch 25, CIFAR-10 Batch 2:  Loss:     0.3977 Validation Accuracy: 0.637800\n",
      "Epoch 25, CIFAR-10 Batch 3:  Loss:     0.3395 Validation Accuracy: 0.638600\n",
      "Epoch 25, CIFAR-10 Batch 4:  Loss:     0.2927 Validation Accuracy: 0.652000\n",
      "Epoch 25, CIFAR-10 Batch 5:  Loss:     0.3186 Validation Accuracy: 0.656000\n",
      "Epoch 26, CIFAR-10 Batch 1:  Loss:     0.3443 Validation Accuracy: 0.650400\n",
      "Epoch 26, CIFAR-10 Batch 2:  Loss:     0.3995 Validation Accuracy: 0.645200\n",
      "Epoch 26, CIFAR-10 Batch 3:  Loss:     0.3140 Validation Accuracy: 0.648200\n",
      "Epoch 26, CIFAR-10 Batch 4:  Loss:     0.2451 Validation Accuracy: 0.665000\n",
      "Epoch 26, CIFAR-10 Batch 5:  Loss:     0.2484 Validation Accuracy: 0.662400\n",
      "Epoch 27, CIFAR-10 Batch 1:  Loss:     0.2797 Validation Accuracy: 0.670000\n",
      "Epoch 27, CIFAR-10 Batch 2:  Loss:     0.3638 Validation Accuracy: 0.654200\n",
      "Epoch 27, CIFAR-10 Batch 3:  Loss:     0.2858 Validation Accuracy: 0.644400\n",
      "Epoch 27, CIFAR-10 Batch 4:  Loss:     0.2675 Validation Accuracy: 0.656600\n",
      "Epoch 27, CIFAR-10 Batch 5:  Loss:     0.2629 Validation Accuracy: 0.645800\n",
      "Epoch 28, CIFAR-10 Batch 1:  Loss:     0.3053 Validation Accuracy: 0.657600\n",
      "Epoch 28, CIFAR-10 Batch 2:  Loss:     0.3209 Validation Accuracy: 0.651000\n",
      "Epoch 28, CIFAR-10 Batch 3:  Loss:     0.2696 Validation Accuracy: 0.649600\n",
      "Epoch 28, CIFAR-10 Batch 4:  Loss:     0.2157 Validation Accuracy: 0.656600\n",
      "Epoch 28, CIFAR-10 Batch 5:  Loss:     0.2280 Validation Accuracy: 0.662600\n",
      "Epoch 29, CIFAR-10 Batch 1:  Loss:     0.2876 Validation Accuracy: 0.660000\n",
      "Epoch 29, CIFAR-10 Batch 2:  Loss:     0.2899 Validation Accuracy: 0.643000\n",
      "Epoch 29, CIFAR-10 Batch 3:  Loss:     0.2395 Validation Accuracy: 0.659800\n",
      "Epoch 29, CIFAR-10 Batch 4:  Loss:     0.1853 Validation Accuracy: 0.657800\n",
      "Epoch 29, CIFAR-10 Batch 5:  Loss:     0.2014 Validation Accuracy: 0.677400\n",
      "Epoch 30, CIFAR-10 Batch 1:  Loss:     0.2822 Validation Accuracy: 0.657600\n",
      "Epoch 30, CIFAR-10 Batch 2:  Loss:     0.2751 Validation Accuracy: 0.647200\n",
      "Epoch 30, CIFAR-10 Batch 3:  Loss:     0.2591 Validation Accuracy: 0.652600\n",
      "Epoch 30, CIFAR-10 Batch 4:  Loss:     0.1919 Validation Accuracy: 0.658400\n",
      "Epoch 30, CIFAR-10 Batch 5:  Loss:     0.2089 Validation Accuracy: 0.673400\n",
      "Epoch 31, CIFAR-10 Batch 1:  Loss:     0.2731 Validation Accuracy: 0.660000\n",
      "Epoch 31, CIFAR-10 Batch 2:  Loss:     0.2886 Validation Accuracy: 0.651800\n",
      "Epoch 31, CIFAR-10 Batch 3:  Loss:     0.2087 Validation Accuracy: 0.663000\n",
      "Epoch 31, CIFAR-10 Batch 4:  Loss:     0.2114 Validation Accuracy: 0.641400\n",
      "Epoch 31, CIFAR-10 Batch 5:  Loss:     0.2856 Validation Accuracy: 0.666600\n",
      "Epoch 32, CIFAR-10 Batch 1:  Loss:     0.2782 Validation Accuracy: 0.657800\n",
      "Epoch 32, CIFAR-10 Batch 2:  Loss:     0.2601 Validation Accuracy: 0.662200\n",
      "Epoch 32, CIFAR-10 Batch 3:  Loss:     0.1723 Validation Accuracy: 0.655000\n",
      "Epoch 32, CIFAR-10 Batch 4:  Loss:     0.2302 Validation Accuracy: 0.654800\n",
      "Epoch 32, CIFAR-10 Batch 5:  Loss:     0.2520 Validation Accuracy: 0.661200\n",
      "Epoch 33, CIFAR-10 Batch 1:  Loss:     0.2160 Validation Accuracy: 0.660800\n",
      "Epoch 33, CIFAR-10 Batch 2:  Loss:     0.2196 Validation Accuracy: 0.661600\n",
      "Epoch 33, CIFAR-10 Batch 3:  Loss:     0.1995 Validation Accuracy: 0.637200\n",
      "Epoch 33, CIFAR-10 Batch 4:  Loss:     0.2096 Validation Accuracy: 0.658600\n",
      "Epoch 33, CIFAR-10 Batch 5:  Loss:     0.2230 Validation Accuracy: 0.661000\n",
      "Epoch 34, CIFAR-10 Batch 1:  Loss:     0.1916 Validation Accuracy: 0.662600\n",
      "Epoch 34, CIFAR-10 Batch 2:  Loss:     0.1873 Validation Accuracy: 0.668000\n",
      "Epoch 34, CIFAR-10 Batch 3:  Loss:     0.1641 Validation Accuracy: 0.643000\n",
      "Epoch 34, CIFAR-10 Batch 4:  Loss:     0.1864 Validation Accuracy: 0.656400\n",
      "Epoch 34, CIFAR-10 Batch 5:  Loss:     0.1753 Validation Accuracy: 0.668600\n",
      "Epoch 35, CIFAR-10 Batch 1:  Loss:     0.1857 Validation Accuracy: 0.662000\n",
      "Epoch 35, CIFAR-10 Batch 2:  Loss:     0.1739 Validation Accuracy: 0.661600\n",
      "Epoch 35, CIFAR-10 Batch 3:  Loss:     0.1866 Validation Accuracy: 0.636600\n",
      "Epoch 35, CIFAR-10 Batch 4:  Loss:     0.1721 Validation Accuracy: 0.655000\n",
      "Epoch 35, CIFAR-10 Batch 5:  Loss:     0.1707 Validation Accuracy: 0.665000\n",
      "Epoch 36, CIFAR-10 Batch 1:  Loss:     0.2243 Validation Accuracy: 0.646600\n",
      "Epoch 36, CIFAR-10 Batch 2:  Loss:     0.1956 Validation Accuracy: 0.657200\n",
      "Epoch 36, CIFAR-10 Batch 3:  Loss:     0.2143 Validation Accuracy: 0.634600\n",
      "Epoch 36, CIFAR-10 Batch 4:  Loss:     0.1724 Validation Accuracy: 0.650200\n",
      "Epoch 36, CIFAR-10 Batch 5:  Loss:     0.2442 Validation Accuracy: 0.639200\n",
      "Epoch 37, CIFAR-10 Batch 1:  Loss:     0.1983 Validation Accuracy: 0.656400\n",
      "Epoch 37, CIFAR-10 Batch 2:  Loss:     0.1816 Validation Accuracy: 0.656800\n",
      "Epoch 37, CIFAR-10 Batch 3:  Loss:     0.1722 Validation Accuracy: 0.647400\n",
      "Epoch 37, CIFAR-10 Batch 4:  Loss:     0.1899 Validation Accuracy: 0.637000\n",
      "Epoch 37, CIFAR-10 Batch 5:  Loss:     0.1770 Validation Accuracy: 0.655400\n",
      "Epoch 38, CIFAR-10 Batch 1:  Loss:     0.1681 Validation Accuracy: 0.651600\n",
      "Epoch 38, CIFAR-10 Batch 2:  Loss:     0.1919 Validation Accuracy: 0.630600\n",
      "Epoch 38, CIFAR-10 Batch 3:  Loss:     0.1062 Validation Accuracy: 0.668800\n",
      "Epoch 38, CIFAR-10 Batch 4:  Loss:     0.2083 Validation Accuracy: 0.652800\n",
      "Epoch 38, CIFAR-10 Batch 5:  Loss:     0.1539 Validation Accuracy: 0.655200\n",
      "Epoch 39, CIFAR-10 Batch 1:  Loss:     0.1784 Validation Accuracy: 0.637600\n",
      "Epoch 39, CIFAR-10 Batch 2:  Loss:     0.2871 Validation Accuracy: 0.599000\n",
      "Epoch 39, CIFAR-10 Batch 3:  Loss:     0.1429 Validation Accuracy: 0.652000\n",
      "Epoch 39, CIFAR-10 Batch 4:  Loss:     0.1422 Validation Accuracy: 0.666200\n",
      "Epoch 39, CIFAR-10 Batch 5:  Loss:     0.1438 Validation Accuracy: 0.647800\n",
      "Epoch 40, CIFAR-10 Batch 1:  Loss:     0.1650 Validation Accuracy: 0.644200\n",
      "Epoch 40, CIFAR-10 Batch 2:  Loss:     0.1953 Validation Accuracy: 0.646800\n",
      "Epoch 40, CIFAR-10 Batch 3:  Loss:     0.1944 Validation Accuracy: 0.631200\n",
      "Epoch 40, CIFAR-10 Batch 4:  Loss:     0.1458 Validation Accuracy: 0.656200\n",
      "Epoch 40, CIFAR-10 Batch 5:  Loss:     0.1612 Validation Accuracy: 0.627600\n",
      "Epoch 41, CIFAR-10 Batch 1:  Loss:     0.1670 Validation Accuracy: 0.658200\n",
      "Epoch 41, CIFAR-10 Batch 2:  Loss:     0.1685 Validation Accuracy: 0.648600\n",
      "Epoch 41, CIFAR-10 Batch 3:  Loss:     0.2134 Validation Accuracy: 0.634800\n",
      "Epoch 41, CIFAR-10 Batch 4:  Loss:     0.2355 Validation Accuracy: 0.626000\n",
      "Epoch 41, CIFAR-10 Batch 5:  Loss:     0.1898 Validation Accuracy: 0.635600\n",
      "Epoch 42, CIFAR-10 Batch 1:  Loss:     0.1697 Validation Accuracy: 0.646400\n",
      "Epoch 42, CIFAR-10 Batch 2:  Loss:     0.1529 Validation Accuracy: 0.657000\n",
      "Epoch 42, CIFAR-10 Batch 3:  Loss:     0.1867 Validation Accuracy: 0.649000\n",
      "Epoch 42, CIFAR-10 Batch 4:  Loss:     0.1105 Validation Accuracy: 0.653400\n",
      "Epoch 42, CIFAR-10 Batch 5:  Loss:     0.2151 Validation Accuracy: 0.637400\n",
      "Epoch 43, CIFAR-10 Batch 1:  Loss:     0.2154 Validation Accuracy: 0.626800\n",
      "Epoch 43, CIFAR-10 Batch 2:  Loss:     0.2104 Validation Accuracy: 0.653200\n",
      "Epoch 43, CIFAR-10 Batch 3:  Loss:     0.1285 Validation Accuracy: 0.662800\n",
      "Epoch 43, CIFAR-10 Batch 4:  Loss:     0.1675 Validation Accuracy: 0.643600\n",
      "Epoch 43, CIFAR-10 Batch 5:  Loss:     0.2248 Validation Accuracy: 0.643000\n",
      "Epoch 44, CIFAR-10 Batch 1:  Loss:     0.1626 Validation Accuracy: 0.653400\n"
     ]
    },
    {
     "name": "stdout",
     "output_type": "stream",
     "text": [
      "Epoch 44, CIFAR-10 Batch 2:  Loss:     0.1362 Validation Accuracy: 0.662400\n",
      "Epoch 44, CIFAR-10 Batch 3:  Loss:     0.1179 Validation Accuracy: 0.659200\n",
      "Epoch 44, CIFAR-10 Batch 4:  Loss:     0.1477 Validation Accuracy: 0.627400\n",
      "Epoch 44, CIFAR-10 Batch 5:  Loss:     0.1160 Validation Accuracy: 0.668600\n",
      "Epoch 45, CIFAR-10 Batch 1:  Loss:     0.1301 Validation Accuracy: 0.659000\n",
      "Epoch 45, CIFAR-10 Batch 2:  Loss:     0.0983 Validation Accuracy: 0.666200\n",
      "Epoch 45, CIFAR-10 Batch 3:  Loss:     0.0699 Validation Accuracy: 0.663600\n",
      "Epoch 45, CIFAR-10 Batch 4:  Loss:     0.0979 Validation Accuracy: 0.647000\n",
      "Epoch 45, CIFAR-10 Batch 5:  Loss:     0.0886 Validation Accuracy: 0.666600\n",
      "Epoch 46, CIFAR-10 Batch 1:  Loss:     0.1045 Validation Accuracy: 0.647400\n",
      "Epoch 46, CIFAR-10 Batch 2:  Loss:     0.1047 Validation Accuracy: 0.654600\n",
      "Epoch 46, CIFAR-10 Batch 3:  Loss:     0.0704 Validation Accuracy: 0.663400\n",
      "Epoch 46, CIFAR-10 Batch 4:  Loss:     0.0858 Validation Accuracy: 0.644400\n",
      "Epoch 46, CIFAR-10 Batch 5:  Loss:     0.1124 Validation Accuracy: 0.649200\n",
      "Epoch 47, CIFAR-10 Batch 1:  Loss:     0.1192 Validation Accuracy: 0.634600\n",
      "Epoch 47, CIFAR-10 Batch 2:  Loss:     0.1242 Validation Accuracy: 0.643800\n",
      "Epoch 47, CIFAR-10 Batch 3:  Loss:     0.0904 Validation Accuracy: 0.661000\n",
      "Epoch 47, CIFAR-10 Batch 4:  Loss:     0.0866 Validation Accuracy: 0.642800\n",
      "Epoch 47, CIFAR-10 Batch 5:  Loss:     0.1292 Validation Accuracy: 0.644200\n",
      "Epoch 48, CIFAR-10 Batch 1:  Loss:     0.1042 Validation Accuracy: 0.643400\n",
      "Epoch 48, CIFAR-10 Batch 2:  Loss:     0.1154 Validation Accuracy: 0.643200\n",
      "Epoch 48, CIFAR-10 Batch 3:  Loss:     0.0844 Validation Accuracy: 0.657000\n",
      "Epoch 48, CIFAR-10 Batch 4:  Loss:     0.0857 Validation Accuracy: 0.647400\n",
      "Epoch 48, CIFAR-10 Batch 5:  Loss:     0.0901 Validation Accuracy: 0.669600\n",
      "Epoch 49, CIFAR-10 Batch 1:  Loss:     0.0703 Validation Accuracy: 0.653800\n",
      "Epoch 49, CIFAR-10 Batch 2:  Loss:     0.0775 Validation Accuracy: 0.651200\n",
      "Epoch 49, CIFAR-10 Batch 3:  Loss:     0.0678 Validation Accuracy: 0.666600\n",
      "Epoch 49, CIFAR-10 Batch 4:  Loss:     0.0816 Validation Accuracy: 0.652200\n",
      "Epoch 49, CIFAR-10 Batch 5:  Loss:     0.0790 Validation Accuracy: 0.654800\n",
      "Epoch 50, CIFAR-10 Batch 1:  Loss:     0.0598 Validation Accuracy: 0.649200\n",
      "Epoch 50, CIFAR-10 Batch 2:  Loss:     0.0709 Validation Accuracy: 0.648600\n",
      "Epoch 50, CIFAR-10 Batch 3:  Loss:     0.0701 Validation Accuracy: 0.656400\n",
      "Epoch 50, CIFAR-10 Batch 4:  Loss:     0.0489 Validation Accuracy: 0.664400\n",
      "Epoch 50, CIFAR-10 Batch 5:  Loss:     0.0948 Validation Accuracy: 0.644600\n",
      "Epoch 51, CIFAR-10 Batch 1:  Loss:     0.0644 Validation Accuracy: 0.650000\n",
      "Epoch 51, CIFAR-10 Batch 2:  Loss:     0.0642 Validation Accuracy: 0.644800\n",
      "Epoch 51, CIFAR-10 Batch 3:  Loss:     0.0764 Validation Accuracy: 0.649200\n",
      "Epoch 51, CIFAR-10 Batch 4:  Loss:     0.0694 Validation Accuracy: 0.651800\n",
      "Epoch 51, CIFAR-10 Batch 5:  Loss:     0.0585 Validation Accuracy: 0.654800\n",
      "Epoch 52, CIFAR-10 Batch 1:  Loss:     0.0677 Validation Accuracy: 0.647800\n",
      "Epoch 52, CIFAR-10 Batch 2:  Loss:     0.0633 Validation Accuracy: 0.652200\n",
      "Epoch 52, CIFAR-10 Batch 3:  Loss:     0.1065 Validation Accuracy: 0.641400\n",
      "Epoch 52, CIFAR-10 Batch 4:  Loss:     0.0806 Validation Accuracy: 0.643600\n",
      "Epoch 52, CIFAR-10 Batch 5:  Loss:     0.0635 Validation Accuracy: 0.646000\n",
      "Epoch 53, CIFAR-10 Batch 1:  Loss:     0.0523 Validation Accuracy: 0.651400\n",
      "Epoch 53, CIFAR-10 Batch 2:  Loss:     0.0938 Validation Accuracy: 0.639400\n",
      "Epoch 53, CIFAR-10 Batch 3:  Loss:     0.0817 Validation Accuracy: 0.652400\n",
      "Epoch 53, CIFAR-10 Batch 4:  Loss:     0.0891 Validation Accuracy: 0.632800\n",
      "Epoch 53, CIFAR-10 Batch 5:  Loss:     0.0681 Validation Accuracy: 0.648400\n",
      "Epoch 54, CIFAR-10 Batch 1:  Loss:     0.0690 Validation Accuracy: 0.635600\n",
      "Epoch 54, CIFAR-10 Batch 2:  Loss:     0.0592 Validation Accuracy: 0.662200\n",
      "Epoch 54, CIFAR-10 Batch 3:  Loss:     0.0667 Validation Accuracy: 0.655600\n",
      "Epoch 54, CIFAR-10 Batch 4:  Loss:     0.1248 Validation Accuracy: 0.619200\n",
      "Epoch 54, CIFAR-10 Batch 5:  Loss:     0.0814 Validation Accuracy: 0.647600\n",
      "Epoch 55, CIFAR-10 Batch 1:  Loss:     0.0987 Validation Accuracy: 0.611200\n",
      "Epoch 55, CIFAR-10 Batch 2:  Loss:     0.0894 Validation Accuracy: 0.647000\n",
      "Epoch 55, CIFAR-10 Batch 3:  Loss:     0.0805 Validation Accuracy: 0.638400\n",
      "Epoch 55, CIFAR-10 Batch 4:  Loss:     0.1139 Validation Accuracy: 0.637200\n",
      "Epoch 55, CIFAR-10 Batch 5:  Loss:     0.0701 Validation Accuracy: 0.650200\n",
      "Epoch 56, CIFAR-10 Batch 1:  Loss:     0.0696 Validation Accuracy: 0.631600\n",
      "Epoch 56, CIFAR-10 Batch 2:  Loss:     0.1253 Validation Accuracy: 0.638000\n",
      "Epoch 56, CIFAR-10 Batch 3:  Loss:     0.0738 Validation Accuracy: 0.651400\n",
      "Epoch 56, CIFAR-10 Batch 4:  Loss:     0.0406 Validation Accuracy: 0.664600\n",
      "Epoch 56, CIFAR-10 Batch 5:  Loss:     0.0711 Validation Accuracy: 0.643200\n",
      "Epoch 57, CIFAR-10 Batch 1:  Loss:     0.1014 Validation Accuracy: 0.623000\n",
      "Epoch 57, CIFAR-10 Batch 2:  Loss:     0.1126 Validation Accuracy: 0.646200\n",
      "Epoch 57, CIFAR-10 Batch 3:  Loss:     0.0506 Validation Accuracy: 0.653400\n",
      "Epoch 57, CIFAR-10 Batch 4:  Loss:     0.0489 Validation Accuracy: 0.642200\n",
      "Epoch 57, CIFAR-10 Batch 5:  Loss:     0.0790 Validation Accuracy: 0.644200\n",
      "Epoch 58, CIFAR-10 Batch 1:  Loss:     0.1067 Validation Accuracy: 0.625200\n",
      "Epoch 58, CIFAR-10 Batch 2:  Loss:     0.0785 Validation Accuracy: 0.640800\n",
      "Epoch 58, CIFAR-10 Batch 3:  Loss:     0.0699 Validation Accuracy: 0.655600\n",
      "Epoch 58, CIFAR-10 Batch 4:  Loss:     0.0625 Validation Accuracy: 0.629800\n",
      "Epoch 58, CIFAR-10 Batch 5:  Loss:     0.0705 Validation Accuracy: 0.648800\n",
      "Epoch 59, CIFAR-10 Batch 1:  Loss:     0.0835 Validation Accuracy: 0.649000\n",
      "Epoch 59, CIFAR-10 Batch 2:  Loss:     0.1255 Validation Accuracy: 0.633000\n",
      "Epoch 59, CIFAR-10 Batch 3:  Loss:     0.0810 Validation Accuracy: 0.645400\n",
      "Epoch 59, CIFAR-10 Batch 4:  Loss:     0.0818 Validation Accuracy: 0.611400\n",
      "Epoch 59, CIFAR-10 Batch 5:  Loss:     0.0709 Validation Accuracy: 0.638600\n",
      "Epoch 60, CIFAR-10 Batch 1:  Loss:     0.0760 Validation Accuracy: 0.645200\n",
      "Epoch 60, CIFAR-10 Batch 2:  Loss:     0.1470 Validation Accuracy: 0.630400\n",
      "Epoch 60, CIFAR-10 Batch 3:  Loss:     0.0848 Validation Accuracy: 0.643000\n",
      "Epoch 60, CIFAR-10 Batch 4:  Loss:     0.0768 Validation Accuracy: 0.622600\n",
      "Epoch 60, CIFAR-10 Batch 5:  Loss:     0.1049 Validation Accuracy: 0.630000\n"
     ]
    }
   ],
   "source": [
    "\"\"\"\n",
    "DON'T MODIFY ANYTHING IN THIS CELL\n",
    "\"\"\"\n",
    "save_model_path = './image_classification'\n",
    "\n",
    "print('Training...')\n",
    "with tf.Session() as sess:\n",
    "    # Initializing the variables\n",
    "    sess.run(tf.global_variables_initializer())\n",
    "    \n",
    "    # Training cycle\n",
    "    for epoch in range(epochs):\n",
    "        # Loop over all batches\n",
    "        n_batches = 5\n",
    "        for batch_i in range(1, n_batches + 1):\n",
    "            for batch_features, batch_labels in helper.load_preprocess_training_batch(batch_i, batch_size):\n",
    "                train_neural_network(sess, optimizer, keep_probability, batch_features, batch_labels)\n",
    "            print('Epoch {:>2}, CIFAR-10 Batch {}:  '.format(epoch + 1, batch_i), end='')\n",
    "            print_stats(sess, batch_features, batch_labels, cost, accuracy)\n",
    "            \n",
    "    # Save Model\n",
    "    saver = tf.train.Saver()\n",
    "    save_path = saver.save(sess, save_model_path)"
   ]
  },
  {
   "cell_type": "markdown",
   "metadata": {},
   "source": [
    "# Checkpoint\n",
    "The model has been saved to disk.\n",
    "## Test Model\n",
    "Test your model against the test dataset.  This will be your final accuracy. You should have an accuracy greater than 50%. If you don't, keep tweaking the model architecture and parameters."
   ]
  },
  {
   "cell_type": "code",
   "execution_count": 18,
   "metadata": {},
   "outputs": [
    {
     "name": "stdout",
     "output_type": "stream",
     "text": [
      "INFO:tensorflow:Restoring parameters from ./image_classification\n",
      "Testing Accuracy: 0.6224954038858413\n",
      "\n"
     ]
    },
    {
     "data": {
      "image/png": "[encoded data removed]",
      "text/plain": [
       "<matplotlib.figure.Figure at 0x7f0bd9baf898>"
      ]
     },
     "metadata": {
      "image/png": {
       "height": 319,
       "width": 354
      }
     },
     "output_type": "display_data"
    }
   ],
   "source": [
    "\"\"\"\n",
    "DON'T MODIFY ANYTHING IN THIS CELL\n",
    "\"\"\"\n",
    "%matplotlib inline\n",
    "%config InlineBackend.figure_format = 'retina'\n",
    "\n",
    "import tensorflow as tf\n",
    "import pickle\n",
    "import helper\n",
    "import random\n",
    "\n",
    "# Set batch size if not already set\n",
    "try:\n",
    "    if batch_size:\n",
    "        pass\n",
    "except NameError:\n",
    "    batch_size = 64\n",
    "\n",
    "save_model_path = './image_classification'\n",
    "n_samples = 4\n",
    "top_n_predictions = 3\n",
    "\n",
    "def test_model():\n",
    "    \"\"\"\n",
    "    Test the saved model against the test dataset\n",
    "    \"\"\"\n",
    "\n",
    "    test_features, test_labels = pickle.load(open('preprocess_training.p', mode='rb'))\n",
    "    loaded_graph = tf.Graph()\n",
    "\n",
    "    with tf.Session(graph=loaded_graph) as sess:\n",
    "        # Load model\n",
    "        loader = tf.train.import_meta_graph(save_model_path + '.meta')\n",
    "        loader.restore(sess, save_model_path)\n",
    "\n",
    "        # Get Tensors from loaded model\n",
    "        loaded_x = loaded_graph.get_tensor_by_name('x:0')\n",
    "        loaded_y = loaded_graph.get_tensor_by_name('y:0')\n",
    "        loaded_keep_prob = loaded_graph.get_tensor_by_name('keep_prob:0')\n",
    "        loaded_logits = loaded_graph.get_tensor_by_name('logits:0')\n",
    "        loaded_acc = loaded_graph.get_tensor_by_name('accuracy:0')\n",
    "        \n",
    "        # Get accuracy in batches for memory limitations\n",
    "        test_batch_acc_total = 0\n",
    "        test_batch_count = 0\n",
    "        \n",
    "        for train_feature_batch, train_label_batch in helper.batch_features_labels(test_features, test_labels, batch_size):\n",
    "            test_batch_acc_total += sess.run(\n",
    "                loaded_acc,\n",
    "                feed_dict={loaded_x: train_feature_batch, loaded_y: train_label_batch, loaded_keep_prob: 1.0})\n",
    "            test_batch_count += 1\n",
    "\n",
    "        print('Testing Accuracy: {}\\n'.format(test_batch_acc_total/test_batch_count))\n",
    "\n",
    "        # Print Random Samples\n",
    "        random_test_features, random_test_labels = tuple(zip(*random.sample(list(zip(test_features, test_labels)), n_samples)))\n",
    "        random_test_predictions = sess.run(\n",
    "            tf.nn.top_k(tf.nn.softmax(loaded_logits), top_n_predictions),\n",
    "            feed_dict={loaded_x: random_test_features, loaded_y: random_test_labels, loaded_keep_prob: 1.0})\n",
    "        helper.display_image_predictions(random_test_features, random_test_labels, random_test_predictions)\n",
    "\n",
    "\n",
    "test_model()"
   ]
  },
  {
   "cell_type": "markdown",
   "metadata": {},
   "source": [
    "## Why 50-80% Accuracy?\n",
    "You might be wondering why you can't get an accuracy any higher. First things first, 50% isn't bad for a simple CNN.  Pure guessing would get you 10% accuracy. However, you might notice people are getting scores [well above 80%](http://rodrigob.github.io/are_we_there_yet/build/classification_datasets_results.html#43494641522d3130).  That's because we haven't taught you all there is to know about neural networks. We still need to cover a few more techniques.\n",
    "## Submitting This Project\n",
    "When submitting this project, make sure to run all the cells before saving the notebook.  Save the notebook file as \"dlnd_image_classification.ipynb\" and save it as a HTML file under \"File\" -> \"Download as\".  Include the \"helper.py\" and \"problem_unittests.py\" files in your submission."
   ]
  },
  {
   "cell_type": "markdown",
   "metadata": {
    "collapsed": true
   },
   "source": [
    "# This is my best accuracy that i got.But in cov_net function, I didnt use fully_conn layer. On using that in each iteration accuracy was getting down."
   ]
  },
  {
   "cell_type": "code",
   "execution_count": null,
   "metadata": {
    "collapsed": true
   },
   "outputs": [],
   "source": []
  }
 ],
 "metadata": {
  "kernelspec": {
   "display_name": "Python 3",
   "language": "python",
   "name": "python3"
  },
  "language_info": {
   "codemirror_mode": {
    "name": "ipython",
    "version": 3
   },
   "file_extension": ".py",
   "mimetype": "text/x-python",
   "name": "python",
   "nbconvert_exporter": "python",
   "pygments_lexer": "ipython3",
   "version": "3.5.3"
  }
 },
 "nbformat": 4,
 "nbformat_minor": 1
}
