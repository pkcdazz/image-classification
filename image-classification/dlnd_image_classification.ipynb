{
 "cells": [
  {
   "cell_type": "markdown",
   "metadata": {
    "collapsed": true
   },
   "source": [
    "# Image Classification\n",
    "In this project, you'll classify images from the [CIFAR-10 dataset](https://www.cs.toronto.edu/~kriz/cifar.html).  The dataset consists of airplanes, dogs, cats, and other objects. You'll preprocess the images, then train a convolutional neural network on all the samples. The images need to be normalized and the labels need to be one-hot encoded.  You'll get to apply what you learned and build a convolutional, max pooling, dropout, and fully connected layers.  At the end, you'll get to see your neural network's predictions on the sample images.\n",
    "## Get the Data\n",
    "Run the following cell to download the [CIFAR-10 dataset for python](https://www.cs.toronto.edu/~kriz/cifar-10-python.tar.gz)."
   ]
  },
  {
   "cell_type": "code",
   "execution_count": 1,
   "metadata": {},
   "outputs": [
    {
     "name": "stdout",
     "output_type": "stream",
     "text": [
      "All files found!\n"
     ]
    }
   ],
   "source": [
    "\"\"\"\n",
    "DON'T MODIFY ANYTHING IN THIS CELL THAT IS BELOW THIS LINE\n",
    "\"\"\"\n",
    "from urllib.request import urlretrieve\n",
    "from os.path import isfile, isdir\n",
    "from tqdm import tqdm\n",
    "import problem_unittests as tests\n",
    "import tarfile\n",
    "\n",
    "cifar10_dataset_folder_path = 'cifar-10-batches-py'\n",
    "\n",
    "# Use Floyd's cifar-10 dataset if present\n",
    "floyd_cifar10_location = '/input/cifar-10/python.tar.gz'\n",
    "if isfile(floyd_cifar10_location):\n",
    "    tar_gz_path = floyd_cifar10_location\n",
    "else:\n",
    "    tar_gz_path = 'cifar-10-python.tar.gz'\n",
    "\n",
    "class DLProgress(tqdm):\n",
    "    last_block = 0\n",
    "\n",
    "    def hook(self, block_num=1, block_size=1, total_size=None):\n",
    "        self.total = total_size\n",
    "        self.update((block_num - self.last_block) * block_size)\n",
    "        self.last_block = block_num\n",
    "\n",
    "if not isfile(tar_gz_path):\n",
    "    with DLProgress(unit='B', unit_scale=True, miniters=1, desc='CIFAR-10 Dataset') as pbar:\n",
    "        urlretrieve(\n",
    "            'https://www.cs.toronto.edu/~kriz/cifar-10-python.tar.gz',\n",
    "            tar_gz_path,\n",
    "            pbar.hook)\n",
    "\n",
    "if not isdir(cifar10_dataset_folder_path):\n",
    "    with tarfile.open(tar_gz_path) as tar:\n",
    "        tar.extractall()\n",
    "        tar.close()\n",
    "\n",
    "\n",
    "tests.test_folder_path(cifar10_dataset_folder_path)"
   ]
  },
  {
   "cell_type": "markdown",
   "metadata": {},
   "source": [
    "## Explore the Data\n",
    "The dataset is broken into batches to prevent your machine from running out of memory.  The CIFAR-10 dataset consists of 5 batches, named `data_batch_1`, `data_batch_2`, etc.. Each batch contains the labels and images that are one of the following:\n",
    "* airplane\n",
    "* automobile\n",
    "* bird\n",
    "* cat\n",
    "* deer\n",
    "* dog\n",
    "* frog\n",
    "* horse\n",
    "* ship\n",
    "* truck\n",
    "\n",
    "Understanding a dataset is part of making predictions on the data.  Play around with the code cell below by changing the `batch_id` and `sample_id`. The `batch_id` is the id for a batch (1-5). The `sample_id` is the id for a image and label pair in the batch.\n",
    "\n",
    "Ask yourself \"What are all possible labels?\", \"What is the range of values for the image data?\", \"Are the labels in order or random?\".  Answers to questions like these will help you preprocess the data and end up with better predictions."
   ]
  },
  {
   "cell_type": "code",
   "execution_count": 2,
   "metadata": {},
   "outputs": [
    {
     "name": "stdout",
     "output_type": "stream",
     "text": [
      "\n",
      "Stats of batch 1:\n",
      "Samples: 10000\n",
      "Label Counts: {0: 1005, 1: 974, 2: 1032, 3: 1016, 4: 999, 5: 937, 6: 1030, 7: 1001, 8: 1025, 9: 981}\n",
      "First 20 Labels: [6, 9, 9, 4, 1, 1, 2, 7, 8, 3, 4, 7, 7, 2, 9, 9, 9, 3, 2, 6]\n",
      "\n",
      "Example of Image 5:\n",
      "Image - Min Value: 0 Max Value: 252\n",
      "Image - Shape: (32, 32, 3)\n",
      "Label - Label Id: 1 Name: automobile\n"
     ]
    },
    {
     "data": {
      "image/png": "[encoded data removed]",
      "text/plain": [
       "<matplotlib.figure.Figure at 0x20366a8c128>"
      ]
     },
     "metadata": {
      "image/png": {
       "height": 250,
       "width": 253
      }
     },
     "output_type": "display_data"
    }
   ],
   "source": [
    "%matplotlib inline\n",
    "%config InlineBackend.figure_format = 'retina'\n",
    "\n",
    "import helper\n",
    "import numpy as np\n",
    "\n",
    "# Explore the dataset\n",
    "batch_id = 1\n",
    "sample_id = 5\n",
    "helper.display_stats(cifar10_dataset_folder_path, batch_id, sample_id)"
   ]
  },
  {
   "cell_type": "code",
   "execution_count": 3,
   "metadata": {},
   "outputs": [
    {
     "data": {
      "text/plain": [
       "'cifar-10-python.tar.gz'"
      ]
     },
     "execution_count": 3,
     "metadata": {},
     "output_type": "execute_result"
    }
   ],
   "source": [
    "tar_gz_path"
   ]
  },
  {
   "cell_type": "markdown",
   "metadata": {},
   "source": [
    "## Implement Preprocess Functions\n",
    "### Normalize\n",
    "In the cell below, implement the `normalize` function to take in image data, `x`, and return it as a normalized Numpy array. The values should be in the range of 0 to 1, inclusive.  The return object should be the same shape as `x`."
   ]
  },
  {
   "cell_type": "code",
   "execution_count": 4,
   "metadata": {},
   "outputs": [
    {
     "name": "stdout",
     "output_type": "stream",
     "text": [
      "Tests Passed\n"
     ]
    }
   ],
   "source": [
    "def normalize(x):\n",
    "    \"\"\"\n",
    "    Normalize a list of sample image data in the range of 0 to 1\n",
    "    : x: List of image data.  The image shape is (32, 32, 3)\n",
    "    : return: Numpy array of normalize data\n",
    "    \"\"\"\n",
    "    x=x.astype('float32')\n",
    "    \n",
    "    return x/255.0\n",
    "\n",
    "\n",
    "\"\"\"\n",
    "DON'T MODIFY ANYTHING IN THIS CELL THAT IS BELOW THIS LINE\n",
    "\"\"\"\n",
    "tests.test_normalize(normalize)"
   ]
  },
  {
   "cell_type": "markdown",
   "metadata": {},
   "source": [
    "### One-hot encode\n",
    "Just like the previous code cell, you'll be implementing a function for preprocessing.  This time, you'll implement the `one_hot_encode` function. The input, `x`, are a list of labels.  Implement the function to return the list of labels as One-Hot encoded Numpy array.  The possible values for labels are 0 to 9. The one-hot encoding function should return the same encoding for each value between each call to `one_hot_encode`.  Make sure to save the map of encodings outside the function.\n",
    "\n",
    "Hint: Don't reinvent the wheel."
   ]
  },
  {
   "cell_type": "code",
   "execution_count": 5,
   "metadata": {},
   "outputs": [
    {
     "name": "stdout",
     "output_type": "stream",
     "text": [
      "Tests Passed\n"
     ]
    }
   ],
   "source": [
    "def one_hot_encode(x):\n",
    "    \"\"\"\n",
    "    One hot encode a list of sample labels. Return a one-hot encoded vector for each label.\n",
    "    : x: List of sample Labels\n",
    "    : return: Numpy array of one-hot encoded labels\n",
    "    \"\"\"\n",
    "    a = np.zeros((len(x),10))\n",
    "    \n",
    "    a[np.arange(len(x)),x]=1\n",
    "    return a\n",
    "\n",
    "\n",
    "\"\"\"\n",
    "DON'T MODIFY ANYTHING IN THIS CELL THAT IS BELOW THIS LINE\n",
    "\"\"\"\n",
    "tests.test_one_hot_encode(one_hot_encode)"
   ]
  },
  {
   "cell_type": "markdown",
   "metadata": {},
   "source": [
    "### Randomize Data\n",
    "As you saw from exploring the data above, the order of the samples are randomized.  It doesn't hurt to randomize it again, but you don't need to for this dataset."
   ]
  },
  {
   "cell_type": "markdown",
   "metadata": {},
   "source": [
    "## Preprocess all the data and save it\n",
    "Running the code cell below will preprocess all the CIFAR-10 data and save it to file. The code below also uses 10% of the training data for validation."
   ]
  },
  {
   "cell_type": "code",
   "execution_count": 6,
   "metadata": {
    "collapsed": true
   },
   "outputs": [],
   "source": [
    "\"\"\"\n",
    "DON'T MODIFY ANYTHING IN THIS CELL\n",
    "\"\"\"\n",
    "# Preprocess Training, Validation, and Testing Data\n",
    "helper.preprocess_and_save_data(cifar10_dataset_folder_path, normalize, one_hot_encode)"
   ]
  },
  {
   "cell_type": "markdown",
   "metadata": {},
   "source": [
    "# Check Point\n",
    "This is your first checkpoint.  If you ever decide to come back to this notebook or have to restart the notebook, you can start from here.  The preprocessed data has been saved to disk."
   ]
  },
  {
   "cell_type": "code",
   "execution_count": 7,
   "metadata": {
    "collapsed": true
   },
   "outputs": [],
   "source": [
    "\"\"\"\n",
    "DON'T MODIFY ANYTHING IN THIS CELL\n",
    "\"\"\"\n",
    "import pickle\n",
    "import problem_unittests as tests\n",
    "import helper\n",
    "\n",
    "# Load the Preprocessed Validation data\n",
    "valid_features, valid_labels = pickle.load(open('preprocess_validation.p', mode='rb'))"
   ]
  },
  {
   "cell_type": "markdown",
   "metadata": {},
   "source": [
    "## Build the network\n",
    "For the neural network, you'll build each layer into a function.  Most of the code you've seen has been outside of functions. To test your code more thoroughly, we require that you put each layer in a function.  This allows us to give you better feedback and test for simple mistakes using our unittests before you submit your project.\n",
    "\n",
    ">**Note:** If you're finding it hard to dedicate enough time for this course each week, we've provided a small shortcut to this part of the project. In the next couple of problems, you'll have the option to use classes from the [TensorFlow Layers](https://www.tensorflow.org/api_docs/python/tf/layers) or [TensorFlow Layers (contrib)](https://www.tensorflow.org/api_guides/python/contrib.layers) packages to build each layer, except the layers you build in the \"Convolutional and Max Pooling Layer\" section.  TF Layers is similar to Keras's and TFLearn's abstraction to layers, so it's easy to pickup.\n",
    "\n",
    ">However, if you would like to get the most out of this course, try to solve all the problems _without_ using anything from the TF Layers packages. You **can** still use classes from other packages that happen to have the same name as ones you find in TF Layers! For example, instead of using the TF Layers version of the `conv2d` class, [tf.layers.conv2d](https://www.tensorflow.org/api_docs/python/tf/layers/conv2d), you would want to use the TF Neural Network version of `conv2d`, [tf.nn.conv2d](https://www.tensorflow.org/api_docs/python/tf/nn/conv2d). \n",
    "\n",
    "Let's begin!\n",
    "\n",
    "### Input\n",
    "The neural network needs to read the image data, one-hot encoded labels, and dropout keep probability. Implement the following functions\n",
    "* Implement `neural_net_image_input`\n",
    " * Return a [TF Placeholder](https://www.tensorflow.org/api_docs/python/tf/placeholder)\n",
    " * Set the shape using `image_shape` with batch size set to `None`.\n",
    " * Name the TensorFlow placeholder \"x\" using the TensorFlow `name` parameter in the [TF Placeholder](https://www.tensorflow.org/api_docs/python/tf/placeholder).\n",
    "* Implement `neural_net_label_input`\n",
    " * Return a [TF Placeholder](https://www.tensorflow.org/api_docs/python/tf/placeholder)\n",
    " * Set the shape using `n_classes` with batch size set to `None`.\n",
    " * Name the TensorFlow placeholder \"y\" using the TensorFlow `name` parameter in the [TF Placeholder](https://www.tensorflow.org/api_docs/python/tf/placeholder).\n",
    "* Implement `neural_net_keep_prob_input`\n",
    " * Return a [TF Placeholder](https://www.tensorflow.org/api_docs/python/tf/placeholder) for dropout keep probability.\n",
    " * Name the TensorFlow placeholder \"keep_prob\" using the TensorFlow `name` parameter in the [TF Placeholder](https://www.tensorflow.org/api_docs/python/tf/placeholder).\n",
    "\n",
    "These names will be used at the end of the project to load your saved model.\n",
    "\n",
    "Note: `None` for shapes in TensorFlow allow for a dynamic size."
   ]
  },
  {
   "cell_type": "code",
   "execution_count": 8,
   "metadata": {},
   "outputs": [
    {
     "name": "stdout",
     "output_type": "stream",
     "text": [
      "Image Input Tests Passed.\n",
      "Label Input Tests Passed.\n",
      "Keep Prob Tests Passed.\n"
     ]
    }
   ],
   "source": [
    "import tensorflow as tf\n",
    "\n",
    "def neural_net_image_input(image_shape):\n",
    "    \"\"\"\n",
    "    Return a Tensor for a batch of image input\n",
    "    : image_shape: Shape of the images\n",
    "    : return: Tensor for image input.\n",
    "    \"\"\"\n",
    "    # TODO: Implement Function\n",
    "    input= tf.placeholder(tf.float32,(None,)+(image_shape),name=\"x\")\n",
    "    return input\n",
    "\n",
    "def neural_net_label_input(n_classes):\n",
    "    \"\"\"\n",
    "    Return a Tensor for a batch of label input\n",
    "    : n_classes: Number of classes\n",
    "    : return: Tensor for label input.\n",
    "    \"\"\"\n",
    "    # TODO: Implement Function\n",
    "    return tf.placeholder(tf.float32,[None,n_classes],name=\"y\")\n",
    "\n",
    "\n",
    "def neural_net_keep_prob_input():\n",
    "    \"\"\"\n",
    "    Return a Tensor for keep probability\n",
    "    : return: Tensor for keep probability.\n",
    "    \"\"\"\n",
    "    # TODO: Implement Function\n",
    "    return tf.placeholder(tf.float32,name=\"keep_prob\")\n",
    "\n",
    "\n",
    "\"\"\"\n",
    "DON'T MODIFY ANYTHING IN THIS CELL THAT IS BELOW THIS LINE\n",
    "\"\"\"\n",
    "tf.reset_default_graph()\n",
    "tests.test_nn_image_inputs(neural_net_image_input)\n",
    "tests.test_nn_label_inputs(neural_net_label_input)\n",
    "tests.test_nn_keep_prob_inputs(neural_net_keep_prob_input)"
   ]
  },
  {
   "cell_type": "markdown",
   "metadata": {},
   "source": [
    "### Convolution and Max Pooling Layer\n",
    "Convolution layers have a lot of success with images. For this code cell, you should implement the function `conv2d_maxpool` to apply convolution then max pooling:\n",
    "* Create the weight and bias using `conv_ksize`, `conv_num_outputs` and the shape of `x_tensor`.\n",
    "* Apply a convolution to `x_tensor` using weight and `conv_strides`.\n",
    " * We recommend you use same padding, but you're welcome to use any padding.\n",
    "* Add bias\n",
    "* Add a nonlinear activation to the convolution.\n",
    "* Apply Max Pooling using `pool_ksize` and `pool_strides`.\n",
    " * We recommend you use same padding, but you're welcome to use any padding.\n",
    "\n",
    "**Note:** You **can't** use [TensorFlow Layers](https://www.tensorflow.org/api_docs/python/tf/layers) or [TensorFlow Layers (contrib)](https://www.tensorflow.org/api_guides/python/contrib.layers) for **this** layer, but you can still use TensorFlow's [Neural Network](https://www.tensorflow.org/api_docs/python/tf/nn) package. You may still use the shortcut option for all the **other** layers."
   ]
  },
  {
   "cell_type": "code",
   "execution_count": 21,
   "metadata": {},
   "outputs": [
    {
     "name": "stdout",
     "output_type": "stream",
     "text": [
      "Tests Passed\n"
     ]
    }
   ],
   "source": [
    "def conv2d_maxpool(x_tensor, conv_num_outputs, conv_ksize, conv_strides, pool_ksize, pool_strides):\n",
    "    \"\"\"\n",
    "    Apply convolution then max pooling to x_tensor\n",
    "    :param x_tensor: TensorFlow Tensor\n",
    "    :param conv_num_outputs: Number of outputs for the convolutional layer\n",
    "    :param conv_ksize: kernal size 2-D Tuple for the convolutional layer\n",
    "    :param conv_strides: Stride 2-D Tuple for convolution\n",
    "    :param pool_ksize: kernal size 2-D Tuple for pool\n",
    "    :param pool_strides: Stride 2-D Tuple for pool\n",
    "    : return: A tensor that represents convolution and max pooling of x_tensor\n",
    "    \"\"\"\n",
    "\n",
    "    filter_weights = tf.Variable(tf.truncated_normal((conv_ksize+(x_tensor.shape[3].value,conv_num_outputs,))))\n",
    "    filter_bias = tf.Variable(tf.zeros(conv_num_outputs))\n",
    "    stride =(1,)+conv_strides+(1,)\n",
    "    conv= tf.nn.conv2d(x_tensor,filter_weights,stride,'SAME')+filter_bias\n",
    "    conv = tf.nn.relu(conv)\n",
    "    conv = tf.nn.max_pool(conv,ksize=[1]+list(pool_ksize)+[1],padding='SAME',strides=[1]+list(pool_strides)+[1])\n",
    "    return conv \n",
    "\n",
    "\n",
    "\"\"\"\n",
    "DON'T MODIFY ANYTHING IN THIS CELL THAT IS BELOW THIS LINE\n",
    "\"\"\"\n",
    "tests.test_con_pool(conv2d_maxpool)"
   ]
  },
  {
   "cell_type": "markdown",
   "metadata": {},
   "source": [
    "### Flatten Layer\n",
    "Implement the `flatten` function to change the dimension of `x_tensor` from a 4-D tensor to a 2-D tensor.  The output should be the shape (*Batch Size*, *Flattened Image Size*). Shortcut option: you can use classes from the [TensorFlow Layers](https://www.tensorflow.org/api_docs/python/tf/layers) or [TensorFlow Layers (contrib)](https://www.tensorflow.org/api_guides/python/contrib.layers) packages for this layer. For more of a challenge, only use other TensorFlow packages."
   ]
  },
  {
   "cell_type": "code",
   "execution_count": 22,
   "metadata": {},
   "outputs": [
    {
     "name": "stdout",
     "output_type": "stream",
     "text": [
      "Tests Passed\n"
     ]
    }
   ],
   "source": [
    "def flatten(x_tensor):\n",
    "    \"\"\"\n",
    "    Flatten x_tensor to (Batch Size, Flattened Image Size)\n",
    "    : x_tensor: A tensor of size (Batch Size, ...), where ... are the image dimensions.\n",
    "    : return: A tensor of size (Batch Size, Flattened Image Size).\n",
    "    \"\"\"\n",
    "\n",
    "    size = x_tensor.shape[1].value*x_tensor.shape[2].value*x_tensor.shape[3].value\n",
    "    return tf.reshape(x_tensor,[-1,size])\n",
    "\n",
    "\n",
    "\"\"\"\n",
    "DON'T MODIFY ANYTHING IN THIS CELL THAT IS BELOW THIS LINE\n",
    "\"\"\"\n",
    "tests.test_flatten(flatten)"
   ]
  },
  {
   "cell_type": "markdown",
   "metadata": {},
   "source": [
    "### Fully-Connected Layer\n",
    "Implement the `fully_conn` function to apply a fully connected layer to `x_tensor` with the shape (*Batch Size*, *num_outputs*). Shortcut option: you can use classes from the [TensorFlow Layers](https://www.tensorflow.org/api_docs/python/tf/layers) or [TensorFlow Layers (contrib)](https://www.tensorflow.org/api_guides/python/contrib.layers) packages for this layer. For more of a challenge, only use other TensorFlow packages."
   ]
  },
  {
   "cell_type": "code",
   "execution_count": 23,
   "metadata": {},
   "outputs": [
    {
     "name": "stdout",
     "output_type": "stream",
     "text": [
      "Tensor(\"Placeholder_2:0\", shape=(?, 128), dtype=float32)\n",
      "40\n",
      "Tests Passed\n"
     ]
    }
   ],
   "source": [
    "def fully_conn(x_tensor, num_outputs):\n",
    "    \"\"\"\n",
    "    Apply a fully connected layer to x_tensor using weight and bias\n",
    "    : x_tensor: A 2-D tensor where the first dimension is batch size.\n",
    "    : num_outputs: The number of output that the new tensor should be.\n",
    "    : return: A 2-D tensor where the second dimension is num_outputs.\n",
    "    \"\"\"\n",
    "    print(x_tensor)\n",
    "    print(num_outputs)\n",
    "    \n",
    "    return tf.contrib.layers.fully_connected(x_tensor,num_outputs)\n",
    "\n",
    "\n",
    "\"\"\"\n",
    "DON'T MODIFY ANYTHING IN THIS CELL THAT IS BELOW THIS LINE\n",
    "\"\"\"\n",
    "tests.test_fully_conn(fully_conn)"
   ]
  },
  {
   "cell_type": "markdown",
   "metadata": {},
   "source": [
    "### Output Layer\n",
    "Implement the `output` function to apply a fully connected layer to `x_tensor` with the shape (*Batch Size*, *num_outputs*). Shortcut option: you can use classes from the [TensorFlow Layers](https://www.tensorflow.org/api_docs/python/tf/layers) or [TensorFlow Layers (contrib)](https://www.tensorflow.org/api_guides/python/contrib.layers) packages for this layer. For more of a challenge, only use other TensorFlow packages.\n",
    "\n",
    "**Note:** Activation, softmax, or cross entropy should **not** be applied to this."
   ]
  },
  {
   "cell_type": "code",
   "execution_count": 24,
   "metadata": {},
   "outputs": [
    {
     "name": "stdout",
     "output_type": "stream",
     "text": [
      "Tests Passed\n"
     ]
    }
   ],
   "source": [
    "def output(x_tensor, num_outputs):\n",
    "    \"\"\"\n",
    "    Apply a output layer to x_tensor using weight and bias\n",
    "    : x_tensor: A 2-D tensor where the first dimension is batch size.\n",
    "    : num_outputs: The number of output that the new tensor should be.\n",
    "    : return: A 2-D tensor where the second dimension is num_outputs.\n",
    "    \"\"\"\n",
    "\n",
    "    weights = tf.Variable(tf.truncated_normal((x_tensor.shape[1].value,num_outputs)))\n",
    "    biases = tf.Variable(tf.zeros((num_outputs)))\n",
    "    return  tf.add(tf.matmul(x_tensor,weights),biases)\n",
    "\n",
    "\n",
    "\"\"\"\n",
    "DON'T MODIFY ANYTHING IN THIS CELL THAT IS BELOW THIS LINE\n",
    "\"\"\"\n",
    "tests.test_output(output)"
   ]
  },
  {
   "cell_type": "markdown",
   "metadata": {},
   "source": [
    "### Create Convolutional Model\n",
    "Implement the function `conv_net` to create a convolutional neural network model. The function takes in a batch of images, `x`, and outputs logits.  Use the layers you created above to create this model:\n",
    "\n",
    "* Apply 1, 2, or 3 Convolution and Max Pool layers\n",
    "* Apply a Flatten Layer\n",
    "* Apply 1, 2, or 3 Fully Connected Layers\n",
    "* Apply an Output Layer\n",
    "* Return the output\n",
    "* Apply [TensorFlow's Dropout](https://www.tensorflow.org/api_docs/python/tf/nn/dropout) to one or more layers in the model using `keep_prob`. "
   ]
  },
  {
   "cell_type": "code",
   "execution_count": 30,
   "metadata": {},
   "outputs": [
    {
     "name": "stdout",
     "output_type": "stream",
     "text": [
      "conv--> Tensor(\"MaxPool_3:0\", shape=(?, 2, 2, 64), dtype=float32)\n",
      "Tensor(\"Reshape:0\", shape=(?, 256), dtype=float32)\n",
      "conv--> Tensor(\"MaxPool_7:0\", shape=(?, 2, 2, 64), dtype=float32)\n",
      "Tensor(\"Reshape_4:0\", shape=(?, 256), dtype=float32)\n",
      "Neural Network Built!\n"
     ]
    }
   ],
   "source": [
    "def conv_net(x, keep_prob):\n",
    "  \n",
    "    \"\"\"\n",
    "    Create a convolutional neural network model\n",
    "    : x: Placeholder tensor that holds image data.\n",
    "    : keep_prob: Placeholder tensor that hold dropout keep probability.\n",
    "    : return: Tensor that represents logits\n",
    "    \"\"\"\n",
    "    # TODO: Apply 1, 2, or 3 Convolution and Max Pool layers\n",
    "    #    Play around with different number of outputs, kernel size and stride\n",
    "    # Function Definition from Above:\n",
    "    #    conv2d_maxpool(x_tensor, conv_num_outputs, conv_ksize, conv_strides, pool_ksize, pool_strides)\n",
    "    conv = conv2d_maxpool(x,16,(5,5),(1,1),(5,2),(2,2))\n",
    "    conv = conv2d_maxpool(conv,32,(5,5),(1,1),(5,2),(2,2))\n",
    "    conv = conv2d_maxpool(conv,64,(5,5),(1,1),(5,2),(2,2))\n",
    "    conv = conv2d_maxpool(conv,64,(5,5),(1,1),(5,2),(2,2))\n",
    "\n",
    "    # TODO: Apply a Flatten Layer\n",
    "    # Function Definition from Above:\n",
    "    #   flatten(x_tensor)\n",
    "    print('conv-->',conv)\n",
    "    conv = flatten(conv)\n",
    "    \n",
    "    \n",
    "\n",
    "    # TODO: Apply 1, 2, or 3 Fully Connected Layers\n",
    "    #    Play around with different number of outputs\n",
    "    # Function Definition from Above:\n",
    "    #   fully_conn(x_tensor, num_outputs)\n",
    "    #conv=fully_conn(conv, 512)\n",
    "    #conv = tf.nn.dropout(conv,keep_prob)\n",
    "    #conv=fully_conn(conv, 1024)\n",
    "    #conv = tf.nn.dropout(conv,keep_prob)\n",
    "    print(conv)\n",
    "    # TODO: Apply an Output Layer\n",
    "    #    Set this to the number of classes\n",
    "    # Function Definition from Above:\n",
    "    #   output(x_tensor, num_outputs)\n",
    "    conv = output(conv, 10)\n",
    "    \n",
    "    \n",
    "    # TODO: return output\n",
    "    return conv\n",
    "\n",
    "\n",
    "\"\"\"\n",
    "DON'T MODIFY ANYTHING IN THIS CELL THAT IS BELOW THIS LINE\n",
    "\"\"\"\n",
    "\n",
    "##############################\n",
    "## Build the Neural Network ##\n",
    "##############################\n",
    "\n",
    "# Remove previous weights, bias, inputs, etc..\n",
    "tf.reset_default_graph()\n",
    "\n",
    "# Inputs\n",
    "x = neural_net_image_input((32, 32, 3))\n",
    "y = neural_net_label_input(10)\n",
    "keep_prob = neural_net_keep_prob_input()\n",
    "\n",
    "# Model\n",
    "logits = conv_net(x, keep_prob)\n",
    "\n",
    "# Name logits Tensor, so that is can be loaded from disk after training\n",
    "logits = tf.identity(logits, name='logits')\n",
    "\n",
    "# Loss and Optimizer\n",
    "cost = tf.reduce_mean(tf.nn.softmax_cross_entropy_with_logits(logits=logits, labels=y))\n",
    "optimizer = tf.train.AdamOptimizer().minimize(cost)\n",
    "\n",
    "# Accuracy\n",
    "correct_pred = tf.equal(tf.argmax(logits, 1), tf.argmax(y, 1))\n",
    "accuracy = tf.reduce_mean(tf.cast(correct_pred, tf.float32), name='accuracy')\n",
    "\n",
    "tests.test_conv_net(conv_net)"
   ]
  },
  {
   "cell_type": "markdown",
   "metadata": {},
   "source": [
    "## Train the Neural Network\n",
    "### Single Optimization\n",
    "Implement the function `train_neural_network` to do a single optimization.  The optimization should use `optimizer` to optimize in `session` with a `feed_dict` of the following:\n",
    "* `x` for image input\n",
    "* `y` for labels\n",
    "* `keep_prob` for keep probability for dropout\n",
    "\n",
    "This function will be called for each batch, so `tf.global_variables_initializer()` has already been called.\n",
    "\n",
    "Note: Nothing needs to be returned. This function is only optimizing the neural network."
   ]
  },
  {
   "cell_type": "code",
   "execution_count": 31,
   "metadata": {},
   "outputs": [
    {
     "name": "stdout",
     "output_type": "stream",
     "text": [
      "Tests Passed\n"
     ]
    }
   ],
   "source": [
    "def train_neural_network(session, optimizer, keep_probability, feature_batch, label_batch):\n",
    "    \"\"\"\n",
    "    Optimize the session on a batch of images and labels\n",
    "    : session: Current TensorFlow session\n",
    "    : optimizer: TensorFlow optimizer function\n",
    "    : keep_probability: keep probability\n",
    "    : feature_batch: Batch of Numpy image data\n",
    "    : label_batch: Batch of Numpy label data\n",
    "    \"\"\"\n",
    "    session.run(optimizer,feed_dict={x:feature_batch,y:label_batch,keep_prob:keep_probability})\n",
    "  \n",
    "\n",
    "\n",
    "\"\"\"\n",
    "DON'T MODIFY ANYTHING IN THIS CELL THAT IS BELOW THIS LINE\n",
    "\"\"\"\n",
    "tests.test_train_nn(train_neural_network)"
   ]
  },
  {
   "cell_type": "markdown",
   "metadata": {},
   "source": [
    "### Show Stats\n",
    "Implement the function `print_stats` to print loss and validation accuracy.  Use the global variables `valid_features` and `valid_labels` to calculate validation accuracy.  Use a keep probability of `1.0` to calculate the loss and validation accuracy."
   ]
  },
  {
   "cell_type": "code",
   "execution_count": 32,
   "metadata": {
    "collapsed": true
   },
   "outputs": [],
   "source": [
    "def print_stats(session, feature_batch, label_batch, cost, accuracy):\n",
    "    \"\"\"\n",
    "    Print information about loss and validation accuracy\n",
    "    : session: Current TensorFlow session\n",
    "    : feature_batch: Batch of Numpy image data\n",
    "    : label_batch: Batch of Numpy label data\n",
    "    : cost: TensorFlow cost function\n",
    "    : accuracy: TensorFlow accuracy function\n",
    "    \"\"\"\n",
    "    loss=session.run(cost,feed_dict={x:feature_batch,y:label_batch,keep_prob:1.0})\n",
    "    acc=session.run(accuracy,feed_dict={x:valid_features,y:valid_labels,keep_prob:1.0})\n",
    "    print('Loss: {:>10.4f} Validation Accuracy: {:.6f}'.format(loss,acc))\n",
    "    "
   ]
  },
  {
   "cell_type": "markdown",
   "metadata": {},
   "source": [
    "### Hyperparameters\n",
    "Tune the following parameters:\n",
    "* Set `epochs` to the number of iterations until the network stops learning or start overfitting\n",
    "* Set `batch_size` to the highest number that your machine has memory for.  Most people set them to common sizes of memory:\n",
    " * 64\n",
    " * 128\n",
    " * 256\n",
    " * ...\n",
    "* Set `keep_probability` to the probability of keeping a node using dropout"
   ]
  },
  {
   "cell_type": "code",
   "execution_count": 33,
   "metadata": {
    "collapsed": true
   },
   "outputs": [],
   "source": [
    "# TODO: Tune Parameters\n",
    "epochs = 60\n",
    "batch_size = 512\n",
    "keep_probability = 0.8"
   ]
  },
  {
   "cell_type": "markdown",
   "metadata": {},
   "source": [
    "### Train on a Single CIFAR-10 Batch\n",
    "Instead of training the neural network on all the CIFAR-10 batches of data, let's use a single batch. This should save time while you iterate on the model to get a better accuracy.  Once the final validation accuracy is 50% or greater, run the model on all the data in the next section."
   ]
  },
  {
   "cell_type": "code",
   "execution_count": null,
   "metadata": {},
   "outputs": [
    {
     "name": "stdout",
     "output_type": "stream",
     "text": [
      "Checking the Training on a Single Batch...\n"
     ]
    }
   ],
   "source": [
    "\"\"\"\n",
    "DON'T MODIFY ANYTHING IN THIS CELL\n",
    "\"\"\"\n",
    "print('Checking the Training on a Single Batch...')\n",
    "with tf.Session() as sess:\n",
    "    # Initializing the variables\n",
    "    sess.run(tf.global_variables_initializer())\n",
    "    \n",
    "    # Training cycle\n",
    "    for epoch in range(epochs):\n",
    "        batch_i = 1\n",
    "        for batch_features, batch_labels in helper.load_preprocess_training_batch(batch_i, batch_size):\n",
    "            train_neural_network(sess, optimizer, keep_probability, batch_features, batch_labels)\n",
    "        print('Epoch {:>2}, CIFAR-10 Batch {}:  '.format(epoch + 1, batch_i), end='')\n",
    "        print_stats(sess, batch_features, batch_labels, cost, accuracy)"
   ]
  },
  {
   "cell_type": "markdown",
   "metadata": {},
   "source": [
    "### Fully Train the Model\n",
    "Now that you got a good accuracy with a single CIFAR-10 batch, try it with all five batches."
   ]
  },
  {
   "cell_type": "code",
   "execution_count": 34,
   "metadata": {},
   "outputs": [
    {
     "name": "stdout",
     "output_type": "stream",
     "text": [
      "Training...\n",
      "Epoch  1, CIFAR-10 Batch 1:  Loss: 172114.1250 Validation Accuracy: 0.122200\n",
      "Epoch  1, CIFAR-10 Batch 2:  Loss: 64150.1211 Validation Accuracy: 0.127800\n",
      "Epoch  1, CIFAR-10 Batch 3:  Loss: 46104.9648 Validation Accuracy: 0.140800\n",
      "Epoch  1, CIFAR-10 Batch 4:  Loss: 39711.2656 Validation Accuracy: 0.166600\n",
      "Epoch  1, CIFAR-10 Batch 5:  Loss: 36032.5273 Validation Accuracy: 0.179000\n",
      "Epoch  2, CIFAR-10 Batch 1:  Loss: 35376.8906 Validation Accuracy: 0.192000\n",
      "Epoch  2, CIFAR-10 Batch 2:  Loss: 31699.5605 Validation Accuracy: 0.197200\n",
      "Epoch  2, CIFAR-10 Batch 3:  Loss: 27053.1816 Validation Accuracy: 0.202200\n",
      "Epoch  2, CIFAR-10 Batch 4:  Loss: 28333.9824 Validation Accuracy: 0.210200\n",
      "Epoch  2, CIFAR-10 Batch 5:  Loss: 28549.2441 Validation Accuracy: 0.210600\n",
      "Epoch  3, CIFAR-10 Batch 1:  Loss: 26784.8320 Validation Accuracy: 0.224200\n",
      "Epoch  3, CIFAR-10 Batch 2:  Loss: 24470.6445 Validation Accuracy: 0.218600\n",
      "Epoch  3, CIFAR-10 Batch 3:  Loss: 22053.6328 Validation Accuracy: 0.229400\n",
      "Epoch  3, CIFAR-10 Batch 4:  Loss: 22689.6113 Validation Accuracy: 0.236600\n",
      "Epoch  3, CIFAR-10 Batch 5:  Loss: 23470.6797 Validation Accuracy: 0.241000\n",
      "Epoch  4, CIFAR-10 Batch 1:  Loss: 22158.0215 Validation Accuracy: 0.246200\n",
      "Epoch  4, CIFAR-10 Batch 2:  Loss: 20128.4492 Validation Accuracy: 0.244200\n",
      "Epoch  4, CIFAR-10 Batch 3:  Loss: 18162.5059 Validation Accuracy: 0.252800\n",
      "Epoch  4, CIFAR-10 Batch 4:  Loss: 18990.2734 Validation Accuracy: 0.258400\n",
      "Epoch  4, CIFAR-10 Batch 5:  Loss: 19414.0801 Validation Accuracy: 0.253600\n",
      "Epoch  5, CIFAR-10 Batch 1:  Loss: 18522.9902 Validation Accuracy: 0.257400\n",
      "Epoch  5, CIFAR-10 Batch 2:  Loss: 16385.0684 Validation Accuracy: 0.258800\n",
      "Epoch  5, CIFAR-10 Batch 3:  Loss: 15352.1084 Validation Accuracy: 0.263600\n",
      "Epoch  5, CIFAR-10 Batch 4:  Loss: 15953.4629 Validation Accuracy: 0.271600\n",
      "Epoch  5, CIFAR-10 Batch 5:  Loss: 16392.8887 Validation Accuracy: 0.273000\n",
      "Epoch  6, CIFAR-10 Batch 1:  Loss: 15550.8613 Validation Accuracy: 0.270200\n",
      "Epoch  6, CIFAR-10 Batch 2:  Loss: 13901.4980 Validation Accuracy: 0.271000\n",
      "Epoch  6, CIFAR-10 Batch 3:  Loss: 13266.6035 Validation Accuracy: 0.269400\n",
      "Epoch  6, CIFAR-10 Batch 4:  Loss: 13509.2363 Validation Accuracy: 0.275000\n",
      "Epoch  6, CIFAR-10 Batch 5:  Loss: 14400.3496 Validation Accuracy: 0.275400\n",
      "Epoch  7, CIFAR-10 Batch 1:  Loss: 13613.8867 Validation Accuracy: 0.276600\n",
      "Epoch  7, CIFAR-10 Batch 2:  Loss: 12237.2754 Validation Accuracy: 0.278600\n",
      "Epoch  7, CIFAR-10 Batch 3:  Loss: 11950.8613 Validation Accuracy: 0.279000\n",
      "Epoch  7, CIFAR-10 Batch 4:  Loss: 11956.7686 Validation Accuracy: 0.277200\n",
      "Epoch  7, CIFAR-10 Batch 5:  Loss: 12723.9521 Validation Accuracy: 0.279200\n",
      "Epoch  8, CIFAR-10 Batch 1:  Loss: 12149.3945 Validation Accuracy: 0.280200\n",
      "Epoch  8, CIFAR-10 Batch 2:  Loss: 11070.4639 Validation Accuracy: 0.281400\n",
      "Epoch  8, CIFAR-10 Batch 3:  Loss: 10942.4482 Validation Accuracy: 0.280000\n",
      "Epoch  8, CIFAR-10 Batch 4:  Loss: 10613.8662 Validation Accuracy: 0.285800\n",
      "Epoch  8, CIFAR-10 Batch 5:  Loss: 11394.5918 Validation Accuracy: 0.280600\n",
      "Epoch  9, CIFAR-10 Batch 1:  Loss: 10917.2627 Validation Accuracy: 0.285000\n",
      "Epoch  9, CIFAR-10 Batch 2:  Loss:  9750.5283 Validation Accuracy: 0.286000\n",
      "Epoch  9, CIFAR-10 Batch 3:  Loss: 10008.0156 Validation Accuracy: 0.285600\n",
      "Epoch  9, CIFAR-10 Batch 4:  Loss:  9486.6670 Validation Accuracy: 0.283400\n",
      "Epoch  9, CIFAR-10 Batch 5:  Loss: 10240.6777 Validation Accuracy: 0.285000\n",
      "Epoch 10, CIFAR-10 Batch 1:  Loss: 10014.5342 Validation Accuracy: 0.288800\n",
      "Epoch 10, CIFAR-10 Batch 2:  Loss:  8728.4248 Validation Accuracy: 0.284800\n",
      "Epoch 10, CIFAR-10 Batch 3:  Loss:  9178.8369 Validation Accuracy: 0.288600\n",
      "Epoch 10, CIFAR-10 Batch 4:  Loss:  8719.9951 Validation Accuracy: 0.284600\n",
      "Epoch 10, CIFAR-10 Batch 5:  Loss:  9187.5020 Validation Accuracy: 0.289800\n",
      "Epoch 11, CIFAR-10 Batch 1:  Loss:  9121.0088 Validation Accuracy: 0.294600\n",
      "Epoch 11, CIFAR-10 Batch 2:  Loss:  7928.5107 Validation Accuracy: 0.293000\n",
      "Epoch 11, CIFAR-10 Batch 3:  Loss:  8319.3467 Validation Accuracy: 0.288400\n",
      "Epoch 11, CIFAR-10 Batch 4:  Loss:  7967.9604 Validation Accuracy: 0.289400\n",
      "Epoch 11, CIFAR-10 Batch 5:  Loss:  8446.3701 Validation Accuracy: 0.288400\n",
      "Epoch 12, CIFAR-10 Batch 1:  Loss:  8282.0801 Validation Accuracy: 0.295400\n",
      "Epoch 12, CIFAR-10 Batch 2:  Loss:  7062.2129 Validation Accuracy: 0.292200\n",
      "Epoch 12, CIFAR-10 Batch 3:  Loss:  7711.2871 Validation Accuracy: 0.292200\n",
      "Epoch 12, CIFAR-10 Batch 4:  Loss:  7329.1714 Validation Accuracy: 0.291600\n",
      "Epoch 12, CIFAR-10 Batch 5:  Loss:  7852.3125 Validation Accuracy: 0.294400\n",
      "Epoch 13, CIFAR-10 Batch 1:  Loss:  7424.1772 Validation Accuracy: 0.301000\n",
      "Epoch 13, CIFAR-10 Batch 2:  Loss:  6520.8032 Validation Accuracy: 0.294000\n",
      "Epoch 13, CIFAR-10 Batch 3:  Loss:  7088.0972 Validation Accuracy: 0.294000\n",
      "Epoch 13, CIFAR-10 Batch 4:  Loss:  6637.8203 Validation Accuracy: 0.297800\n",
      "Epoch 13, CIFAR-10 Batch 5:  Loss:  7286.6611 Validation Accuracy: 0.298200\n",
      "Epoch 14, CIFAR-10 Batch 1:  Loss:  6622.8599 Validation Accuracy: 0.302600\n",
      "Epoch 14, CIFAR-10 Batch 2:  Loss:  6073.9194 Validation Accuracy: 0.298000\n",
      "Epoch 14, CIFAR-10 Batch 3:  Loss:  6510.4224 Validation Accuracy: 0.295600\n",
      "Epoch 14, CIFAR-10 Batch 4:  Loss:  6073.9766 Validation Accuracy: 0.300200\n",
      "Epoch 14, CIFAR-10 Batch 5:  Loss:  6763.0635 Validation Accuracy: 0.304400\n",
      "Epoch 15, CIFAR-10 Batch 1:  Loss:  6019.3081 Validation Accuracy: 0.302800\n",
      "Epoch 15, CIFAR-10 Batch 2:  Loss:  5683.6484 Validation Accuracy: 0.298200\n",
      "Epoch 15, CIFAR-10 Batch 3:  Loss:  6103.6147 Validation Accuracy: 0.295200\n",
      "Epoch 15, CIFAR-10 Batch 4:  Loss:  5571.2144 Validation Accuracy: 0.299600\n",
      "Epoch 15, CIFAR-10 Batch 5:  Loss:  6291.8018 Validation Accuracy: 0.306600\n",
      "Epoch 16, CIFAR-10 Batch 1:  Loss:  5553.4521 Validation Accuracy: 0.303400\n",
      "Epoch 16, CIFAR-10 Batch 2:  Loss:  5345.1846 Validation Accuracy: 0.298200\n",
      "Epoch 16, CIFAR-10 Batch 3:  Loss:  5694.4155 Validation Accuracy: 0.300000\n",
      "Epoch 16, CIFAR-10 Batch 4:  Loss:  5069.4204 Validation Accuracy: 0.301000\n",
      "Epoch 16, CIFAR-10 Batch 5:  Loss:  5877.5640 Validation Accuracy: 0.303400\n",
      "Epoch 17, CIFAR-10 Batch 1:  Loss:  5058.5703 Validation Accuracy: 0.302200\n",
      "Epoch 17, CIFAR-10 Batch 2:  Loss:  5042.4316 Validation Accuracy: 0.305400\n",
      "Epoch 17, CIFAR-10 Batch 3:  Loss:  5338.7280 Validation Accuracy: 0.301600\n",
      "Epoch 17, CIFAR-10 Batch 4:  Loss:  4720.4922 Validation Accuracy: 0.298400\n",
      "Epoch 17, CIFAR-10 Batch 5:  Loss:  5435.2915 Validation Accuracy: 0.306000\n",
      "Epoch 18, CIFAR-10 Batch 1:  Loss:  4623.6987 Validation Accuracy: 0.308200\n",
      "Epoch 18, CIFAR-10 Batch 2:  Loss:  4745.2983 Validation Accuracy: 0.305800\n",
      "Epoch 18, CIFAR-10 Batch 3:  Loss:  4963.2402 Validation Accuracy: 0.304800\n",
      "Epoch 18, CIFAR-10 Batch 4:  Loss:  4431.4385 Validation Accuracy: 0.304600\n",
      "Epoch 18, CIFAR-10 Batch 5:  Loss:  5059.6055 Validation Accuracy: 0.310000\n",
      "Epoch 19, CIFAR-10 Batch 1:  Loss:  4288.7529 Validation Accuracy: 0.309800\n",
      "Epoch 19, CIFAR-10 Batch 2:  Loss:  4456.5322 Validation Accuracy: 0.309400\n",
      "Epoch 19, CIFAR-10 Batch 3:  Loss:  4594.5391 Validation Accuracy: 0.309000\n",
      "Epoch 19, CIFAR-10 Batch 4:  Loss:  4175.8135 Validation Accuracy: 0.306400\n",
      "Epoch 19, CIFAR-10 Batch 5:  Loss:  4695.0703 Validation Accuracy: 0.306200\n",
      "Epoch 20, CIFAR-10 Batch 1:  Loss:  4046.0317 Validation Accuracy: 0.309400\n",
      "Epoch 20, CIFAR-10 Batch 2:  Loss:  4213.4536 Validation Accuracy: 0.307600\n",
      "Epoch 20, CIFAR-10 Batch 3:  Loss:  4274.5952 Validation Accuracy: 0.304400\n",
      "Epoch 20, CIFAR-10 Batch 4:  Loss:  3950.4375 Validation Accuracy: 0.301000\n",
      "Epoch 20, CIFAR-10 Batch 5:  Loss:  4324.3594 Validation Accuracy: 0.305200\n",
      "Epoch 21, CIFAR-10 Batch 1:  Loss:  3756.1846 Validation Accuracy: 0.309200\n",
      "Epoch 21, CIFAR-10 Batch 2:  Loss:  4011.6538 Validation Accuracy: 0.306800\n",
      "Epoch 21, CIFAR-10 Batch 3:  Loss:  4004.4629 Validation Accuracy: 0.305800\n",
      "Epoch 21, CIFAR-10 Batch 4:  Loss:  3724.5845 Validation Accuracy: 0.299800\n",
      "Epoch 21, CIFAR-10 Batch 5:  Loss:  4067.1208 Validation Accuracy: 0.305000\n",
      "Epoch 22, CIFAR-10 Batch 1:  Loss:  3532.0713 Validation Accuracy: 0.308000\n",
      "Epoch 22, CIFAR-10 Batch 2:  Loss:  3795.3386 Validation Accuracy: 0.303000\n"
     ]
    },
    {
     "name": "stdout",
     "output_type": "stream",
     "text": [
      "Epoch 22, CIFAR-10 Batch 3:  Loss:  3755.4058 Validation Accuracy: 0.299200\n",
      "Epoch 22, CIFAR-10 Batch 4:  Loss:  3511.7874 Validation Accuracy: 0.299400\n",
      "Epoch 22, CIFAR-10 Batch 5:  Loss:  3838.5452 Validation Accuracy: 0.299600\n",
      "Epoch 23, CIFAR-10 Batch 1:  Loss:  3391.3550 Validation Accuracy: 0.307200\n",
      "Epoch 23, CIFAR-10 Batch 2:  Loss:  3636.5186 Validation Accuracy: 0.303200\n",
      "Epoch 23, CIFAR-10 Batch 3:  Loss:  3548.7085 Validation Accuracy: 0.305400\n",
      "Epoch 23, CIFAR-10 Batch 4:  Loss:  3317.0857 Validation Accuracy: 0.301800\n",
      "Epoch 23, CIFAR-10 Batch 5:  Loss:  3606.7002 Validation Accuracy: 0.302400\n",
      "Epoch 24, CIFAR-10 Batch 1:  Loss:  3275.3535 Validation Accuracy: 0.305400\n",
      "Epoch 24, CIFAR-10 Batch 2:  Loss:  3556.1538 Validation Accuracy: 0.306400\n",
      "Epoch 24, CIFAR-10 Batch 3:  Loss:  3325.1836 Validation Accuracy: 0.306000\n",
      "Epoch 24, CIFAR-10 Batch 4:  Loss:  3101.3726 Validation Accuracy: 0.303400\n",
      "Epoch 24, CIFAR-10 Batch 5:  Loss:  3374.0730 Validation Accuracy: 0.304800\n",
      "Epoch 25, CIFAR-10 Batch 1:  Loss:  3121.4993 Validation Accuracy: 0.309400\n",
      "Epoch 25, CIFAR-10 Batch 2:  Loss:  3358.5295 Validation Accuracy: 0.312000\n",
      "Epoch 25, CIFAR-10 Batch 3:  Loss:  3073.9744 Validation Accuracy: 0.310800\n",
      "Epoch 25, CIFAR-10 Batch 4:  Loss:  2893.3918 Validation Accuracy: 0.304400\n",
      "Epoch 25, CIFAR-10 Batch 5:  Loss:  3191.5747 Validation Accuracy: 0.304600\n",
      "Epoch 26, CIFAR-10 Batch 1:  Loss:  2937.0903 Validation Accuracy: 0.311800\n",
      "Epoch 26, CIFAR-10 Batch 2:  Loss:  3208.2903 Validation Accuracy: 0.309600\n",
      "Epoch 26, CIFAR-10 Batch 3:  Loss:  2870.8325 Validation Accuracy: 0.310600\n",
      "Epoch 26, CIFAR-10 Batch 4:  Loss:  2735.7964 Validation Accuracy: 0.303600\n",
      "Epoch 26, CIFAR-10 Batch 5:  Loss:  3000.8035 Validation Accuracy: 0.299400\n",
      "Epoch 27, CIFAR-10 Batch 1:  Loss:  2815.2310 Validation Accuracy: 0.313600\n",
      "Epoch 27, CIFAR-10 Batch 2:  Loss:  3041.1472 Validation Accuracy: 0.313400\n",
      "Epoch 27, CIFAR-10 Batch 3:  Loss:  2699.3804 Validation Accuracy: 0.311000\n",
      "Epoch 27, CIFAR-10 Batch 4:  Loss:  2553.6694 Validation Accuracy: 0.309200\n",
      "Epoch 27, CIFAR-10 Batch 5:  Loss:  2845.0139 Validation Accuracy: 0.306200\n",
      "Epoch 28, CIFAR-10 Batch 1:  Loss:  2683.8779 Validation Accuracy: 0.316000\n",
      "Epoch 28, CIFAR-10 Batch 2:  Loss:  2892.6814 Validation Accuracy: 0.313600\n",
      "Epoch 28, CIFAR-10 Batch 3:  Loss:  2566.5232 Validation Accuracy: 0.306000\n",
      "Epoch 28, CIFAR-10 Batch 4:  Loss:  2366.9307 Validation Accuracy: 0.308800\n",
      "Epoch 28, CIFAR-10 Batch 5:  Loss:  2702.1555 Validation Accuracy: 0.312600\n",
      "Epoch 29, CIFAR-10 Batch 1:  Loss:  2545.3274 Validation Accuracy: 0.317600\n",
      "Epoch 29, CIFAR-10 Batch 2:  Loss:  2743.3259 Validation Accuracy: 0.315400\n",
      "Epoch 29, CIFAR-10 Batch 3:  Loss:  2465.4568 Validation Accuracy: 0.308400\n",
      "Epoch 29, CIFAR-10 Batch 4:  Loss:  2197.3838 Validation Accuracy: 0.308800\n",
      "Epoch 29, CIFAR-10 Batch 5:  Loss:  2574.7820 Validation Accuracy: 0.316000\n",
      "Epoch 30, CIFAR-10 Batch 1:  Loss:  2429.6450 Validation Accuracy: 0.316400\n",
      "Epoch 30, CIFAR-10 Batch 2:  Loss:  2591.2322 Validation Accuracy: 0.315400\n",
      "Epoch 30, CIFAR-10 Batch 3:  Loss:  2346.8931 Validation Accuracy: 0.308400\n",
      "Epoch 30, CIFAR-10 Batch 4:  Loss:  2080.3872 Validation Accuracy: 0.314000\n",
      "Epoch 30, CIFAR-10 Batch 5:  Loss:  2432.4856 Validation Accuracy: 0.315800\n",
      "Epoch 31, CIFAR-10 Batch 1:  Loss:  2321.8005 Validation Accuracy: 0.319400\n",
      "Epoch 31, CIFAR-10 Batch 2:  Loss:  2426.7378 Validation Accuracy: 0.312400\n",
      "Epoch 31, CIFAR-10 Batch 3:  Loss:  2262.6062 Validation Accuracy: 0.314800\n",
      "Epoch 31, CIFAR-10 Batch 4:  Loss:  1964.8666 Validation Accuracy: 0.315000\n",
      "Epoch 31, CIFAR-10 Batch 5:  Loss:  2329.8999 Validation Accuracy: 0.315000\n",
      "Epoch 32, CIFAR-10 Batch 1:  Loss:  2242.7607 Validation Accuracy: 0.319000\n",
      "Epoch 32, CIFAR-10 Batch 2:  Loss:  2277.7197 Validation Accuracy: 0.315800\n",
      "Epoch 32, CIFAR-10 Batch 3:  Loss:  2184.5190 Validation Accuracy: 0.313600\n",
      "Epoch 32, CIFAR-10 Batch 4:  Loss:  1849.7874 Validation Accuracy: 0.320800\n",
      "Epoch 32, CIFAR-10 Batch 5:  Loss:  2255.0417 Validation Accuracy: 0.317200\n",
      "Epoch 33, CIFAR-10 Batch 1:  Loss:  2159.2310 Validation Accuracy: 0.321400\n",
      "Epoch 33, CIFAR-10 Batch 2:  Loss:  2189.9985 Validation Accuracy: 0.314400\n",
      "Epoch 33, CIFAR-10 Batch 3:  Loss:  2137.6921 Validation Accuracy: 0.319400\n",
      "Epoch 33, CIFAR-10 Batch 4:  Loss:  1762.3434 Validation Accuracy: 0.320200\n",
      "Epoch 33, CIFAR-10 Batch 5:  Loss:  2174.1074 Validation Accuracy: 0.316000\n",
      "Epoch 34, CIFAR-10 Batch 1:  Loss:  2062.6064 Validation Accuracy: 0.323200\n",
      "Epoch 34, CIFAR-10 Batch 2:  Loss:  2062.6086 Validation Accuracy: 0.316800\n",
      "Epoch 34, CIFAR-10 Batch 3:  Loss:  2057.2275 Validation Accuracy: 0.320800\n",
      "Epoch 34, CIFAR-10 Batch 4:  Loss:  1677.0461 Validation Accuracy: 0.324400\n",
      "Epoch 34, CIFAR-10 Batch 5:  Loss:  2075.7881 Validation Accuracy: 0.315600\n",
      "Epoch 35, CIFAR-10 Batch 1:  Loss:  1976.7839 Validation Accuracy: 0.316600\n",
      "Epoch 35, CIFAR-10 Batch 2:  Loss:  1960.0332 Validation Accuracy: 0.315400\n",
      "Epoch 35, CIFAR-10 Batch 3:  Loss:  1987.5020 Validation Accuracy: 0.322600\n",
      "Epoch 35, CIFAR-10 Batch 4:  Loss:  1591.5820 Validation Accuracy: 0.325200\n",
      "Epoch 35, CIFAR-10 Batch 5:  Loss:  1966.6238 Validation Accuracy: 0.317000\n",
      "Epoch 36, CIFAR-10 Batch 1:  Loss:  1885.4271 Validation Accuracy: 0.321800\n",
      "Epoch 36, CIFAR-10 Batch 2:  Loss:  1861.6881 Validation Accuracy: 0.315600\n",
      "Epoch 36, CIFAR-10 Batch 3:  Loss:  1905.5541 Validation Accuracy: 0.320000\n",
      "Epoch 36, CIFAR-10 Batch 4:  Loss:  1517.4548 Validation Accuracy: 0.323600\n",
      "Epoch 36, CIFAR-10 Batch 5:  Loss:  1882.4924 Validation Accuracy: 0.319800\n",
      "Epoch 37, CIFAR-10 Batch 1:  Loss:  1795.1730 Validation Accuracy: 0.321000\n",
      "Epoch 37, CIFAR-10 Batch 2:  Loss:  1768.4337 Validation Accuracy: 0.318000\n",
      "Epoch 37, CIFAR-10 Batch 3:  Loss:  1814.8256 Validation Accuracy: 0.322600\n",
      "Epoch 37, CIFAR-10 Batch 4:  Loss:  1451.9261 Validation Accuracy: 0.319800\n",
      "Epoch 37, CIFAR-10 Batch 5:  Loss:  1793.6964 Validation Accuracy: 0.320200\n",
      "Epoch 38, CIFAR-10 Batch 1:  Loss:  1713.6283 Validation Accuracy: 0.318000\n",
      "Epoch 38, CIFAR-10 Batch 2:  Loss:  1685.1149 Validation Accuracy: 0.319800\n",
      "Epoch 38, CIFAR-10 Batch 3:  Loss:  1724.9921 Validation Accuracy: 0.319000\n",
      "Epoch 38, CIFAR-10 Batch 4:  Loss:  1378.3027 Validation Accuracy: 0.322000\n",
      "Epoch 38, CIFAR-10 Batch 5:  Loss:  1719.5072 Validation Accuracy: 0.319600\n",
      "Epoch 39, CIFAR-10 Batch 1:  Loss:  1640.2882 Validation Accuracy: 0.315200\n",
      "Epoch 39, CIFAR-10 Batch 2:  Loss:  1601.5743 Validation Accuracy: 0.322000\n",
      "Epoch 39, CIFAR-10 Batch 3:  Loss:  1634.4060 Validation Accuracy: 0.317000\n",
      "Epoch 39, CIFAR-10 Batch 4:  Loss:  1315.9451 Validation Accuracy: 0.316200\n",
      "Epoch 39, CIFAR-10 Batch 5:  Loss:  1643.4181 Validation Accuracy: 0.316800\n",
      "Epoch 40, CIFAR-10 Batch 1:  Loss:  1555.8407 Validation Accuracy: 0.314800\n",
      "Epoch 40, CIFAR-10 Batch 2:  Loss:  1532.1801 Validation Accuracy: 0.314000\n",
      "Epoch 40, CIFAR-10 Batch 3:  Loss:  1549.7745 Validation Accuracy: 0.313200\n",
      "Epoch 40, CIFAR-10 Batch 4:  Loss:  1279.4182 Validation Accuracy: 0.311200\n",
      "Epoch 40, CIFAR-10 Batch 5:  Loss:  1558.8407 Validation Accuracy: 0.313400\n",
      "Epoch 41, CIFAR-10 Batch 1:  Loss:  1488.1191 Validation Accuracy: 0.313200\n",
      "Epoch 41, CIFAR-10 Batch 2:  Loss:  1490.0127 Validation Accuracy: 0.312800\n",
      "Epoch 41, CIFAR-10 Batch 3:  Loss:  1467.0018 Validation Accuracy: 0.309200\n",
      "Epoch 41, CIFAR-10 Batch 4:  Loss:  1218.5837 Validation Accuracy: 0.314800\n",
      "Epoch 41, CIFAR-10 Batch 5:  Loss:  1497.1559 Validation Accuracy: 0.308800\n",
      "Epoch 42, CIFAR-10 Batch 1:  Loss:  1402.1160 Validation Accuracy: 0.313400\n",
      "Epoch 42, CIFAR-10 Batch 2:  Loss:  1430.5520 Validation Accuracy: 0.307000\n",
      "Epoch 42, CIFAR-10 Batch 3:  Loss:  1384.5732 Validation Accuracy: 0.308200\n",
      "Epoch 42, CIFAR-10 Batch 4:  Loss:  1135.0903 Validation Accuracy: 0.314200\n",
      "Epoch 42, CIFAR-10 Batch 5:  Loss:  1433.3674 Validation Accuracy: 0.310200\n",
      "Epoch 43, CIFAR-10 Batch 1:  Loss:  1332.1388 Validation Accuracy: 0.313200\n",
      "Epoch 43, CIFAR-10 Batch 2:  Loss:  1400.9448 Validation Accuracy: 0.307600\n",
      "Epoch 43, CIFAR-10 Batch 3:  Loss:  1317.0945 Validation Accuracy: 0.308200\n",
      "Epoch 43, CIFAR-10 Batch 4:  Loss:  1078.1956 Validation Accuracy: 0.316000\n"
     ]
    },
    {
     "name": "stdout",
     "output_type": "stream",
     "text": [
      "Epoch 43, CIFAR-10 Batch 5:  Loss:  1373.0771 Validation Accuracy: 0.311000\n",
      "Epoch 44, CIFAR-10 Batch 1:  Loss:  1260.9106 Validation Accuracy: 0.312600\n",
      "Epoch 44, CIFAR-10 Batch 2:  Loss:  1347.3647 Validation Accuracy: 0.310800\n",
      "Epoch 44, CIFAR-10 Batch 3:  Loss:  1239.5533 Validation Accuracy: 0.309000\n",
      "Epoch 44, CIFAR-10 Batch 4:  Loss:  1030.7543 Validation Accuracy: 0.314000\n",
      "Epoch 44, CIFAR-10 Batch 5:  Loss:  1302.6902 Validation Accuracy: 0.311200\n",
      "Epoch 45, CIFAR-10 Batch 1:  Loss:  1187.0315 Validation Accuracy: 0.310800\n",
      "Epoch 45, CIFAR-10 Batch 2:  Loss:  1284.8961 Validation Accuracy: 0.307800\n",
      "Epoch 45, CIFAR-10 Batch 3:  Loss:  1168.7291 Validation Accuracy: 0.310000\n",
      "Epoch 45, CIFAR-10 Batch 4:  Loss:   971.3403 Validation Accuracy: 0.316000\n",
      "Epoch 45, CIFAR-10 Batch 5:  Loss:  1236.8203 Validation Accuracy: 0.313000\n",
      "Epoch 46, CIFAR-10 Batch 1:  Loss:  1116.6927 Validation Accuracy: 0.311000\n",
      "Epoch 46, CIFAR-10 Batch 2:  Loss:  1235.7723 Validation Accuracy: 0.310400\n",
      "Epoch 46, CIFAR-10 Batch 3:  Loss:  1111.5543 Validation Accuracy: 0.316200\n",
      "Epoch 46, CIFAR-10 Batch 4:  Loss:   934.0289 Validation Accuracy: 0.318200\n",
      "Epoch 46, CIFAR-10 Batch 5:  Loss:  1169.8324 Validation Accuracy: 0.311000\n",
      "Epoch 47, CIFAR-10 Batch 1:  Loss:  1050.7692 Validation Accuracy: 0.311600\n",
      "Epoch 47, CIFAR-10 Batch 2:  Loss:  1189.4231 Validation Accuracy: 0.311600\n",
      "Epoch 47, CIFAR-10 Batch 3:  Loss:  1062.9020 Validation Accuracy: 0.315800\n",
      "Epoch 47, CIFAR-10 Batch 4:  Loss:   894.4711 Validation Accuracy: 0.320400\n",
      "Epoch 47, CIFAR-10 Batch 5:  Loss:  1125.0770 Validation Accuracy: 0.311000\n",
      "Epoch 48, CIFAR-10 Batch 1:  Loss:  1018.6282 Validation Accuracy: 0.311800\n",
      "Epoch 48, CIFAR-10 Batch 2:  Loss:  1149.9675 Validation Accuracy: 0.310400\n",
      "Epoch 48, CIFAR-10 Batch 3:  Loss:  1005.1359 Validation Accuracy: 0.316800\n",
      "Epoch 48, CIFAR-10 Batch 4:  Loss:   863.2457 Validation Accuracy: 0.317200\n",
      "Epoch 48, CIFAR-10 Batch 5:  Loss:  1066.5785 Validation Accuracy: 0.307600\n",
      "Epoch 49, CIFAR-10 Batch 1:  Loss:   963.6968 Validation Accuracy: 0.310200\n",
      "Epoch 49, CIFAR-10 Batch 2:  Loss:  1104.4143 Validation Accuracy: 0.309400\n",
      "Epoch 49, CIFAR-10 Batch 3:  Loss:   960.3239 Validation Accuracy: 0.312200\n",
      "Epoch 49, CIFAR-10 Batch 4:  Loss:   835.4824 Validation Accuracy: 0.314800\n",
      "Epoch 49, CIFAR-10 Batch 5:  Loss:  1017.5628 Validation Accuracy: 0.308200\n",
      "Epoch 50, CIFAR-10 Batch 1:  Loss:   925.1641 Validation Accuracy: 0.310000\n",
      "Epoch 50, CIFAR-10 Batch 2:  Loss:  1062.0417 Validation Accuracy: 0.308800\n",
      "Epoch 50, CIFAR-10 Batch 3:  Loss:   929.2315 Validation Accuracy: 0.311600\n",
      "Epoch 50, CIFAR-10 Batch 4:  Loss:   809.9794 Validation Accuracy: 0.311800\n",
      "Epoch 50, CIFAR-10 Batch 5:  Loss:   969.7158 Validation Accuracy: 0.308400\n",
      "Epoch 51, CIFAR-10 Batch 1:  Loss:   883.3437 Validation Accuracy: 0.309000\n",
      "Epoch 51, CIFAR-10 Batch 2:  Loss:  1020.8462 Validation Accuracy: 0.310200\n",
      "Epoch 51, CIFAR-10 Batch 3:  Loss:   893.6725 Validation Accuracy: 0.308800\n",
      "Epoch 51, CIFAR-10 Batch 4:  Loss:   781.9700 Validation Accuracy: 0.312400\n",
      "Epoch 51, CIFAR-10 Batch 5:  Loss:   935.7712 Validation Accuracy: 0.308200\n",
      "Epoch 52, CIFAR-10 Batch 1:  Loss:   848.9788 Validation Accuracy: 0.310000\n",
      "Epoch 52, CIFAR-10 Batch 2:  Loss:   977.2606 Validation Accuracy: 0.312400\n",
      "Epoch 52, CIFAR-10 Batch 3:  Loss:   854.3840 Validation Accuracy: 0.309800\n",
      "Epoch 52, CIFAR-10 Batch 4:  Loss:   747.5365 Validation Accuracy: 0.312000\n",
      "Epoch 52, CIFAR-10 Batch 5:  Loss:   894.2384 Validation Accuracy: 0.308800\n",
      "Epoch 53, CIFAR-10 Batch 1:  Loss:   802.4709 Validation Accuracy: 0.310000\n",
      "Epoch 53, CIFAR-10 Batch 2:  Loss:   926.5952 Validation Accuracy: 0.307200\n",
      "Epoch 53, CIFAR-10 Batch 3:  Loss:   802.7376 Validation Accuracy: 0.313400\n",
      "Epoch 53, CIFAR-10 Batch 4:  Loss:   719.6232 Validation Accuracy: 0.313400\n",
      "Epoch 53, CIFAR-10 Batch 5:  Loss:   865.0330 Validation Accuracy: 0.311400\n",
      "Epoch 54, CIFAR-10 Batch 1:  Loss:   774.6295 Validation Accuracy: 0.308600\n",
      "Epoch 54, CIFAR-10 Batch 2:  Loss:   896.6710 Validation Accuracy: 0.305400\n",
      "Epoch 54, CIFAR-10 Batch 3:  Loss:   759.8413 Validation Accuracy: 0.310800\n",
      "Epoch 54, CIFAR-10 Batch 4:  Loss:   702.0616 Validation Accuracy: 0.312200\n",
      "Epoch 54, CIFAR-10 Batch 5:  Loss:   829.1140 Validation Accuracy: 0.313000\n",
      "Epoch 55, CIFAR-10 Batch 1:  Loss:   742.0385 Validation Accuracy: 0.310000\n",
      "Epoch 55, CIFAR-10 Batch 2:  Loss:   871.9622 Validation Accuracy: 0.308600\n",
      "Epoch 55, CIFAR-10 Batch 3:  Loss:   721.1541 Validation Accuracy: 0.312800\n",
      "Epoch 55, CIFAR-10 Batch 4:  Loss:   682.1701 Validation Accuracy: 0.312800\n",
      "Epoch 55, CIFAR-10 Batch 5:  Loss:   800.4030 Validation Accuracy: 0.311800\n",
      "Epoch 56, CIFAR-10 Batch 1:  Loss:   699.8997 Validation Accuracy: 0.311800\n",
      "Epoch 56, CIFAR-10 Batch 2:  Loss:   836.8381 Validation Accuracy: 0.309200\n",
      "Epoch 56, CIFAR-10 Batch 3:  Loss:   698.2248 Validation Accuracy: 0.309400\n",
      "Epoch 56, CIFAR-10 Batch 4:  Loss:   652.3494 Validation Accuracy: 0.316400\n",
      "Epoch 56, CIFAR-10 Batch 5:  Loss:   780.6654 Validation Accuracy: 0.305000\n",
      "Epoch 57, CIFAR-10 Batch 1:  Loss:   670.2797 Validation Accuracy: 0.315800\n",
      "Epoch 57, CIFAR-10 Batch 2:  Loss:   811.0441 Validation Accuracy: 0.308600\n",
      "Epoch 57, CIFAR-10 Batch 3:  Loss:   669.2678 Validation Accuracy: 0.308800\n",
      "Epoch 57, CIFAR-10 Batch 4:  Loss:   619.7323 Validation Accuracy: 0.316000\n",
      "Epoch 57, CIFAR-10 Batch 5:  Loss:   750.7256 Validation Accuracy: 0.307400\n",
      "Epoch 58, CIFAR-10 Batch 1:  Loss:   632.5743 Validation Accuracy: 0.313600\n",
      "Epoch 58, CIFAR-10 Batch 2:  Loss:   777.8373 Validation Accuracy: 0.312600\n",
      "Epoch 58, CIFAR-10 Batch 3:  Loss:   646.9667 Validation Accuracy: 0.311200\n",
      "Epoch 58, CIFAR-10 Batch 4:  Loss:   587.8820 Validation Accuracy: 0.317800\n",
      "Epoch 58, CIFAR-10 Batch 5:  Loss:   718.5657 Validation Accuracy: 0.311600\n",
      "Epoch 59, CIFAR-10 Batch 1:  Loss:   613.7210 Validation Accuracy: 0.309600\n",
      "Epoch 59, CIFAR-10 Batch 2:  Loss:   742.0812 Validation Accuracy: 0.311800\n",
      "Epoch 59, CIFAR-10 Batch 3:  Loss:   630.9520 Validation Accuracy: 0.309400\n",
      "Epoch 59, CIFAR-10 Batch 4:  Loss:   567.6037 Validation Accuracy: 0.313800\n",
      "Epoch 59, CIFAR-10 Batch 5:  Loss:   677.7930 Validation Accuracy: 0.313400\n",
      "Epoch 60, CIFAR-10 Batch 1:  Loss:   586.3001 Validation Accuracy: 0.308600\n",
      "Epoch 60, CIFAR-10 Batch 2:  Loss:   707.5526 Validation Accuracy: 0.310600\n",
      "Epoch 60, CIFAR-10 Batch 3:  Loss:   605.9695 Validation Accuracy: 0.305200\n",
      "Epoch 60, CIFAR-10 Batch 4:  Loss:   551.5635 Validation Accuracy: 0.318600\n",
      "Epoch 60, CIFAR-10 Batch 5:  Loss:   639.1359 Validation Accuracy: 0.311400\n"
     ]
    }
   ],
   "source": [
    "\"\"\"\n",
    "DON'T MODIFY ANYTHING IN THIS CELL\n",
    "\"\"\"\n",
    "save_model_path = './image_classification'\n",
    "\n",
    "print('Training...')\n",
    "with tf.Session() as sess:\n",
    "    # Initializing the variables\n",
    "    sess.run(tf.global_variables_initializer())\n",
    "    \n",
    "    # Training cycle\n",
    "    for epoch in range(epochs):\n",
    "        # Loop over all batches\n",
    "        n_batches = 5\n",
    "        for batch_i in range(1, n_batches + 1):\n",
    "            for batch_features, batch_labels in helper.load_preprocess_training_batch(batch_i, batch_size):\n",
    "                train_neural_network(sess, optimizer, keep_probability, batch_features, batch_labels)\n",
    "            print('Epoch {:>2}, CIFAR-10 Batch {}:  '.format(epoch + 1, batch_i), end='')\n",
    "            print_stats(sess, batch_features, batch_labels, cost, accuracy)\n",
    "            \n",
    "    # Save Model\n",
    "    saver = tf.train.Saver()\n",
    "    save_path = saver.save(sess, save_model_path)"
   ]
  },
  {
   "cell_type": "markdown",
   "metadata": {},
   "source": [
    "# Checkpoint\n",
    "The model has been saved to disk.\n",
    "## Test Model\n",
    "Test your model against the test dataset.  This will be your final accuracy. You should have an accuracy greater than 50%. If you don't, keep tweaking the model architecture and parameters."
   ]
  },
  {
   "cell_type": "code",
   "execution_count": 35,
   "metadata": {},
   "outputs": [
    {
     "name": "stdout",
     "output_type": "stream",
     "text": [
      "Testing Accuracy: 0.3223230704665184\n",
      "\n"
     ]
    },
    {
     "data": {
      "image/png": "[encoded data removed]",
      "text/plain": [
       "<matplotlib.figure.Figure at 0x2030e289470>"
      ]
     },
     "metadata": {
      "image/png": {
       "height": 319,
       "width": 349
      }
     },
     "output_type": "display_data"
    }
   ],
   "source": [
    "\"\"\"\n",
    "DON'T MODIFY ANYTHING IN THIS CELL\n",
    "\"\"\"\n",
    "%matplotlib inline\n",
    "%config InlineBackend.figure_format = 'retina'\n",
    "\n",
    "import tensorflow as tf\n",
    "import pickle\n",
    "import helper\n",
    "import random\n",
    "\n",
    "# Set batch size if not already set\n",
    "try:\n",
    "    if batch_size:\n",
    "        pass\n",
    "except NameError:\n",
    "    batch_size = 64\n",
    "\n",
    "save_model_path = './image_classification'\n",
    "n_samples = 4\n",
    "top_n_predictions = 3\n",
    "\n",
    "def test_model():\n",
    "    \"\"\"\n",
    "    Test the saved model against the test dataset\n",
    "    \"\"\"\n",
    "\n",
    "    test_features, test_labels = pickle.load(open('preprocess_training.p', mode='rb'))\n",
    "    loaded_graph = tf.Graph()\n",
    "\n",
    "    with tf.Session(graph=loaded_graph) as sess:\n",
    "        # Load model\n",
    "        loader = tf.train.import_meta_graph(save_model_path + '.meta')\n",
    "        loader.restore(sess, save_model_path)\n",
    "\n",
    "        # Get Tensors from loaded model\n",
    "        loaded_x = loaded_graph.get_tensor_by_name('x:0')\n",
    "        loaded_y = loaded_graph.get_tensor_by_name('y:0')\n",
    "        loaded_keep_prob = loaded_graph.get_tensor_by_name('keep_prob:0')\n",
    "        loaded_logits = loaded_graph.get_tensor_by_name('logits:0')\n",
    "        loaded_acc = loaded_graph.get_tensor_by_name('accuracy:0')\n",
    "        \n",
    "        # Get accuracy in batches for memory limitations\n",
    "        test_batch_acc_total = 0\n",
    "        test_batch_count = 0\n",
    "        \n",
    "        for train_feature_batch, train_label_batch in helper.batch_features_labels(test_features, test_labels, batch_size):\n",
    "            test_batch_acc_total += sess.run(\n",
    "                loaded_acc,\n",
    "                feed_dict={loaded_x: train_feature_batch, loaded_y: train_label_batch, loaded_keep_prob: 1.0})\n",
    "            test_batch_count += 1\n",
    "\n",
    "        print('Testing Accuracy: {}\\n'.format(test_batch_acc_total/test_batch_count))\n",
    "\n",
    "        # Print Random Samples\n",
    "        random_test_features, random_test_labels = tuple(zip(*random.sample(list(zip(test_features, test_labels)), n_samples)))\n",
    "        random_test_predictions = sess.run(\n",
    "            tf.nn.top_k(tf.nn.softmax(loaded_logits), top_n_predictions),\n",
    "            feed_dict={loaded_x: random_test_features, loaded_y: random_test_labels, loaded_keep_prob: 1.0})\n",
    "        helper.display_image_predictions(random_test_features, random_test_labels, random_test_predictions)\n",
    "\n",
    "\n",
    "test_model()"
   ]
  },
  {
   "cell_type": "markdown",
   "metadata": {},
   "source": [
    "## Why 50-80% Accuracy?\n",
    "You might be wondering why you can't get an accuracy any higher. First things first, 50% isn't bad for a simple CNN.  Pure guessing would get you 10% accuracy. However, you might notice people are getting scores [well above 80%](http://rodrigob.github.io/are_we_there_yet/build/classification_datasets_results.html#43494641522d3130).  That's because we haven't taught you all there is to know about neural networks. We still need to cover a few more techniques.\n",
    "## Submitting This Project\n",
    "When submitting this project, make sure to run all the cells before saving the notebook.  Save the notebook file as \"dlnd_image_classification.ipynb\" and save it as a HTML file under \"File\" -> \"Download as\".  Include the \"helper.py\" and \"problem_unittests.py\" files in your submission."
   ]
  },
  {
   "cell_type": "code",
   "execution_count": null,
   "metadata": {
    "collapsed": true
   },
   "outputs": [],
   "source": []
  }
 ],
 "metadata": {
  "kernelspec": {
   "display_name": "Python 3",
   "language": "python",
   "name": "python3"
  },
  "language_info": {
   "codemirror_mode": {
    "name": "ipython",
    "version": 3
   },
   "file_extension": ".py",
   "mimetype": "text/x-python",
   "name": "python",
   "nbconvert_exporter": "python",
   "pygments_lexer": "ipython3",
   "version": "3.5.3"
  }
 },
 "nbformat": 4,
 "nbformat_minor": 1
}
