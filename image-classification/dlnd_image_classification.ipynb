{
 "cells": [
  {
   "cell_type": "markdown",
   "metadata": {
    "collapsed": true
   },
   "source": [
    "# Image Classification\n",
    "In this project, you'll classify images from the [CIFAR-10 dataset](https://www.cs.toronto.edu/~kriz/cifar.html).  The dataset consists of airplanes, dogs, cats, and other objects. You'll preprocess the images, then train a convolutional neural network on all the samples. The images need to be normalized and the labels need to be one-hot encoded.  You'll get to apply what you learned and build a convolutional, max pooling, dropout, and fully connected layers.  At the end, you'll get to see your neural network's predictions on the sample images.\n",
    "## Get the Data\n",
    "Run the following cell to download the [CIFAR-10 dataset for python](https://www.cs.toronto.edu/~kriz/cifar-10-python.tar.gz)."
   ]
  },
  {
   "cell_type": "code",
   "execution_count": 1,
   "metadata": {},
   "outputs": [
    {
     "name": "stdout",
     "output_type": "stream",
     "text": [
      "All files found!\n"
     ]
    }
   ],
   "source": [
    "\"\"\"\n",
    "DON'T MODIFY ANYTHING IN THIS CELL THAT IS BELOW THIS LINE\n",
    "\"\"\"\n",
    "from urllib.request import urlretrieve\n",
    "from os.path import isfile, isdir\n",
    "from tqdm import tqdm\n",
    "import problem_unittests as tests\n",
    "import tarfile\n",
    "\n",
    "cifar10_dataset_folder_path = 'cifar-10-batches-py'\n",
    "\n",
    "# Use Floyd's cifar-10 dataset if present\n",
    "floyd_cifar10_location = '/input/cifar-10/python.tar.gz'\n",
    "if isfile(floyd_cifar10_location):\n",
    "    tar_gz_path = floyd_cifar10_location\n",
    "else:\n",
    "    tar_gz_path = 'cifar-10-python.tar.gz'\n",
    "\n",
    "class DLProgress(tqdm):\n",
    "    last_block = 0\n",
    "\n",
    "    def hook(self, block_num=1, block_size=1, total_size=None):\n",
    "        self.total = total_size\n",
    "        self.update((block_num - self.last_block) * block_size)\n",
    "        self.last_block = block_num\n",
    "\n",
    "if not isfile(tar_gz_path):\n",
    "    with DLProgress(unit='B', unit_scale=True, miniters=1, desc='CIFAR-10 Dataset') as pbar:\n",
    "        urlretrieve(\n",
    "            'https://www.cs.toronto.edu/~kriz/cifar-10-python.tar.gz',\n",
    "            tar_gz_path,\n",
    "            pbar.hook)\n",
    "\n",
    "if not isdir(cifar10_dataset_folder_path):\n",
    "    with tarfile.open(tar_gz_path) as tar:\n",
    "        tar.extractall()\n",
    "        tar.close()\n",
    "\n",
    "\n",
    "tests.test_folder_path(cifar10_dataset_folder_path)"
   ]
  },
  {
   "cell_type": "markdown",
   "metadata": {},
   "source": [
    "## Explore the Data\n",
    "The dataset is broken into batches to prevent your machine from running out of memory.  The CIFAR-10 dataset consists of 5 batches, named `data_batch_1`, `data_batch_2`, etc.. Each batch contains the labels and images that are one of the following:\n",
    "* airplane\n",
    "* automobile\n",
    "* bird\n",
    "* cat\n",
    "* deer\n",
    "* dog\n",
    "* frog\n",
    "* horse\n",
    "* ship\n",
    "* truck\n",
    "\n",
    "Understanding a dataset is part of making predictions on the data.  Play around with the code cell below by changing the `batch_id` and `sample_id`. The `batch_id` is the id for a batch (1-5). The `sample_id` is the id for a image and label pair in the batch.\n",
    "\n",
    "Ask yourself \"What are all possible labels?\", \"What is the range of values for the image data?\", \"Are the labels in order or random?\".  Answers to questions like these will help you preprocess the data and end up with better predictions."
   ]
  },
  {
   "cell_type": "code",
   "execution_count": 2,
   "metadata": {},
   "outputs": [
    {
     "name": "stdout",
     "output_type": "stream",
     "text": [
      "\n",
      "Stats of batch 1:\n",
      "Samples: 10000\n",
      "Label Counts: {0: 1005, 1: 974, 2: 1032, 3: 1016, 4: 999, 5: 937, 6: 1030, 7: 1001, 8: 1025, 9: 981}\n",
      "First 20 Labels: [6, 9, 9, 4, 1, 1, 2, 7, 8, 3, 4, 7, 7, 2, 9, 9, 9, 3, 2, 6]\n",
      "\n",
      "Example of Image 5:\n",
      "Image - Min Value: 0 Max Value: 252\n",
      "Image - Shape: (32, 32, 3)\n",
      "Label - Label Id: 1 Name: automobile\n"
     ]
    },
    {
     "data": {
      "image/png": "[encoded data removed]",
      "text/plain": [
       "<matplotlib.figure.Figure at 0x7fafd129ac50>"
      ]
     },
     "metadata": {
      "image/png": {
       "height": 250,
       "width": 253
      }
     },
     "output_type": "display_data"
    }
   ],
   "source": [
    "%matplotlib inline\n",
    "%config InlineBackend.figure_format = 'retina'\n",
    "\n",
    "import helper\n",
    "import numpy as np\n",
    "\n",
    "# Explore the dataset\n",
    "batch_id = 1\n",
    "sample_id = 5\n",
    "helper.display_stats(cifar10_dataset_folder_path, batch_id, sample_id)"
   ]
  },
  {
   "cell_type": "code",
   "execution_count": 3,
   "metadata": {},
   "outputs": [
    {
     "data": {
      "text/plain": [
       "'cifar-10-python.tar.gz'"
      ]
     },
     "execution_count": 3,
     "metadata": {},
     "output_type": "execute_result"
    }
   ],
   "source": [
    "tar_gz_path"
   ]
  },
  {
   "cell_type": "markdown",
   "metadata": {},
   "source": [
    "## Implement Preprocess Functions\n",
    "### Normalize\n",
    "In the cell below, implement the `normalize` function to take in image data, `x`, and return it as a normalized Numpy array. The values should be in the range of 0 to 1, inclusive.  The return object should be the same shape as `x`."
   ]
  },
  {
   "cell_type": "code",
   "execution_count": 4,
   "metadata": {},
   "outputs": [
    {
     "name": "stdout",
     "output_type": "stream",
     "text": [
      "Tests Passed\n"
     ]
    }
   ],
   "source": [
    "def normalize(x):\n",
    "    \"\"\"\n",
    "    Normalize a list of sample image data in the range of 0 to 1\n",
    "    : x: List of image data.  The image shape is (32, 32, 3)\n",
    "    : return: Numpy array of normalize data\n",
    "    \"\"\"\n",
    "    x=x.astype('float32')\n",
    "    \n",
    "    return x/255.0\n",
    "\n",
    "\n",
    "\"\"\"\n",
    "DON'T MODIFY ANYTHING IN THIS CELL THAT IS BELOW THIS LINE\n",
    "\"\"\"\n",
    "tests.test_normalize(normalize)"
   ]
  },
  {
   "cell_type": "markdown",
   "metadata": {},
   "source": [
    "### One-hot encode\n",
    "Just like the previous code cell, you'll be implementing a function for preprocessing.  This time, you'll implement the `one_hot_encode` function. The input, `x`, are a list of labels.  Implement the function to return the list of labels as One-Hot encoded Numpy array.  The possible values for labels are 0 to 9. The one-hot encoding function should return the same encoding for each value between each call to `one_hot_encode`.  Make sure to save the map of encodings outside the function.\n",
    "\n",
    "Hint: Don't reinvent the wheel."
   ]
  },
  {
   "cell_type": "code",
   "execution_count": 5,
   "metadata": {},
   "outputs": [
    {
     "name": "stdout",
     "output_type": "stream",
     "text": [
      "Tests Passed\n"
     ]
    }
   ],
   "source": [
    "def one_hot_encode(x):\n",
    "    \"\"\"\n",
    "    One hot encode a list of sample labels. Return a one-hot encoded vector for each label.\n",
    "    : x: List of sample Labels\n",
    "    : return: Numpy array of one-hot encoded labels\n",
    "    \"\"\"\n",
    "    a = np.zeros((len(x),10))\n",
    "    \n",
    "    a[np.arange(len(x)),x]=1\n",
    "    return a\n",
    "\n",
    "\n",
    "\"\"\"\n",
    "DON'T MODIFY ANYTHING IN THIS CELL THAT IS BELOW THIS LINE\n",
    "\"\"\"\n",
    "tests.test_one_hot_encode(one_hot_encode)"
   ]
  },
  {
   "cell_type": "markdown",
   "metadata": {},
   "source": [
    "### Randomize Data\n",
    "As you saw from exploring the data above, the order of the samples are randomized.  It doesn't hurt to randomize it again, but you don't need to for this dataset."
   ]
  },
  {
   "cell_type": "markdown",
   "metadata": {},
   "source": [
    "## Preprocess all the data and save it\n",
    "Running the code cell below will preprocess all the CIFAR-10 data and save it to file. The code below also uses 10% of the training data for validation."
   ]
  },
  {
   "cell_type": "code",
   "execution_count": 6,
   "metadata": {
    "collapsed": true
   },
   "outputs": [],
   "source": [
    "\"\"\"\n",
    "DON'T MODIFY ANYTHING IN THIS CELL\n",
    "\"\"\"\n",
    "# Preprocess Training, Validation, and Testing Data\n",
    "helper.preprocess_and_save_data(cifar10_dataset_folder_path, normalize, one_hot_encode)"
   ]
  },
  {
   "cell_type": "markdown",
   "metadata": {},
   "source": [
    "# Check Point\n",
    "This is your first checkpoint.  If you ever decide to come back to this notebook or have to restart the notebook, you can start from here.  The preprocessed data has been saved to disk."
   ]
  },
  {
   "cell_type": "code",
   "execution_count": 7,
   "metadata": {
    "collapsed": true
   },
   "outputs": [],
   "source": [
    "\"\"\"\n",
    "DON'T MODIFY ANYTHING IN THIS CELL\n",
    "\"\"\"\n",
    "import pickle\n",
    "import problem_unittests as tests\n",
    "import helper\n",
    "\n",
    "# Load the Preprocessed Validation data\n",
    "valid_features, valid_labels = pickle.load(open('preprocess_validation.p', mode='rb'))"
   ]
  },
  {
   "cell_type": "markdown",
   "metadata": {},
   "source": [
    "## Build the network\n",
    "For the neural network, you'll build each layer into a function.  Most of the code you've seen has been outside of functions. To test your code more thoroughly, we require that you put each layer in a function.  This allows us to give you better feedback and test for simple mistakes using our unittests before you submit your project.\n",
    "\n",
    ">**Note:** If you're finding it hard to dedicate enough time for this course each week, we've provided a small shortcut to this part of the project. In the next couple of problems, you'll have the option to use classes from the [TensorFlow Layers](https://www.tensorflow.org/api_docs/python/tf/layers) or [TensorFlow Layers (contrib)](https://www.tensorflow.org/api_guides/python/contrib.layers) packages to build each layer, except the layers you build in the \"Convolutional and Max Pooling Layer\" section.  TF Layers is similar to Keras's and TFLearn's abstraction to layers, so it's easy to pickup.\n",
    "\n",
    ">However, if you would like to get the most out of this course, try to solve all the problems _without_ using anything from the TF Layers packages. You **can** still use classes from other packages that happen to have the same name as ones you find in TF Layers! For example, instead of using the TF Layers version of the `conv2d` class, [tf.layers.conv2d](https://www.tensorflow.org/api_docs/python/tf/layers/conv2d), you would want to use the TF Neural Network version of `conv2d`, [tf.nn.conv2d](https://www.tensorflow.org/api_docs/python/tf/nn/conv2d). \n",
    "\n",
    "Let's begin!\n",
    "\n",
    "### Input\n",
    "The neural network needs to read the image data, one-hot encoded labels, and dropout keep probability. Implement the following functions\n",
    "* Implement `neural_net_image_input`\n",
    " * Return a [TF Placeholder](https://www.tensorflow.org/api_docs/python/tf/placeholder)\n",
    " * Set the shape using `image_shape` with batch size set to `None`.\n",
    " * Name the TensorFlow placeholder \"x\" using the TensorFlow `name` parameter in the [TF Placeholder](https://www.tensorflow.org/api_docs/python/tf/placeholder).\n",
    "* Implement `neural_net_label_input`\n",
    " * Return a [TF Placeholder](https://www.tensorflow.org/api_docs/python/tf/placeholder)\n",
    " * Set the shape using `n_classes` with batch size set to `None`.\n",
    " * Name the TensorFlow placeholder \"y\" using the TensorFlow `name` parameter in the [TF Placeholder](https://www.tensorflow.org/api_docs/python/tf/placeholder).\n",
    "* Implement `neural_net_keep_prob_input`\n",
    " * Return a [TF Placeholder](https://www.tensorflow.org/api_docs/python/tf/placeholder) for dropout keep probability.\n",
    " * Name the TensorFlow placeholder \"keep_prob\" using the TensorFlow `name` parameter in the [TF Placeholder](https://www.tensorflow.org/api_docs/python/tf/placeholder).\n",
    "\n",
    "These names will be used at the end of the project to load your saved model.\n",
    "\n",
    "Note: `None` for shapes in TensorFlow allow for a dynamic size."
   ]
  },
  {
   "cell_type": "code",
   "execution_count": 8,
   "metadata": {},
   "outputs": [
    {
     "name": "stdout",
     "output_type": "stream",
     "text": [
      "Image Input Tests Passed.\n",
      "Label Input Tests Passed.\n",
      "Keep Prob Tests Passed.\n"
     ]
    }
   ],
   "source": [
    "import tensorflow as tf\n",
    "\n",
    "def neural_net_image_input(image_shape):\n",
    "    \"\"\"\n",
    "    Return a Tensor for a batch of image input\n",
    "    : image_shape: Shape of the images\n",
    "    : return: Tensor for image input.\n",
    "    \"\"\"\n",
    "    # TODO: Implement Function\n",
    "    input= tf.placeholder(tf.float32,(None,)+(image_shape),name=\"x\")\n",
    "    return input\n",
    "\n",
    "def neural_net_label_input(n_classes):\n",
    "    \"\"\"\n",
    "    Return a Tensor for a batch of label input\n",
    "    : n_classes: Number of classes\n",
    "    : return: Tensor for label input.\n",
    "    \"\"\"\n",
    "    # TODO: Implement Function\n",
    "    return tf.placeholder(tf.float32,[None,n_classes],name=\"y\")\n",
    "\n",
    "\n",
    "def neural_net_keep_prob_input():\n",
    "    \"\"\"\n",
    "    Return a Tensor for keep probability\n",
    "    : return: Tensor for keep probability.\n",
    "    \"\"\"\n",
    "    # TODO: Implement Function\n",
    "    return tf.placeholder(tf.float32,name=\"keep_prob\")\n",
    "\n",
    "\n",
    "\"\"\"\n",
    "DON'T MODIFY ANYTHING IN THIS CELL THAT IS BELOW THIS LINE\n",
    "\"\"\"\n",
    "tf.reset_default_graph()\n",
    "tests.test_nn_image_inputs(neural_net_image_input)\n",
    "tests.test_nn_label_inputs(neural_net_label_input)\n",
    "tests.test_nn_keep_prob_inputs(neural_net_keep_prob_input)"
   ]
  },
  {
   "cell_type": "markdown",
   "metadata": {},
   "source": [
    "### Convolution and Max Pooling Layer\n",
    "Convolution layers have a lot of success with images. For this code cell, you should implement the function `conv2d_maxpool` to apply convolution then max pooling:\n",
    "* Create the weight and bias using `conv_ksize`, `conv_num_outputs` and the shape of `x_tensor`.\n",
    "* Apply a convolution to `x_tensor` using weight and `conv_strides`.\n",
    " * We recommend you use same padding, but you're welcome to use any padding.\n",
    "* Add bias\n",
    "* Add a nonlinear activation to the convolution.\n",
    "* Apply Max Pooling using `pool_ksize` and `pool_strides`.\n",
    " * We recommend you use same padding, but you're welcome to use any padding.\n",
    "\n",
    "**Note:** You **can't** use [TensorFlow Layers](https://www.tensorflow.org/api_docs/python/tf/layers) or [TensorFlow Layers (contrib)](https://www.tensorflow.org/api_guides/python/contrib.layers) for **this** layer, but you can still use TensorFlow's [Neural Network](https://www.tensorflow.org/api_docs/python/tf/nn) package. You may still use the shortcut option for all the **other** layers."
   ]
  },
  {
   "cell_type": "code",
   "execution_count": 9,
   "metadata": {},
   "outputs": [
    {
     "name": "stdout",
     "output_type": "stream",
     "text": [
      "Tests Passed\n"
     ]
    }
   ],
   "source": [
    "def conv2d_maxpool(x_tensor, conv_num_outputs, conv_ksize, conv_strides, pool_ksize, pool_strides):\n",
    "    \"\"\"\n",
    "    Apply convolution then max pooling to x_tensor\n",
    "    :param x_tensor: TensorFlow Tensor\n",
    "    :param conv_num_outputs: Number of outputs for the convolutional layer\n",
    "    :param conv_ksize: kernal size 2-D Tuple for the convolutional layer\n",
    "    :param conv_strides: Stride 2-D Tuple for convolution\n",
    "    :param pool_ksize: kernal size 2-D Tuple for pool\n",
    "    :param pool_strides: Stride 2-D Tuple for pool\n",
    "    : return: A tensor that represents convolution and max pooling of x_tensor\n",
    "    \"\"\"\n",
    "\n",
    "    filter_weights = tf.Variable(tf.truncated_normal((conv_ksize+(x_tensor.shape[3].value,conv_num_outputs,)),mean=0, stddev=0.1))\n",
    "    filter_bias = tf.Variable(tf.zeros(conv_num_outputs))\n",
    "    stride =(1,)+conv_strides+(1,)\n",
    "    conv= tf.nn.conv2d(x_tensor,filter_weights,stride,'SAME')+filter_bias\n",
    "    conv = tf.nn.relu(conv)\n",
    "    conv = tf.nn.max_pool(conv,ksize=[1]+list(pool_ksize)+[1],padding='SAME',strides=[1]+list(pool_strides)+[1])\n",
    "    return conv \n",
    "\n",
    "\n",
    "\"\"\"\n",
    "DON'T MODIFY ANYTHING IN THIS CELL THAT IS BELOW THIS LINE\n",
    "\"\"\"\n",
    "tests.test_con_pool(conv2d_maxpool)"
   ]
  },
  {
   "cell_type": "markdown",
   "metadata": {},
   "source": [
    "### Flatten Layer\n",
    "Implement the `flatten` function to change the dimension of `x_tensor` from a 4-D tensor to a 2-D tensor.  The output should be the shape (*Batch Size*, *Flattened Image Size*). Shortcut option: you can use classes from the [TensorFlow Layers](https://www.tensorflow.org/api_docs/python/tf/layers) or [TensorFlow Layers (contrib)](https://www.tensorflow.org/api_guides/python/contrib.layers) packages for this layer. For more of a challenge, only use other TensorFlow packages."
   ]
  },
  {
   "cell_type": "code",
   "execution_count": 13,
   "metadata": {},
   "outputs": [
    {
     "name": "stdout",
     "output_type": "stream",
     "text": [
      "Tests Passed\n"
     ]
    }
   ],
   "source": [
    "def flatten(x_tensor):\n",
    "    \"\"\"\n",
    "    Flatten x_tensor to (Batch Size, Flattened Image Size)\n",
    "    : x_tensor: A tensor of size (Batch Size, ...), where ... are the image dimensions.\n",
    "    : return: A tensor of size (Batch Size, Flattened Image Size).\n",
    "    \"\"\"\n",
    "\n",
    "    size = x_tensor.shape[1].value*x_tensor.shape[2].value*x_tensor.shape[3].value\n",
    "    return tf.reshape(x_tensor,[-1,size])\n",
    "\n",
    "\n",
    "\"\"\"\n",
    "DON'T MODIFY ANYTHING IN THIS CELL THAT IS BELOW THIS LINE\n",
    "\"\"\"\n",
    "tests.test_flatten(flatten)"
   ]
  },
  {
   "cell_type": "markdown",
   "metadata": {},
   "source": [
    "### Fully-Connected Layer\n",
    "Implement the `fully_conn` function to apply a fully connected layer to `x_tensor` with the shape (*Batch Size*, *num_outputs*). Shortcut option: you can use classes from the [TensorFlow Layers](https://www.tensorflow.org/api_docs/python/tf/layers) or [TensorFlow Layers (contrib)](https://www.tensorflow.org/api_guides/python/contrib.layers) packages for this layer. For more of a challenge, only use other TensorFlow packages."
   ]
  },
  {
   "cell_type": "code",
   "execution_count": 14,
   "metadata": {},
   "outputs": [
    {
     "name": "stdout",
     "output_type": "stream",
     "text": [
      "Tensor(\"Placeholder_5:0\", shape=(?, 128), dtype=float32)\n",
      "40\n",
      "Tests Passed\n"
     ]
    }
   ],
   "source": [
    "def fully_conn(x_tensor, num_outputs):\n",
    "    \"\"\"\n",
    "    Apply a fully connected layer to x_tensor using weight and bias\n",
    "    : x_tensor: A 2-D tensor where the first dimension is batch size.\n",
    "    : num_outputs: The number of output that the new tensor should be.\n",
    "    : return: A 2-D tensor where the second dimension is num_outputs.\n",
    "    \"\"\"\n",
    "    print(x_tensor)\n",
    "    print(num_outputs)\n",
    "    weights = tf.Variable(tf.truncated_normal((x_tensor.shape[1].value,num_outputs),mean=0, stddev=0.1))\n",
    "    biases = tf.Variable(tf.zeros((num_outputs)))\n",
    "    conv=tf.add(tf.matmul(x_tensor,weights), biases)\n",
    "    conv=tf.nn.relu(conv)\n",
    " \n",
    "    \n",
    "  \n",
    "    return conv\n",
    "\n",
    "\n",
    "\"\"\"\n",
    "DON'T MODIFY ANYTHING IN THIS CELL THAT IS BELOW THIS LINE\n",
    "\"\"\"\n",
    "tests.test_fully_conn(fully_conn)"
   ]
  },
  {
   "cell_type": "markdown",
   "metadata": {},
   "source": [
    "### Output Layer\n",
    "Implement the `output` function to apply a fully connected layer to `x_tensor` with the shape (*Batch Size*, *num_outputs*). Shortcut option: you can use classes from the [TensorFlow Layers](https://www.tensorflow.org/api_docs/python/tf/layers) or [TensorFlow Layers (contrib)](https://www.tensorflow.org/api_guides/python/contrib.layers) packages for this layer. For more of a challenge, only use other TensorFlow packages.\n",
    "\n",
    "**Note:** Activation, softmax, or cross entropy should **not** be applied to this."
   ]
  },
  {
   "cell_type": "code",
   "execution_count": 15,
   "metadata": {},
   "outputs": [
    {
     "name": "stdout",
     "output_type": "stream",
     "text": [
      "Tests Passed\n"
     ]
    }
   ],
   "source": [
    "def output(x_tensor, num_outputs):\n",
    "    \"\"\"\n",
    "    Apply a output layer to x_tensor using weight and bias\n",
    "    : x_tensor: A 2-D tensor where the first dimension is batch size.\n",
    "    : num_outputs: The number of output that the new tensor should be.\n",
    "    : return: A 2-D tensor where the second dimension is num_outputs.\n",
    "    \"\"\"\n",
    "    \n",
    "    weights = tf.Variable(tf.truncated_normal((x_tensor.shape[1].value,num_outputs),mean=0, stddev=0.1))\n",
    "    biases = tf.Variable(tf.zeros((num_outputs)))\n",
    "    return  tf.add(tf.matmul(x_tensor,weights),biases)\n",
    "\n",
    "\n",
    "\"\"\"\n",
    "DON'T MODIFY ANYTHING IN THIS CELL THAT IS BELOW THIS LINE\n",
    "\"\"\"\n",
    "tests.test_output(output)"
   ]
  },
  {
   "cell_type": "markdown",
   "metadata": {},
   "source": [
    "### Create Convolutional Model\n",
    "Implement the function `conv_net` to create a convolutional neural network model. The function takes in a batch of images, `x`, and outputs logits.  Use the layers you created above to create this model:\n",
    "\n",
    "* Apply 1, 2, or 3 Convolution and Max Pool layers\n",
    "* Apply a Flatten Layer\n",
    "* Apply 1, 2, or 3 Fully Connected Layers\n",
    "* Apply an Output Layer\n",
    "* Return the output\n",
    "* Apply [TensorFlow's Dropout](https://www.tensorflow.org/api_docs/python/tf/nn/dropout) to one or more layers in the model using `keep_prob`. "
   ]
  },
  {
   "cell_type": "code",
   "execution_count": 21,
   "metadata": {},
   "outputs": [
    {
     "name": "stdout",
     "output_type": "stream",
     "text": [
      "conv--> Tensor(\"MaxPool_3:0\", shape=(?, 2, 2, 128), dtype=float32)\n",
      "Tensor(\"dropout/mul:0\", shape=(?, 512), dtype=float32)\n",
      "conv--> Tensor(\"MaxPool_7:0\", shape=(?, 2, 2, 128), dtype=float32)\n",
      "Tensor(\"dropout_1/mul:0\", shape=(?, 512), dtype=float32)\n",
      "Neural Network Built!\n"
     ]
    }
   ],
   "source": [
    "def conv_net(x, keep_prob):\n",
    "  \n",
    "    \"\"\"\n",
    "    Create a convolutional neural network model\n",
    "    : x: Placeholder tensor that holds image data.\n",
    "    : keep_prob: Placeholder tensor that hold dropout keep probability.\n",
    "    : return: Tensor that represents logits\n",
    "    \"\"\"\n",
    "    # TODO: Apply 1, 2, or 3 Convolution and Max Pool layers\n",
    "    #    Play around with different number of outputs, kernel size and stride\n",
    "    # Function Definition from Above:\n",
    "    #    conv2d_maxpool(x_tensor, conv_num_outputs, conv_ksize, conv_strides, pool_ksize, pool_strides)\n",
    "    conv = conv2d_maxpool(x,16,(5,5),(1,1),(5,2),(2,2))\n",
    "    conv = conv2d_maxpool(conv,32,(5,5),(1,1),(5,2),(2,2))\n",
    "    conv = conv2d_maxpool(conv,64,(5,5),(1,1),(5,2),(2,2))\n",
    "    conv = conv2d_maxpool(conv,128,(5,5),(1,1),(5,2),(2,2))\n",
    "\n",
    "    \n",
    "    #conv = conv2d_maxpool(conv,20,(5,5),(2,2),(5,2),(2,2))\n",
    "    #conv = conv2d_maxpool(conv,128,(5,5),(1,1),(5,2),(2,2))\n",
    "    print('conv-->',conv)\n",
    "    conv = flatten(conv)\n",
    "    \n",
    "\n",
    "    conv=fully_conn(conv,1024)\n",
    "    conv = tf.nn.dropout(conv,keep_prob)\n",
    "    #conv=fully_conn(conv, 64)\n",
    "    #conv = tf.nn.dropout(conv,keep_prob)\n",
    "    print(conv)\n",
    "    # TODO: Apply an Output Layer\n",
    "    #    Set this to the number of classes\n",
    "    # Function Definition from Above:\n",
    "    #   output(x_tensor, num_outputs)\n",
    "    conv = output(conv, 10)\n",
    "    \n",
    "    \n",
    "    # TODO: return output\n",
    "    return conv\n",
    "\n",
    "\n",
    "\"\"\"\n",
    "DON'T MODIFY ANYTHING IN THIS CELL THAT IS BELOW THIS LINE\n",
    "\"\"\"\n",
    "\n",
    "##############################\n",
    "## Build the Neural Network ##\n",
    "##############################\n",
    "\n",
    "# Remove previous weights, bias, inputs, etc..\n",
    "tf.reset_default_graph()\n",
    "\n",
    "# Inputs\n",
    "x = neural_net_image_input((32, 32, 3))\n",
    "y = neural_net_label_input(10)\n",
    "keep_prob = neural_net_keep_prob_input()\n",
    "\n",
    "# Model\n",
    "logits = conv_net(x, keep_prob)\n",
    "\n",
    "# Name logits Tensor, so that is can be loaded from disk after training\n",
    "logits = tf.identity(logits, name='logits')\n",
    "\n",
    "# Loss and Optimizer\n",
    "cost = tf.reduce_mean(tf.nn.softmax_cross_entropy_with_logits(logits=logits, labels=y))\n",
    "optimizer = tf.train.AdamOptimizer().minimize(cost)\n",
    "\n",
    "# Accuracy\n",
    "correct_pred = tf.equal(tf.argmax(logits, 1), tf.argmax(y, 1))\n",
    "accuracy = tf.reduce_mean(tf.cast(correct_pred, tf.float32), name='accuracy')\n",
    "\n",
    "tests.test_conv_net(conv_net)"
   ]
  },
  {
   "cell_type": "markdown",
   "metadata": {},
   "source": [
    "## Train the Neural Network\n",
    "### Single Optimization\n",
    "Implement the function `train_neural_network` to do a single optimization.  The optimization should use `optimizer` to optimize in `session` with a `feed_dict` of the following:\n",
    "* `x` for image input\n",
    "* `y` for labels\n",
    "* `keep_prob` for keep probability for dropout\n",
    "\n",
    "This function will be called for each batch, so `tf.global_variables_initializer()` has already been called.\n",
    "\n",
    "Note: Nothing needs to be returned. This function is only optimizing the neural network."
   ]
  },
  {
   "cell_type": "code",
   "execution_count": 22,
   "metadata": {},
   "outputs": [
    {
     "name": "stdout",
     "output_type": "stream",
     "text": [
      "Tests Passed\n"
     ]
    }
   ],
   "source": [
    "def train_neural_network(session, optimizer, keep_probability, feature_batch, label_batch):\n",
    "    \"\"\"\n",
    "    Optimize the session on a batch of images and labels\n",
    "    : session: Current TensorFlow session\n",
    "    : optimizer: TensorFlow optimizer function\n",
    "    : keep_probability: keep probability\n",
    "    : feature_batch: Batch of Numpy image data\n",
    "    : label_batch: Batch of Numpy label data\n",
    "    \"\"\"\n",
    "    session.run(optimizer,feed_dict={x:feature_batch,y:label_batch,keep_prob:keep_probability})\n",
    "  \n",
    "\n",
    "\n",
    "\"\"\"\n",
    "DON'T MODIFY ANYTHING IN THIS CELL THAT IS BELOW THIS LINE\n",
    "\"\"\"\n",
    "tests.test_train_nn(train_neural_network)"
   ]
  },
  {
   "cell_type": "markdown",
   "metadata": {},
   "source": [
    "### Show Stats\n",
    "Implement the function `print_stats` to print loss and validation accuracy.  Use the global variables `valid_features` and `valid_labels` to calculate validation accuracy.  Use a keep probability of `1.0` to calculate the loss and validation accuracy."
   ]
  },
  {
   "cell_type": "code",
   "execution_count": 23,
   "metadata": {
    "collapsed": true
   },
   "outputs": [],
   "source": [
    "def print_stats(session, feature_batch, label_batch, cost, accuracy):\n",
    "    \"\"\"\n",
    "    Print information about loss and validation accuracy\n",
    "    : session: Current TensorFlow session\n",
    "    : feature_batch: Batch of Numpy image data\n",
    "    : label_batch: Batch of Numpy label data\n",
    "    : cost: TensorFlow cost function\n",
    "    : accuracy: TensorFlow accuracy function\n",
    "    \"\"\"\n",
    "    loss=session.run(cost,feed_dict={x:feature_batch,y:label_batch,keep_prob:1.0})\n",
    "    acc=session.run(accuracy,feed_dict={x:valid_features,y:valid_labels,keep_prob:1.0})\n",
    "    print('Loss: {:>10.4f} Validation Accuracy: {:.6f}'.format(loss,acc))\n",
    "    "
   ]
  },
  {
   "cell_type": "markdown",
   "metadata": {},
   "source": [
    "### Hyperparameters\n",
    "Tune the following parameters:\n",
    "* Set `epochs` to the number of iterations until the network stops learning or start overfitting\n",
    "* Set `batch_size` to the highest number that your machine has memory for.  Most people set them to common sizes of memory:\n",
    " * 64\n",
    " * 128\n",
    " * 256\n",
    " * ...\n",
    "* Set `keep_probability` to the probability of keeping a node using dropout"
   ]
  },
  {
   "cell_type": "code",
   "execution_count": 24,
   "metadata": {
    "collapsed": true
   },
   "outputs": [],
   "source": [
    "# TODO: Tune Parameters\n",
    "epochs = 50\n",
    "batch_size =512\n",
    "keep_probability = 0.75"
   ]
  },
  {
   "cell_type": "markdown",
   "metadata": {},
   "source": [
    "### Train on a Single CIFAR-10 Batch\n",
    "Instead of training the neural network on all the CIFAR-10 batches of data, let's use a single batch. This should save time while you iterate on the model to get a better accuracy.  Once the final validation accuracy is 50% or greater, run the model on all the data in the next section."
   ]
  },
  {
   "cell_type": "code",
   "execution_count": 25,
   "metadata": {},
   "outputs": [
    {
     "name": "stdout",
     "output_type": "stream",
     "text": [
      "Checking the Training on a Single Batch...\n",
      "Epoch  1, CIFAR-10 Batch 1:  Loss:     2.2699 Validation Accuracy: 0.156000\n",
      "Epoch  2, CIFAR-10 Batch 1:  Loss:     2.1314 Validation Accuracy: 0.272800\n",
      "Epoch  3, CIFAR-10 Batch 1:  Loss:     1.8520 Validation Accuracy: 0.352800\n",
      "Epoch  4, CIFAR-10 Batch 1:  Loss:     1.7246 Validation Accuracy: 0.386000\n",
      "Epoch  5, CIFAR-10 Batch 1:  Loss:     1.6276 Validation Accuracy: 0.413600\n",
      "Epoch  6, CIFAR-10 Batch 1:  Loss:     1.5575 Validation Accuracy: 0.433800\n",
      "Epoch  7, CIFAR-10 Batch 1:  Loss:     1.4696 Validation Accuracy: 0.449200\n",
      "Epoch  8, CIFAR-10 Batch 1:  Loss:     1.3972 Validation Accuracy: 0.460800\n",
      "Epoch  9, CIFAR-10 Batch 1:  Loss:     1.3244 Validation Accuracy: 0.470400\n",
      "Epoch 10, CIFAR-10 Batch 1:  Loss:     1.2740 Validation Accuracy: 0.487200\n",
      "Epoch 11, CIFAR-10 Batch 1:  Loss:     1.1713 Validation Accuracy: 0.498200\n",
      "Epoch 12, CIFAR-10 Batch 1:  Loss:     1.1020 Validation Accuracy: 0.509000\n",
      "Epoch 13, CIFAR-10 Batch 1:  Loss:     1.0449 Validation Accuracy: 0.515800\n",
      "Epoch 14, CIFAR-10 Batch 1:  Loss:     0.9837 Validation Accuracy: 0.517000\n",
      "Epoch 15, CIFAR-10 Batch 1:  Loss:     0.9329 Validation Accuracy: 0.519600\n",
      "Epoch 16, CIFAR-10 Batch 1:  Loss:     0.8726 Validation Accuracy: 0.528800\n",
      "Epoch 17, CIFAR-10 Batch 1:  Loss:     0.8194 Validation Accuracy: 0.531800\n",
      "Epoch 18, CIFAR-10 Batch 1:  Loss:     0.8030 Validation Accuracy: 0.535000\n",
      "Epoch 19, CIFAR-10 Batch 1:  Loss:     0.7497 Validation Accuracy: 0.542600\n",
      "Epoch 20, CIFAR-10 Batch 1:  Loss:     0.7159 Validation Accuracy: 0.533200\n",
      "Epoch 21, CIFAR-10 Batch 1:  Loss:     0.6496 Validation Accuracy: 0.544800\n",
      "Epoch 22, CIFAR-10 Batch 1:  Loss:     0.6225 Validation Accuracy: 0.539200\n",
      "Epoch 23, CIFAR-10 Batch 1:  Loss:     0.5901 Validation Accuracy: 0.543000\n",
      "Epoch 24, CIFAR-10 Batch 1:  Loss:     0.5864 Validation Accuracy: 0.547200\n",
      "Epoch 25, CIFAR-10 Batch 1:  Loss:     0.5673 Validation Accuracy: 0.550200\n",
      "Epoch 26, CIFAR-10 Batch 1:  Loss:     0.5194 Validation Accuracy: 0.557400\n",
      "Epoch 27, CIFAR-10 Batch 1:  Loss:     0.4593 Validation Accuracy: 0.557400\n",
      "Epoch 28, CIFAR-10 Batch 1:  Loss:     0.4453 Validation Accuracy: 0.552200\n",
      "Epoch 29, CIFAR-10 Batch 1:  Loss:     0.4210 Validation Accuracy: 0.552800\n",
      "Epoch 30, CIFAR-10 Batch 1:  Loss:     0.4544 Validation Accuracy: 0.534600\n",
      "Epoch 31, CIFAR-10 Batch 1:  Loss:     0.4140 Validation Accuracy: 0.539000\n",
      "Epoch 32, CIFAR-10 Batch 1:  Loss:     0.3648 Validation Accuracy: 0.555800\n",
      "Epoch 33, CIFAR-10 Batch 1:  Loss:     0.3552 Validation Accuracy: 0.549000\n",
      "Epoch 34, CIFAR-10 Batch 1:  Loss:     0.3336 Validation Accuracy: 0.544000\n",
      "Epoch 35, CIFAR-10 Batch 1:  Loss:     0.2860 Validation Accuracy: 0.548600\n",
      "Epoch 36, CIFAR-10 Batch 1:  Loss:     0.2666 Validation Accuracy: 0.559400\n",
      "Epoch 37, CIFAR-10 Batch 1:  Loss:     0.2628 Validation Accuracy: 0.559400\n",
      "Epoch 38, CIFAR-10 Batch 1:  Loss:     0.2787 Validation Accuracy: 0.555600\n",
      "Epoch 39, CIFAR-10 Batch 1:  Loss:     0.2898 Validation Accuracy: 0.551400\n",
      "Epoch 40, CIFAR-10 Batch 1:  Loss:     0.2551 Validation Accuracy: 0.555800\n",
      "Epoch 41, CIFAR-10 Batch 1:  Loss:     0.2002 Validation Accuracy: 0.562400\n",
      "Epoch 42, CIFAR-10 Batch 1:  Loss:     0.1919 Validation Accuracy: 0.566600\n",
      "Epoch 43, CIFAR-10 Batch 1:  Loss:     0.1872 Validation Accuracy: 0.558200\n",
      "Epoch 44, CIFAR-10 Batch 1:  Loss:     0.1770 Validation Accuracy: 0.558800\n",
      "Epoch 45, CIFAR-10 Batch 1:  Loss:     0.1776 Validation Accuracy: 0.551000\n",
      "Epoch 46, CIFAR-10 Batch 1:  Loss:     0.1817 Validation Accuracy: 0.544400\n",
      "Epoch 47, CIFAR-10 Batch 1:  Loss:     0.2020 Validation Accuracy: 0.541600\n",
      "Epoch 48, CIFAR-10 Batch 1:  Loss:     0.2435 Validation Accuracy: 0.532800\n",
      "Epoch 49, CIFAR-10 Batch 1:  Loss:     0.1894 Validation Accuracy: 0.546800\n",
      "Epoch 50, CIFAR-10 Batch 1:  Loss:     0.1390 Validation Accuracy: 0.565200\n"
     ]
    }
   ],
   "source": [
    "\"\"\"\n",
    "DON'T MODIFY ANYTHING IN THIS CELL\n",
    "\"\"\"\n",
    "print('Checking the Training on a Single Batch...')\n",
    "with tf.Session() as sess:\n",
    "    # Initializing the variables\n",
    "    sess.run(tf.global_variables_initializer())\n",
    "    \n",
    "    # Training cycle\n",
    "    for epoch in range(epochs):\n",
    "        batch_i = 1\n",
    "        for batch_features, batch_labels in helper.load_preprocess_training_batch(batch_i, batch_size):\n",
    "            train_neural_network(sess, optimizer, keep_probability, batch_features, batch_labels)\n",
    "        print('Epoch {:>2}, CIFAR-10 Batch {}:  '.format(epoch + 1, batch_i), end='')\n",
    "        print_stats(sess, batch_features, batch_labels, cost, accuracy)"
   ]
  },
  {
   "cell_type": "markdown",
   "metadata": {},
   "source": [
    "### Fully Train the Model\n",
    "Now that you got a good accuracy with a single CIFAR-10 batch, try it with all five batches."
   ]
  },
  {
   "cell_type": "code",
   "execution_count": 26,
   "metadata": {},
   "outputs": [
    {
     "name": "stdout",
     "output_type": "stream",
     "text": [
      "Training...\n",
      "Epoch  1, CIFAR-10 Batch 1:  Loss:     2.2335 Validation Accuracy: 0.115600\n",
      "Epoch  1, CIFAR-10 Batch 2:  Loss:     1.9784 Validation Accuracy: 0.256600\n",
      "Epoch  1, CIFAR-10 Batch 3:  Loss:     1.8586 Validation Accuracy: 0.293200\n",
      "Epoch  1, CIFAR-10 Batch 4:  Loss:     1.7076 Validation Accuracy: 0.340800\n",
      "Epoch  1, CIFAR-10 Batch 5:  Loss:     1.7360 Validation Accuracy: 0.385400\n",
      "Epoch  2, CIFAR-10 Batch 1:  Loss:     1.7064 Validation Accuracy: 0.414800\n",
      "Epoch  2, CIFAR-10 Batch 2:  Loss:     1.5996 Validation Accuracy: 0.428600\n",
      "Epoch  2, CIFAR-10 Batch 3:  Loss:     1.3329 Validation Accuracy: 0.446400\n",
      "Epoch  2, CIFAR-10 Batch 4:  Loss:     1.4010 Validation Accuracy: 0.462000\n",
      "Epoch  2, CIFAR-10 Batch 5:  Loss:     1.4154 Validation Accuracy: 0.477200\n",
      "Epoch  3, CIFAR-10 Batch 1:  Loss:     1.4513 Validation Accuracy: 0.485000\n",
      "Epoch  3, CIFAR-10 Batch 2:  Loss:     1.4310 Validation Accuracy: 0.488000\n",
      "Epoch  3, CIFAR-10 Batch 3:  Loss:     1.1372 Validation Accuracy: 0.497400\n",
      "Epoch  3, CIFAR-10 Batch 4:  Loss:     1.2532 Validation Accuracy: 0.506600\n",
      "Epoch  3, CIFAR-10 Batch 5:  Loss:     1.2478 Validation Accuracy: 0.523000\n",
      "Epoch  4, CIFAR-10 Batch 1:  Loss:     1.3066 Validation Accuracy: 0.529200\n",
      "Epoch  4, CIFAR-10 Batch 2:  Loss:     1.2819 Validation Accuracy: 0.519800\n",
      "Epoch  4, CIFAR-10 Batch 3:  Loss:     1.0465 Validation Accuracy: 0.523000\n",
      "Epoch  4, CIFAR-10 Batch 4:  Loss:     1.1375 Validation Accuracy: 0.541400\n",
      "Epoch  4, CIFAR-10 Batch 5:  Loss:     1.1323 Validation Accuracy: 0.547800\n",
      "Epoch  5, CIFAR-10 Batch 1:  Loss:     1.2200 Validation Accuracy: 0.537200\n",
      "Epoch  5, CIFAR-10 Batch 2:  Loss:     1.1699 Validation Accuracy: 0.548800\n",
      "Epoch  5, CIFAR-10 Batch 3:  Loss:     0.9714 Validation Accuracy: 0.551800\n",
      "Epoch  5, CIFAR-10 Batch 4:  Loss:     1.0633 Validation Accuracy: 0.555200\n",
      "Epoch  5, CIFAR-10 Batch 5:  Loss:     1.0289 Validation Accuracy: 0.567600\n",
      "Epoch  6, CIFAR-10 Batch 1:  Loss:     1.1238 Validation Accuracy: 0.554200\n",
      "Epoch  6, CIFAR-10 Batch 2:  Loss:     1.0971 Validation Accuracy: 0.573600\n",
      "Epoch  6, CIFAR-10 Batch 3:  Loss:     0.8804 Validation Accuracy: 0.565400\n",
      "Epoch  6, CIFAR-10 Batch 4:  Loss:     0.9677 Validation Accuracy: 0.582200\n",
      "Epoch  6, CIFAR-10 Batch 5:  Loss:     0.9425 Validation Accuracy: 0.584600\n",
      "Epoch  7, CIFAR-10 Batch 1:  Loss:     1.0534 Validation Accuracy: 0.575200\n",
      "Epoch  7, CIFAR-10 Batch 2:  Loss:     1.0081 Validation Accuracy: 0.587200\n",
      "Epoch  7, CIFAR-10 Batch 3:  Loss:     0.8423 Validation Accuracy: 0.587000\n",
      "Epoch  7, CIFAR-10 Batch 4:  Loss:     0.8973 Validation Accuracy: 0.594400\n",
      "Epoch  7, CIFAR-10 Batch 5:  Loss:     0.8861 Validation Accuracy: 0.597600\n",
      "Epoch  8, CIFAR-10 Batch 1:  Loss:     0.9728 Validation Accuracy: 0.588800\n",
      "Epoch  8, CIFAR-10 Batch 2:  Loss:     0.9821 Validation Accuracy: 0.591000\n",
      "Epoch  8, CIFAR-10 Batch 3:  Loss:     0.7707 Validation Accuracy: 0.601800\n",
      "Epoch  8, CIFAR-10 Batch 4:  Loss:     0.8392 Validation Accuracy: 0.608400\n",
      "Epoch  8, CIFAR-10 Batch 5:  Loss:     0.8067 Validation Accuracy: 0.610600\n",
      "Epoch  9, CIFAR-10 Batch 1:  Loss:     0.9112 Validation Accuracy: 0.603400\n",
      "Epoch  9, CIFAR-10 Batch 2:  Loss:     0.9252 Validation Accuracy: 0.590600\n",
      "Epoch  9, CIFAR-10 Batch 3:  Loss:     0.7318 Validation Accuracy: 0.600400\n",
      "Epoch  9, CIFAR-10 Batch 4:  Loss:     0.7668 Validation Accuracy: 0.619400\n",
      "Epoch  9, CIFAR-10 Batch 5:  Loss:     0.7596 Validation Accuracy: 0.624400\n",
      "Epoch 10, CIFAR-10 Batch 1:  Loss:     0.8103 Validation Accuracy: 0.616200\n",
      "Epoch 10, CIFAR-10 Batch 2:  Loss:     0.8409 Validation Accuracy: 0.612000\n",
      "Epoch 10, CIFAR-10 Batch 3:  Loss:     0.7005 Validation Accuracy: 0.606800\n",
      "Epoch 10, CIFAR-10 Batch 4:  Loss:     0.7254 Validation Accuracy: 0.617000\n",
      "Epoch 10, CIFAR-10 Batch 5:  Loss:     0.7013 Validation Accuracy: 0.627800\n",
      "Epoch 11, CIFAR-10 Batch 1:  Loss:     0.7847 Validation Accuracy: 0.618400\n",
      "Epoch 11, CIFAR-10 Batch 2:  Loss:     0.7628 Validation Accuracy: 0.622800\n",
      "Epoch 11, CIFAR-10 Batch 3:  Loss:     0.6811 Validation Accuracy: 0.603400\n",
      "Epoch 11, CIFAR-10 Batch 4:  Loss:     0.6967 Validation Accuracy: 0.619200\n",
      "Epoch 11, CIFAR-10 Batch 5:  Loss:     0.6609 Validation Accuracy: 0.636600\n",
      "Epoch 12, CIFAR-10 Batch 1:  Loss:     0.7302 Validation Accuracy: 0.630400\n",
      "Epoch 12, CIFAR-10 Batch 2:  Loss:     0.7470 Validation Accuracy: 0.615600\n",
      "Epoch 12, CIFAR-10 Batch 3:  Loss:     0.5990 Validation Accuracy: 0.628600\n",
      "Epoch 12, CIFAR-10 Batch 4:  Loss:     0.6535 Validation Accuracy: 0.635600\n",
      "Epoch 12, CIFAR-10 Batch 5:  Loss:     0.6406 Validation Accuracy: 0.631800\n",
      "Epoch 13, CIFAR-10 Batch 1:  Loss:     0.7045 Validation Accuracy: 0.636200\n",
      "Epoch 13, CIFAR-10 Batch 2:  Loss:     0.7450 Validation Accuracy: 0.606200\n",
      "Epoch 13, CIFAR-10 Batch 3:  Loss:     0.5693 Validation Accuracy: 0.629600\n",
      "Epoch 13, CIFAR-10 Batch 4:  Loss:     0.5974 Validation Accuracy: 0.628600\n",
      "Epoch 13, CIFAR-10 Batch 5:  Loss:     0.5533 Validation Accuracy: 0.648800\n",
      "Epoch 14, CIFAR-10 Batch 1:  Loss:     0.6658 Validation Accuracy: 0.634400\n",
      "Epoch 14, CIFAR-10 Batch 2:  Loss:     0.7418 Validation Accuracy: 0.618200\n",
      "Epoch 14, CIFAR-10 Batch 3:  Loss:     0.5548 Validation Accuracy: 0.636400\n",
      "Epoch 14, CIFAR-10 Batch 4:  Loss:     0.5390 Validation Accuracy: 0.647200\n",
      "Epoch 14, CIFAR-10 Batch 5:  Loss:     0.5031 Validation Accuracy: 0.655800\n",
      "Epoch 15, CIFAR-10 Batch 1:  Loss:     0.6428 Validation Accuracy: 0.629400\n",
      "Epoch 15, CIFAR-10 Batch 2:  Loss:     0.6719 Validation Accuracy: 0.633200\n",
      "Epoch 15, CIFAR-10 Batch 3:  Loss:     0.5117 Validation Accuracy: 0.641200\n",
      "Epoch 15, CIFAR-10 Batch 4:  Loss:     0.5321 Validation Accuracy: 0.642400\n",
      "Epoch 15, CIFAR-10 Batch 5:  Loss:     0.4930 Validation Accuracy: 0.652000\n",
      "Epoch 16, CIFAR-10 Batch 1:  Loss:     0.6358 Validation Accuracy: 0.621800\n",
      "Epoch 16, CIFAR-10 Batch 2:  Loss:     0.6294 Validation Accuracy: 0.618800\n",
      "Epoch 16, CIFAR-10 Batch 3:  Loss:     0.4759 Validation Accuracy: 0.636200\n",
      "Epoch 16, CIFAR-10 Batch 4:  Loss:     0.5027 Validation Accuracy: 0.643200\n",
      "Epoch 16, CIFAR-10 Batch 5:  Loss:     0.4485 Validation Accuracy: 0.657200\n",
      "Epoch 17, CIFAR-10 Batch 1:  Loss:     0.5787 Validation Accuracy: 0.636800\n",
      "Epoch 17, CIFAR-10 Batch 2:  Loss:     0.5807 Validation Accuracy: 0.630400\n",
      "Epoch 17, CIFAR-10 Batch 3:  Loss:     0.4468 Validation Accuracy: 0.637600\n",
      "Epoch 17, CIFAR-10 Batch 4:  Loss:     0.4864 Validation Accuracy: 0.634800\n",
      "Epoch 17, CIFAR-10 Batch 5:  Loss:     0.4169 Validation Accuracy: 0.658400\n",
      "Epoch 18, CIFAR-10 Batch 1:  Loss:     0.5626 Validation Accuracy: 0.631400\n",
      "Epoch 18, CIFAR-10 Batch 2:  Loss:     0.5629 Validation Accuracy: 0.627600\n",
      "Epoch 18, CIFAR-10 Batch 3:  Loss:     0.4293 Validation Accuracy: 0.641800\n",
      "Epoch 18, CIFAR-10 Batch 4:  Loss:     0.4410 Validation Accuracy: 0.640200\n",
      "Epoch 18, CIFAR-10 Batch 5:  Loss:     0.3990 Validation Accuracy: 0.654400\n",
      "Epoch 19, CIFAR-10 Batch 1:  Loss:     0.4930 Validation Accuracy: 0.643600\n",
      "Epoch 19, CIFAR-10 Batch 2:  Loss:     0.5054 Validation Accuracy: 0.636200\n",
      "Epoch 19, CIFAR-10 Batch 3:  Loss:     0.3889 Validation Accuracy: 0.652400\n",
      "Epoch 19, CIFAR-10 Batch 4:  Loss:     0.4013 Validation Accuracy: 0.646200\n",
      "Epoch 19, CIFAR-10 Batch 5:  Loss:     0.4010 Validation Accuracy: 0.644200\n",
      "Epoch 20, CIFAR-10 Batch 1:  Loss:     0.4653 Validation Accuracy: 0.650600\n",
      "Epoch 20, CIFAR-10 Batch 2:  Loss:     0.4850 Validation Accuracy: 0.629800\n",
      "Epoch 20, CIFAR-10 Batch 3:  Loss:     0.3879 Validation Accuracy: 0.636800\n",
      "Epoch 20, CIFAR-10 Batch 4:  Loss:     0.3838 Validation Accuracy: 0.640200\n",
      "Epoch 20, CIFAR-10 Batch 5:  Loss:     0.3568 Validation Accuracy: 0.660200\n",
      "Epoch 21, CIFAR-10 Batch 1:  Loss:     0.4480 Validation Accuracy: 0.655600\n",
      "Epoch 21, CIFAR-10 Batch 2:  Loss:     0.4305 Validation Accuracy: 0.645200\n",
      "Epoch 21, CIFAR-10 Batch 3:  Loss:     0.3864 Validation Accuracy: 0.636000\n",
      "Epoch 21, CIFAR-10 Batch 4:  Loss:     0.3301 Validation Accuracy: 0.650800\n",
      "Epoch 21, CIFAR-10 Batch 5:  Loss:     0.3429 Validation Accuracy: 0.657400\n",
      "Epoch 22, CIFAR-10 Batch 1:  Loss:     0.4225 Validation Accuracy: 0.653600\n",
      "Epoch 22, CIFAR-10 Batch 2:  Loss:     0.3867 Validation Accuracy: 0.641000\n",
      "Epoch 22, CIFAR-10 Batch 3:  Loss:     0.3370 Validation Accuracy: 0.637800\n"
     ]
    },
    {
     "name": "stdout",
     "output_type": "stream",
     "text": [
      "Epoch 22, CIFAR-10 Batch 4:  Loss:     0.2826 Validation Accuracy: 0.650800\n",
      "Epoch 22, CIFAR-10 Batch 5:  Loss:     0.3323 Validation Accuracy: 0.654200\n",
      "Epoch 23, CIFAR-10 Batch 1:  Loss:     0.3852 Validation Accuracy: 0.648800\n",
      "Epoch 23, CIFAR-10 Batch 2:  Loss:     0.3607 Validation Accuracy: 0.644200\n",
      "Epoch 23, CIFAR-10 Batch 3:  Loss:     0.3438 Validation Accuracy: 0.626600\n",
      "Epoch 23, CIFAR-10 Batch 4:  Loss:     0.3291 Validation Accuracy: 0.640400\n",
      "Epoch 23, CIFAR-10 Batch 5:  Loss:     0.3092 Validation Accuracy: 0.662000\n",
      "Epoch 24, CIFAR-10 Batch 1:  Loss:     0.3457 Validation Accuracy: 0.664000\n",
      "Epoch 24, CIFAR-10 Batch 2:  Loss:     0.3726 Validation Accuracy: 0.635800\n",
      "Epoch 24, CIFAR-10 Batch 3:  Loss:     0.3354 Validation Accuracy: 0.624600\n",
      "Epoch 24, CIFAR-10 Batch 4:  Loss:     0.3232 Validation Accuracy: 0.623600\n",
      "Epoch 24, CIFAR-10 Batch 5:  Loss:     0.2775 Validation Accuracy: 0.670200\n",
      "Epoch 25, CIFAR-10 Batch 1:  Loss:     0.3334 Validation Accuracy: 0.667200\n",
      "Epoch 25, CIFAR-10 Batch 2:  Loss:     0.3525 Validation Accuracy: 0.634600\n",
      "Epoch 25, CIFAR-10 Batch 3:  Loss:     0.3254 Validation Accuracy: 0.617600\n",
      "Epoch 25, CIFAR-10 Batch 4:  Loss:     0.3093 Validation Accuracy: 0.630200\n",
      "Epoch 25, CIFAR-10 Batch 5:  Loss:     0.2723 Validation Accuracy: 0.655000\n",
      "Epoch 26, CIFAR-10 Batch 1:  Loss:     0.3061 Validation Accuracy: 0.663800\n",
      "Epoch 26, CIFAR-10 Batch 2:  Loss:     0.3328 Validation Accuracy: 0.634400\n",
      "Epoch 26, CIFAR-10 Batch 3:  Loss:     0.3230 Validation Accuracy: 0.626800\n",
      "Epoch 26, CIFAR-10 Batch 4:  Loss:     0.2963 Validation Accuracy: 0.636600\n",
      "Epoch 26, CIFAR-10 Batch 5:  Loss:     0.2731 Validation Accuracy: 0.650800\n",
      "Epoch 27, CIFAR-10 Batch 1:  Loss:     0.2988 Validation Accuracy: 0.662200\n",
      "Epoch 27, CIFAR-10 Batch 2:  Loss:     0.2755 Validation Accuracy: 0.645000\n",
      "Epoch 27, CIFAR-10 Batch 3:  Loss:     0.2684 Validation Accuracy: 0.643600\n",
      "Epoch 27, CIFAR-10 Batch 4:  Loss:     0.2300 Validation Accuracy: 0.649600\n",
      "Epoch 27, CIFAR-10 Batch 5:  Loss:     0.2352 Validation Accuracy: 0.655800\n",
      "Epoch 28, CIFAR-10 Batch 1:  Loss:     0.2799 Validation Accuracy: 0.653800\n",
      "Epoch 28, CIFAR-10 Batch 2:  Loss:     0.2845 Validation Accuracy: 0.644400\n",
      "Epoch 28, CIFAR-10 Batch 3:  Loss:     0.2873 Validation Accuracy: 0.642400\n",
      "Epoch 28, CIFAR-10 Batch 4:  Loss:     0.2297 Validation Accuracy: 0.646400\n",
      "Epoch 28, CIFAR-10 Batch 5:  Loss:     0.2490 Validation Accuracy: 0.645000\n",
      "Epoch 29, CIFAR-10 Batch 1:  Loss:     0.2601 Validation Accuracy: 0.654600\n",
      "Epoch 29, CIFAR-10 Batch 2:  Loss:     0.2653 Validation Accuracy: 0.650800\n",
      "Epoch 29, CIFAR-10 Batch 3:  Loss:     0.2754 Validation Accuracy: 0.632800\n",
      "Epoch 29, CIFAR-10 Batch 4:  Loss:     0.2306 Validation Accuracy: 0.643800\n",
      "Epoch 29, CIFAR-10 Batch 5:  Loss:     0.2722 Validation Accuracy: 0.640400\n",
      "Epoch 30, CIFAR-10 Batch 1:  Loss:     0.2962 Validation Accuracy: 0.633400\n",
      "Epoch 30, CIFAR-10 Batch 2:  Loss:     0.2626 Validation Accuracy: 0.649200\n",
      "Epoch 30, CIFAR-10 Batch 3:  Loss:     0.2649 Validation Accuracy: 0.633200\n",
      "Epoch 30, CIFAR-10 Batch 4:  Loss:     0.2116 Validation Accuracy: 0.649600\n",
      "Epoch 30, CIFAR-10 Batch 5:  Loss:     0.2519 Validation Accuracy: 0.644600\n",
      "Epoch 31, CIFAR-10 Batch 1:  Loss:     0.2874 Validation Accuracy: 0.624800\n",
      "Epoch 31, CIFAR-10 Batch 2:  Loss:     0.2593 Validation Accuracy: 0.642200\n",
      "Epoch 31, CIFAR-10 Batch 3:  Loss:     0.2326 Validation Accuracy: 0.629200\n",
      "Epoch 31, CIFAR-10 Batch 4:  Loss:     0.2004 Validation Accuracy: 0.648800\n",
      "Epoch 31, CIFAR-10 Batch 5:  Loss:     0.1988 Validation Accuracy: 0.656200\n",
      "Epoch 32, CIFAR-10 Batch 1:  Loss:     0.3012 Validation Accuracy: 0.613200\n",
      "Epoch 32, CIFAR-10 Batch 2:  Loss:     0.2773 Validation Accuracy: 0.630400\n",
      "Epoch 32, CIFAR-10 Batch 3:  Loss:     0.2468 Validation Accuracy: 0.622400\n",
      "Epoch 32, CIFAR-10 Batch 4:  Loss:     0.2010 Validation Accuracy: 0.642800\n",
      "Epoch 32, CIFAR-10 Batch 5:  Loss:     0.1852 Validation Accuracy: 0.656000\n",
      "Epoch 33, CIFAR-10 Batch 1:  Loss:     0.2455 Validation Accuracy: 0.629600\n",
      "Epoch 33, CIFAR-10 Batch 2:  Loss:     0.3032 Validation Accuracy: 0.628600\n",
      "Epoch 33, CIFAR-10 Batch 3:  Loss:     0.2503 Validation Accuracy: 0.634200\n",
      "Epoch 33, CIFAR-10 Batch 4:  Loss:     0.1915 Validation Accuracy: 0.644800\n",
      "Epoch 33, CIFAR-10 Batch 5:  Loss:     0.1750 Validation Accuracy: 0.637400\n",
      "Epoch 34, CIFAR-10 Batch 1:  Loss:     0.2416 Validation Accuracy: 0.644400\n",
      "Epoch 34, CIFAR-10 Batch 2:  Loss:     0.2669 Validation Accuracy: 0.645000\n",
      "Epoch 34, CIFAR-10 Batch 3:  Loss:     0.1781 Validation Accuracy: 0.652600\n",
      "Epoch 34, CIFAR-10 Batch 4:  Loss:     0.1630 Validation Accuracy: 0.645800\n",
      "Epoch 34, CIFAR-10 Batch 5:  Loss:     0.1493 Validation Accuracy: 0.655000\n",
      "Epoch 35, CIFAR-10 Batch 1:  Loss:     0.2372 Validation Accuracy: 0.660200\n",
      "Epoch 35, CIFAR-10 Batch 2:  Loss:     0.2353 Validation Accuracy: 0.653400\n",
      "Epoch 35, CIFAR-10 Batch 3:  Loss:     0.1512 Validation Accuracy: 0.647800\n",
      "Epoch 35, CIFAR-10 Batch 4:  Loss:     0.1610 Validation Accuracy: 0.631800\n",
      "Epoch 35, CIFAR-10 Batch 5:  Loss:     0.1454 Validation Accuracy: 0.652600\n",
      "Epoch 36, CIFAR-10 Batch 1:  Loss:     0.1908 Validation Accuracy: 0.650600\n",
      "Epoch 36, CIFAR-10 Batch 2:  Loss:     0.2303 Validation Accuracy: 0.646800\n",
      "Epoch 36, CIFAR-10 Batch 3:  Loss:     0.1665 Validation Accuracy: 0.634800\n",
      "Epoch 36, CIFAR-10 Batch 4:  Loss:     0.1376 Validation Accuracy: 0.647200\n",
      "Epoch 36, CIFAR-10 Batch 5:  Loss:     0.1336 Validation Accuracy: 0.652000\n",
      "Epoch 37, CIFAR-10 Batch 1:  Loss:     0.2038 Validation Accuracy: 0.653400\n",
      "Epoch 37, CIFAR-10 Batch 2:  Loss:     0.1877 Validation Accuracy: 0.651400\n",
      "Epoch 37, CIFAR-10 Batch 3:  Loss:     0.1355 Validation Accuracy: 0.646200\n",
      "Epoch 37, CIFAR-10 Batch 4:  Loss:     0.1309 Validation Accuracy: 0.646600\n",
      "Epoch 37, CIFAR-10 Batch 5:  Loss:     0.1213 Validation Accuracy: 0.657200\n",
      "Epoch 38, CIFAR-10 Batch 1:  Loss:     0.1669 Validation Accuracy: 0.655800\n",
      "Epoch 38, CIFAR-10 Batch 2:  Loss:     0.2077 Validation Accuracy: 0.647800\n",
      "Epoch 38, CIFAR-10 Batch 3:  Loss:     0.1386 Validation Accuracy: 0.641400\n",
      "Epoch 38, CIFAR-10 Batch 4:  Loss:     0.1165 Validation Accuracy: 0.641400\n",
      "Epoch 38, CIFAR-10 Batch 5:  Loss:     0.1445 Validation Accuracy: 0.650600\n",
      "Epoch 39, CIFAR-10 Batch 1:  Loss:     0.1561 Validation Accuracy: 0.649000\n",
      "Epoch 39, CIFAR-10 Batch 2:  Loss:     0.1185 Validation Accuracy: 0.660600\n",
      "Epoch 39, CIFAR-10 Batch 3:  Loss:     0.1114 Validation Accuracy: 0.647600\n",
      "Epoch 39, CIFAR-10 Batch 4:  Loss:     0.1074 Validation Accuracy: 0.637400\n",
      "Epoch 39, CIFAR-10 Batch 5:  Loss:     0.1182 Validation Accuracy: 0.644000\n",
      "Epoch 40, CIFAR-10 Batch 1:  Loss:     0.1901 Validation Accuracy: 0.647400\n",
      "Epoch 40, CIFAR-10 Batch 2:  Loss:     0.1590 Validation Accuracy: 0.646200\n",
      "Epoch 40, CIFAR-10 Batch 3:  Loss:     0.1023 Validation Accuracy: 0.650200\n",
      "Epoch 40, CIFAR-10 Batch 4:  Loss:     0.1063 Validation Accuracy: 0.637600\n",
      "Epoch 40, CIFAR-10 Batch 5:  Loss:     0.1793 Validation Accuracy: 0.627200\n",
      "Epoch 41, CIFAR-10 Batch 1:  Loss:     0.1827 Validation Accuracy: 0.642400\n",
      "Epoch 41, CIFAR-10 Batch 2:  Loss:     0.1230 Validation Accuracy: 0.655800\n",
      "Epoch 41, CIFAR-10 Batch 3:  Loss:     0.0828 Validation Accuracy: 0.657400\n",
      "Epoch 41, CIFAR-10 Batch 4:  Loss:     0.0878 Validation Accuracy: 0.649000\n",
      "Epoch 41, CIFAR-10 Batch 5:  Loss:     0.1454 Validation Accuracy: 0.635000\n",
      "Epoch 42, CIFAR-10 Batch 1:  Loss:     0.1595 Validation Accuracy: 0.646200\n",
      "Epoch 42, CIFAR-10 Batch 2:  Loss:     0.1268 Validation Accuracy: 0.646600\n",
      "Epoch 42, CIFAR-10 Batch 3:  Loss:     0.0931 Validation Accuracy: 0.649400\n",
      "Epoch 42, CIFAR-10 Batch 4:  Loss:     0.0851 Validation Accuracy: 0.649800\n",
      "Epoch 42, CIFAR-10 Batch 5:  Loss:     0.1458 Validation Accuracy: 0.636800\n",
      "Epoch 43, CIFAR-10 Batch 1:  Loss:     0.1867 Validation Accuracy: 0.635000\n",
      "Epoch 43, CIFAR-10 Batch 2:  Loss:     0.1543 Validation Accuracy: 0.634200\n",
      "Epoch 43, CIFAR-10 Batch 3:  Loss:     0.1162 Validation Accuracy: 0.645600\n",
      "Epoch 43, CIFAR-10 Batch 4:  Loss:     0.0863 Validation Accuracy: 0.651400\n",
      "Epoch 43, CIFAR-10 Batch 5:  Loss:     0.1194 Validation Accuracy: 0.647000\n",
      "Epoch 44, CIFAR-10 Batch 1:  Loss:     0.2036 Validation Accuracy: 0.637400\n"
     ]
    },
    {
     "name": "stdout",
     "output_type": "stream",
     "text": [
      "Epoch 44, CIFAR-10 Batch 2:  Loss:     0.1260 Validation Accuracy: 0.642000\n",
      "Epoch 44, CIFAR-10 Batch 3:  Loss:     0.1237 Validation Accuracy: 0.644200\n",
      "Epoch 44, CIFAR-10 Batch 4:  Loss:     0.1101 Validation Accuracy: 0.638000\n",
      "Epoch 44, CIFAR-10 Batch 5:  Loss:     0.1009 Validation Accuracy: 0.647800\n",
      "Epoch 45, CIFAR-10 Batch 1:  Loss:     0.1663 Validation Accuracy: 0.636000\n",
      "Epoch 45, CIFAR-10 Batch 2:  Loss:     0.1277 Validation Accuracy: 0.647600\n",
      "Epoch 45, CIFAR-10 Batch 3:  Loss:     0.1002 Validation Accuracy: 0.656800\n",
      "Epoch 45, CIFAR-10 Batch 4:  Loss:     0.0877 Validation Accuracy: 0.635000\n",
      "Epoch 45, CIFAR-10 Batch 5:  Loss:     0.1071 Validation Accuracy: 0.647400\n",
      "Epoch 46, CIFAR-10 Batch 1:  Loss:     0.1567 Validation Accuracy: 0.643800\n",
      "Epoch 46, CIFAR-10 Batch 2:  Loss:     0.1002 Validation Accuracy: 0.644000\n",
      "Epoch 46, CIFAR-10 Batch 3:  Loss:     0.1085 Validation Accuracy: 0.641800\n",
      "Epoch 46, CIFAR-10 Batch 4:  Loss:     0.0679 Validation Accuracy: 0.641800\n",
      "Epoch 46, CIFAR-10 Batch 5:  Loss:     0.0975 Validation Accuracy: 0.647600\n",
      "Epoch 47, CIFAR-10 Batch 1:  Loss:     0.1392 Validation Accuracy: 0.651000\n",
      "Epoch 47, CIFAR-10 Batch 2:  Loss:     0.0789 Validation Accuracy: 0.655400\n",
      "Epoch 47, CIFAR-10 Batch 3:  Loss:     0.0698 Validation Accuracy: 0.655600\n",
      "Epoch 47, CIFAR-10 Batch 4:  Loss:     0.0819 Validation Accuracy: 0.639000\n",
      "Epoch 47, CIFAR-10 Batch 5:  Loss:     0.0831 Validation Accuracy: 0.640800\n",
      "Epoch 48, CIFAR-10 Batch 1:  Loss:     0.1021 Validation Accuracy: 0.652000\n",
      "Epoch 48, CIFAR-10 Batch 2:  Loss:     0.0855 Validation Accuracy: 0.648400\n",
      "Epoch 48, CIFAR-10 Batch 3:  Loss:     0.0668 Validation Accuracy: 0.652600\n",
      "Epoch 48, CIFAR-10 Batch 4:  Loss:     0.0761 Validation Accuracy: 0.628600\n",
      "Epoch 48, CIFAR-10 Batch 5:  Loss:     0.0681 Validation Accuracy: 0.639200\n",
      "Epoch 49, CIFAR-10 Batch 1:  Loss:     0.0986 Validation Accuracy: 0.648600\n",
      "Epoch 49, CIFAR-10 Batch 2:  Loss:     0.0644 Validation Accuracy: 0.656800\n",
      "Epoch 49, CIFAR-10 Batch 3:  Loss:     0.0730 Validation Accuracy: 0.653600\n",
      "Epoch 49, CIFAR-10 Batch 4:  Loss:     0.0676 Validation Accuracy: 0.638600\n",
      "Epoch 49, CIFAR-10 Batch 5:  Loss:     0.0748 Validation Accuracy: 0.637200\n",
      "Epoch 50, CIFAR-10 Batch 1:  Loss:     0.0801 Validation Accuracy: 0.648400\n",
      "Epoch 50, CIFAR-10 Batch 2:  Loss:     0.0578 Validation Accuracy: 0.646000\n",
      "Epoch 50, CIFAR-10 Batch 3:  Loss:     0.0684 Validation Accuracy: 0.659000\n",
      "Epoch 50, CIFAR-10 Batch 4:  Loss:     0.0566 Validation Accuracy: 0.647600\n",
      "Epoch 50, CIFAR-10 Batch 5:  Loss:     0.0606 Validation Accuracy: 0.645800\n"
     ]
    }
   ],
   "source": [
    "\"\"\"\n",
    "DON'T MODIFY ANYTHING IN THIS CELL\n",
    "\"\"\"\n",
    "save_model_path = './image_classification'\n",
    "\n",
    "print('Training...')\n",
    "with tf.Session() as sess:\n",
    "    # Initializing the variables\n",
    "    sess.run(tf.global_variables_initializer())\n",
    "    \n",
    "    # Training cycle\n",
    "    for epoch in range(epochs):\n",
    "        # Loop over all batches\n",
    "        n_batches = 5\n",
    "        for batch_i in range(1, n_batches + 1):\n",
    "            for batch_features, batch_labels in helper.load_preprocess_training_batch(batch_i, batch_size):\n",
    "                train_neural_network(sess, optimizer, keep_probability, batch_features, batch_labels)\n",
    "            print('Epoch {:>2}, CIFAR-10 Batch {}:  '.format(epoch + 1, batch_i), end='')\n",
    "            print_stats(sess, batch_features, batch_labels, cost, accuracy)\n",
    "            \n",
    "    # Save Model\n",
    "    saver = tf.train.Saver()\n",
    "    save_path = saver.save(sess, save_model_path)"
   ]
  },
  {
   "cell_type": "markdown",
   "metadata": {},
   "source": [
    "# Checkpoint\n",
    "The model has been saved to disk.\n",
    "## Test Model\n",
    "Test your model against the test dataset.  This will be your final accuracy. You should have an accuracy greater than 50%. If you don't, keep tweaking the model architecture and parameters."
   ]
  },
  {
   "cell_type": "code",
   "execution_count": 27,
   "metadata": {},
   "outputs": [
    {
     "name": "stdout",
     "output_type": "stream",
     "text": [
      "INFO:tensorflow:Restoring parameters from ./image_classification\n",
      "Testing Accuracy: 0.6527975648641586\n",
      "\n"
     ]
    },
    {
     "data": {
      "image/png": "[encoded data removed]",
      "text/plain": [
       "<matplotlib.figure.Figure at 0x7fb015572c18>"
      ]
     },
     "metadata": {
      "image/png": {
       "height": 319,
       "width": 355
      }
     },
     "output_type": "display_data"
    }
   ],
   "source": [
    "\"\"\"\n",
    "DON'T MODIFY ANYTHING IN THIS CELL\n",
    "\"\"\"\n",
    "%matplotlib inline\n",
    "%config InlineBackend.figure_format = 'retina'\n",
    "\n",
    "import tensorflow as tf\n",
    "import pickle\n",
    "import helper\n",
    "import random\n",
    "\n",
    "# Set batch size if not already set\n",
    "try:\n",
    "    if batch_size:\n",
    "        pass\n",
    "except NameError:\n",
    "    batch_size = 64\n",
    "\n",
    "save_model_path = './image_classification'\n",
    "n_samples = 4\n",
    "top_n_predictions = 3\n",
    "\n",
    "def test_model():\n",
    "    \"\"\"\n",
    "    Test the saved model against the test dataset\n",
    "    \"\"\"\n",
    "\n",
    "    test_features, test_labels = pickle.load(open('preprocess_training.p', mode='rb'))\n",
    "    loaded_graph = tf.Graph()\n",
    "\n",
    "    with tf.Session(graph=loaded_graph) as sess:\n",
    "        # Load model\n",
    "        loader = tf.train.import_meta_graph(save_model_path + '.meta')\n",
    "        loader.restore(sess, save_model_path)\n",
    "\n",
    "        # Get Tensors from loaded model\n",
    "        loaded_x = loaded_graph.get_tensor_by_name('x:0')\n",
    "        loaded_y = loaded_graph.get_tensor_by_name('y:0')\n",
    "        loaded_keep_prob = loaded_graph.get_tensor_by_name('keep_prob:0')\n",
    "        loaded_logits = loaded_graph.get_tensor_by_name('logits:0')\n",
    "        loaded_acc = loaded_graph.get_tensor_by_name('accuracy:0')\n",
    "        \n",
    "        # Get accuracy in batches for memory limitations\n",
    "        test_batch_acc_total = 0\n",
    "        test_batch_count = 0\n",
    "        \n",
    "        for train_feature_batch, train_label_batch in helper.batch_features_labels(test_features, test_labels, batch_size):\n",
    "            test_batch_acc_total += sess.run(\n",
    "                loaded_acc,\n",
    "                feed_dict={loaded_x: train_feature_batch, loaded_y: train_label_batch, loaded_keep_prob: 1.0})\n",
    "            test_batch_count += 1\n",
    "\n",
    "        print('Testing Accuracy: {}\\n'.format(test_batch_acc_total/test_batch_count))\n",
    "\n",
    "        # Print Random Samples\n",
    "        random_test_features, random_test_labels = tuple(zip(*random.sample(list(zip(test_features, test_labels)), n_samples)))\n",
    "        random_test_predictions = sess.run(\n",
    "            tf.nn.top_k(tf.nn.softmax(loaded_logits), top_n_predictions),\n",
    "            feed_dict={loaded_x: random_test_features, loaded_y: random_test_labels, loaded_keep_prob: 1.0})\n",
    "        helper.display_image_predictions(random_test_features, random_test_labels, random_test_predictions)\n",
    "\n",
    "\n",
    "test_model()"
   ]
  },
  {
   "cell_type": "markdown",
   "metadata": {},
   "source": [
    "## Why 50-80% Accuracy?\n",
    "You might be wondering why you can't get an accuracy any higher. First things first, 50% isn't bad for a simple CNN.  Pure guessing would get you 10% accuracy. However, you might notice people are getting scores [well above 80%](http://rodrigob.github.io/are_we_there_yet/build/classification_datasets_results.html#43494641522d3130).  That's because we haven't taught you all there is to know about neural networks. We still need to cover a few more techniques.\n",
    "## Submitting This Project\n",
    "When submitting this project, make sure to run all the cells before saving the notebook.  Save the notebook file as \"dlnd_image_classification.ipynb\" and save it as a HTML file under \"File\" -> \"Download as\".  Include the \"helper.py\" and \"problem_unittests.py\" files in your submission."
   ]
  },
  {
   "cell_type": "markdown",
   "metadata": {
    "collapsed": true
   },
   "source": [
    "# This is my best accuracy that i got.But in cov_net function, I didnt use fully_conn layer. On using that in each iteration accuracy was getting down."
   ]
  },
  {
   "cell_type": "code",
   "execution_count": null,
   "metadata": {
    "collapsed": true
   },
   "outputs": [],
   "source": []
  }
 ],
 "metadata": {
  "kernelspec": {
   "display_name": "Python 3",
   "language": "python",
   "name": "python3"
  },
  "language_info": {
   "codemirror_mode": {
    "name": "ipython",
    "version": 3
   },
   "file_extension": ".py",
   "mimetype": "text/x-python",
   "name": "python",
   "nbconvert_exporter": "python",
   "pygments_lexer": "ipython3",
   "version": "3.5.3"
  }
 },
 "nbformat": 4,
 "nbformat_minor": 1
}
